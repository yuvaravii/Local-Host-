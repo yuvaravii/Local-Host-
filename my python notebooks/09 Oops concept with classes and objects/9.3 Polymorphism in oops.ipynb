{
 "cells": [
  {
   "cell_type": "markdown",
   "metadata": {},
   "source": [
    "## Polymorphism in python\n",
    "\n",
    "- What is polymorphism ? How and why is it used ??\n",
    "    - Poly : Many , morph : forms --> as the name suggests a objects of different classes can be treated as some common super class.\n",
    "    - It can be also viewed as overriding --> meaning the existing function of parent class is overridden by a child class for a specific use case\n",
    "    - Overshadowing the parent class with a child class so it becomes more specific. "
   ]
  },
  {
   "cell_type": "code",
   "execution_count": 1,
   "metadata": {},
   "outputs": [],
   "source": [
    "# parent class 1\n",
    "class ShapeArea:\n",
    "    def get_area(self):\n",
    "        return \"Mention the shape\"\n",
    "\n",
    "# child class 1\n",
    "class Rectangle(ShapeArea):   # inheritance \n",
    "    def __init__(self,width,height):\n",
    "        self.width = width\n",
    "        self.height = height\n",
    "\n",
    "    def get_area(self):                 # function with same name but different output and process --> polymorphism\n",
    "        return self.width*self.height\n",
    "    \n",
    "\n",
    "# child class 2\n",
    "class Circle(ShapeArea):   # inheritance\n",
    "    def __init__(self, radius):\n",
    "        self.radius = radius\n",
    "\n",
    "    def get_area(self):\n",
    "        return 3.14*self.radius*self.radius\n",
    "\n",
    "# Child class 3\n",
    "class Square(ShapeArea):\n",
    "    def __init__(self,side_length):\n",
    "        self.side_length =   side_length\n",
    "\n",
    "    def get_area(self):\n",
    "        return self.side_length*self.side_length"
   ]
  },
  {
   "cell_type": "code",
   "execution_count": 2,
   "metadata": {},
   "outputs": [],
   "source": [
    "rec = Rectangle(4,5)\n",
    "sqr = Square(4)\n",
    "cir = Circle(10)"
   ]
  },
  {
   "cell_type": "code",
   "execution_count": 3,
   "metadata": {},
   "outputs": [
    {
     "name": "stdout",
     "output_type": "stream",
     "text": [
      "Area of rectangle : 20\n",
      "Area of square : 16\n",
      "Area of circle : 314.0\n"
     ]
    }
   ],
   "source": [
    "print(f\"Area of rectangle : {rec.get_area()}\")\n",
    "print(f\"Area of square : {sqr.get_area()}\")\n",
    "print(f\"Area of circle : {cir.get_area()}\")"
   ]
  },
  {
   "cell_type": "markdown",
   "metadata": {},
   "source": [
    "## Polymorphism with Abstract base classes\n",
    "- What is abstract base classes ? why and how is it used ?\n",
    "    - Abstract is anything that cant be seen but felt similarly here the names may be same but the inherent formula could be different and could result in different output.\n",
    "    - Abstract base classes as name defined is a empty class used to bring groups under one umbrella.\n",
    "    - WHY ??\n",
    "        - It's helpful to group the similar calls or requests under one class or umbrella\n",
    "        - This enables for efficient handling of functions.\n",
    "        - This let's the specialized output for same call.\n",
    "    - HOW ??\n",
    "        - using package : abc and abstractmethod"
   ]
  },
  {
   "cell_type": "code",
   "execution_count": 4,
   "metadata": {},
   "outputs": [],
   "source": [
    "from abc import ABC,abstractmethod\n",
    "\n",
    "# creating an abstract parent class\n",
    "class Vehicle(ABC):\n",
    "    @abstractmethod\n",
    "    def start_engine(self):\n",
    "        return \"The engine has started\"\n",
    "    \n",
    "# child class 1\n",
    "class Car(ABC):\n",
    "    def start_engine(self):\n",
    "        return \"Car started burrrr.......\"\n",
    "    \n",
    "# child class 2\n",
    "class MotorBike(ABC):\n",
    "    def start_engine(self):\n",
    "        return \"MotorBike started durrrr......\"\n",
    "    \n"
   ]
  },
  {
   "cell_type": "code",
   "execution_count": 5,
   "metadata": {},
   "outputs": [
    {
     "name": "stdout",
     "output_type": "stream",
     "text": [
      "Car started burrrr.......\n",
      "MotorBike started durrrr......\n"
     ]
    }
   ],
   "source": [
    "car1 = Car()\n",
    "mb1 = MotorBike()\n",
    "\n",
    "print(car1.start_engine())\n",
    "print(mb1.start_engine())"
   ]
  },
  {
   "cell_type": "code",
   "execution_count": null,
   "metadata": {},
   "outputs": [],
   "source": []
  }
 ],
 "metadata": {
  "kernelspec": {
   "display_name": "Python 3",
   "language": "python",
   "name": "python3"
  },
  "language_info": {
   "codemirror_mode": {
    "name": "ipython",
    "version": 3
   },
   "file_extension": ".py",
   "mimetype": "text/x-python",
   "name": "python",
   "nbconvert_exporter": "python",
   "pygments_lexer": "ipython3",
   "version": "3.10.14"
  }
 },
 "nbformat": 4,
 "nbformat_minor": 2
}
