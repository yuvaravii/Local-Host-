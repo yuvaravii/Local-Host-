{
 "cells": [
  {
   "cell_type": "markdown",
   "metadata": {},
   "source": [
    "# Classes & Objects"
   ]
  },
  {
   "cell_type": "code",
   "execution_count": 1,
   "metadata": {},
   "outputs": [],
   "source": [
    "class Car:\n",
    "    pass"
   ]
  },
  {
   "cell_type": "code",
   "execution_count": 2,
   "metadata": {},
   "outputs": [
    {
     "data": {
      "text/plain": [
       "['__class__',\n",
       " '__delattr__',\n",
       " '__dict__',\n",
       " '__dir__',\n",
       " '__doc__',\n",
       " '__eq__',\n",
       " '__format__',\n",
       " '__ge__',\n",
       " '__getattribute__',\n",
       " '__gt__',\n",
       " '__hash__',\n",
       " '__init__',\n",
       " '__init_subclass__',\n",
       " '__le__',\n",
       " '__lt__',\n",
       " '__module__',\n",
       " '__ne__',\n",
       " '__new__',\n",
       " '__reduce__',\n",
       " '__reduce_ex__',\n",
       " '__repr__',\n",
       " '__setattr__',\n",
       " '__sizeof__',\n",
       " '__str__',\n",
       " '__subclasshook__',\n",
       " '__weakref__']"
      ]
     },
     "execution_count": 2,
     "metadata": {},
     "output_type": "execute_result"
    }
   ],
   "source": [
    "dir(Car)"
   ]
  },
  {
   "cell_type": "code",
   "execution_count": 4,
   "metadata": {},
   "outputs": [],
   "source": [
    "car1 = Car()\n",
    "type(car1)\n",
    "car1.doors = 4"
   ]
  },
  {
   "cell_type": "code",
   "execution_count": 5,
   "metadata": {},
   "outputs": [
    {
     "name": "stdout",
     "output_type": "stream",
     "text": [
      "Number of doors in car1 : 4\n"
     ]
    }
   ],
   "source": [
    "print(f\"Number of doors in car1 : {car1.doors}\")"
   ]
  },
  {
   "cell_type": "code",
   "execution_count": 10,
   "metadata": {},
   "outputs": [
    {
     "data": {
      "text/plain": [
       "['__class__',\n",
       " '__delattr__',\n",
       " '__dict__',\n",
       " '__dir__',\n",
       " '__doc__',\n",
       " '__eq__',\n",
       " '__format__',\n",
       " '__ge__',\n",
       " '__getattribute__',\n",
       " '__gt__',\n",
       " '__hash__',\n",
       " '__init__',\n",
       " '__init_subclass__',\n",
       " '__le__',\n",
       " '__lt__',\n",
       " '__module__',\n",
       " '__ne__',\n",
       " '__new__',\n",
       " '__reduce__',\n",
       " '__reduce_ex__',\n",
       " '__repr__',\n",
       " '__setattr__',\n",
       " '__sizeof__',\n",
       " '__str__',\n",
       " '__subclasshook__',\n",
       " '__weakref__',\n",
       " 'doors']"
      ]
     },
     "execution_count": 10,
     "metadata": {},
     "output_type": "execute_result"
    }
   ],
   "source": [
    "dir(car1)"
   ]
  },
  {
   "cell_type": "code",
   "execution_count": 11,
   "metadata": {},
   "outputs": [
    {
     "data": {
      "text/plain": [
       "['__class__',\n",
       " '__delattr__',\n",
       " '__dict__',\n",
       " '__dir__',\n",
       " '__doc__',\n",
       " '__eq__',\n",
       " '__format__',\n",
       " '__ge__',\n",
       " '__getattribute__',\n",
       " '__gt__',\n",
       " '__hash__',\n",
       " '__init__',\n",
       " '__init_subclass__',\n",
       " '__le__',\n",
       " '__lt__',\n",
       " '__module__',\n",
       " '__ne__',\n",
       " '__new__',\n",
       " '__reduce__',\n",
       " '__reduce_ex__',\n",
       " '__repr__',\n",
       " '__setattr__',\n",
       " '__sizeof__',\n",
       " '__str__',\n",
       " '__subclasshook__',\n",
       " '__weakref__']"
      ]
     },
     "execution_count": 11,
     "metadata": {},
     "output_type": "execute_result"
    }
   ],
   "source": [
    "car2 = Car()\n",
    "dir(car2)"
   ]
  },
  {
   "cell_type": "code",
   "execution_count": 17,
   "metadata": {},
   "outputs": [],
   "source": [
    "## New class\n",
    "class Car:\n",
    "    # attributes \n",
    "    def __init__(self,doors,windows,fuel_type):\n",
    "        self.doors= doors\n",
    "        self.windows =  windows\n",
    "        self.fuel_type = fuel_type\n",
    "\n",
    "    # Functions\n",
    "    def get_info(self):\n",
    "        return f\"windows count : {self.windows} , doors count : {self.doors} , fuel type : {self.fuel_type}\"\n",
    "    "
   ]
  },
  {
   "cell_type": "code",
   "execution_count": 18,
   "metadata": {},
   "outputs": [
    {
     "data": {
      "text/plain": [
       "['__class__',\n",
       " '__delattr__',\n",
       " '__dict__',\n",
       " '__dir__',\n",
       " '__doc__',\n",
       " '__eq__',\n",
       " '__format__',\n",
       " '__ge__',\n",
       " '__getattribute__',\n",
       " '__gt__',\n",
       " '__hash__',\n",
       " '__init__',\n",
       " '__init_subclass__',\n",
       " '__le__',\n",
       " '__lt__',\n",
       " '__module__',\n",
       " '__ne__',\n",
       " '__new__',\n",
       " '__reduce__',\n",
       " '__reduce_ex__',\n",
       " '__repr__',\n",
       " '__setattr__',\n",
       " '__sizeof__',\n",
       " '__str__',\n",
       " '__subclasshook__',\n",
       " '__weakref__',\n",
       " 'doors',\n",
       " 'fuel_type',\n",
       " 'get_info',\n",
       " 'windows']"
      ]
     },
     "execution_count": 18,
     "metadata": {},
     "output_type": "execute_result"
    }
   ],
   "source": [
    "car3 = Car(4,4,\"ElectricType\")\n",
    "dir(car3)"
   ]
  },
  {
   "cell_type": "code",
   "execution_count": 19,
   "metadata": {},
   "outputs": [
    {
     "data": {
      "text/plain": [
       "'windows count : 4 , doors count : 4 , fuel type : ElectricType'"
      ]
     },
     "execution_count": 19,
     "metadata": {},
     "output_type": "execute_result"
    }
   ],
   "source": [
    "car3.get_info()"
   ]
  },
  {
   "cell_type": "markdown",
   "metadata": {},
   "source": [
    "- Create Class Bank account\n",
    "- def features , owner name , bank balance, amount\n",
    "- create methods show bank balance, show amt aft deposit, show amt aft withdrawl"
   ]
  },
  {
   "cell_type": "code",
   "execution_count": 28,
   "metadata": {},
   "outputs": [],
   "source": [
    "class BankAccount:\n",
    "    def __init__(self,owner_name,bank_balance):\n",
    "        self.owner_name = owner_name\n",
    "        self.bank_balance = bank_balance\n",
    "\n",
    "    def get_balance(self):\n",
    "        return f\"Bank balance : {self.bank_balance}\"\n",
    "    \n",
    "    def deposit(self,amount):\n",
    "        self.bank_balance = self.bank_balance + amount\n",
    "        return f\"Amount deposited : {amount},Bank balance after deposit : {self.bank_balance}\"\n",
    "    \n",
    "    def withdraw(self,amount):\n",
    "        if self.bank_balance > amount:\n",
    "            self.bank_balance = self.bank_balance - amount\n",
    "            return f\"withdrawn amt : {amount},Bank balance post withdraw : {self.bank_balance}\"\n",
    "        else:\n",
    "            return f\"Withdraw declined due to insufficient bank balance\" "
   ]
  },
  {
   "cell_type": "code",
   "execution_count": 29,
   "metadata": {},
   "outputs": [],
   "source": [
    "owner1 = BankAccount(\"Tony\",1000)"
   ]
  },
  {
   "cell_type": "code",
   "execution_count": 30,
   "metadata": {},
   "outputs": [
    {
     "data": {
      "text/plain": [
       "('Tony', 1000)"
      ]
     },
     "execution_count": 30,
     "metadata": {},
     "output_type": "execute_result"
    }
   ],
   "source": [
    "owner1.owner_name, owner1.bank_balance"
   ]
  },
  {
   "cell_type": "code",
   "execution_count": 31,
   "metadata": {},
   "outputs": [
    {
     "data": {
      "text/plain": [
       "'Bank balance : 1000'"
      ]
     },
     "execution_count": 31,
     "metadata": {},
     "output_type": "execute_result"
    }
   ],
   "source": [
    "owner1.get_balance()"
   ]
  },
  {
   "cell_type": "code",
   "execution_count": 32,
   "metadata": {},
   "outputs": [
    {
     "data": {
      "text/plain": [
       "'Amount deposited : 1000,Bank balance after deposit : 2000'"
      ]
     },
     "execution_count": 32,
     "metadata": {},
     "output_type": "execute_result"
    }
   ],
   "source": [
    "owner1.deposit(1000)"
   ]
  },
  {
   "cell_type": "code",
   "execution_count": 33,
   "metadata": {},
   "outputs": [
    {
     "data": {
      "text/plain": [
       "'Withdraw declined due to insufficient bank balance'"
      ]
     },
     "execution_count": 33,
     "metadata": {},
     "output_type": "execute_result"
    }
   ],
   "source": [
    "owner1.withdraw(3000)"
   ]
  },
  {
   "cell_type": "code",
   "execution_count": 34,
   "metadata": {},
   "outputs": [
    {
     "data": {
      "text/plain": [
       "'withdrawn amt : 1500,Bank balance post withdraw : 500'"
      ]
     },
     "execution_count": 34,
     "metadata": {},
     "output_type": "execute_result"
    }
   ],
   "source": [
    "owner1.withdraw(1500)"
   ]
  },
  {
   "cell_type": "code",
   "execution_count": null,
   "metadata": {},
   "outputs": [],
   "source": []
  },
  {
   "cell_type": "markdown",
   "metadata": {},
   "source": [
    "# Inheritance :"
   ]
  },
  {
   "cell_type": "markdown",
   "metadata": {},
   "source": [
    "- (Agenda) After this tutorial you will be able to answer and build :\n",
    "    - Recall Class, attributes, methods, init, self keyword\n",
    "    - What is inheritance , why and how we use it ?\n",
    "    - Type of inheritance \n",
    "    - Ways to call single and multiple inheritance\n",
    "    - Exercise"
   ]
  },
  {
   "cell_type": "markdown",
   "metadata": {},
   "source": [
    "## Theory & Definitions\n",
    "- Inheritance \n",
    "\n",
    "- What is inheritance and why do we use it ?\n",
    "    - Inheritance : as the name suggests, here we inherit the properties, attributes and functions of another class.\n",
    "    - Type :\n",
    "        - Single inheritance : A childClass inherits from one parentClass\n",
    "        - Multiple inheritance : A childClass inherits from multiple parentClass\n",
    "    - This is similar to real world properties : children inherit the properties of parents however the vice versa isn't possible. same works with parental class and child class.\n",
    "\n",
    "    - HOW ??\n",
    "        - class childClass(parentClass)\n",
    "        - this syntax allows the childClass to inherit the attributes and functions of parentClass\n",
    "        - Here we use \"super.__init__(yourListOfAttributes in parentClass) \" to call the properties of parentClass\n",
    "            - While using super , dont use self keyword"
   ]
  },
  {
   "cell_type": "code",
   "execution_count": 40,
   "metadata": {},
   "outputs": [],
   "source": [
    "## Creating a parent class \n",
    "class Vehicle:\n",
    "    def __init__(self,wheels,windows,fuel_type):\n",
    "        self.wheels = wheels\n",
    "        self.windows = windows\n",
    "        self.fuel_type = fuel_type\n",
    "\n",
    "    def get_veh_info(self):\n",
    "        return f\"Number of wheels : {self.wheels}, No. of windows : {self.windows}, Fuel Type : {self.fuel_type}\"\n",
    "    \n",
    "# single inheritance : only one parent class \n",
    "# Child class\n",
    "class Car(Vehicle):\n",
    "    def __init__(self,wheels,windows,fuel_type,make,model,year,isAutomatic):\n",
    "        super().__init__(wheels,windows,fuel_type)  # Super() --> omit self\n",
    "        self.make = make\n",
    "        self.model = model\n",
    "        self.year = year\n",
    "        self.isAutomatic = isAutomatic\n",
    "\n",
    "    def get_car_info(self):\n",
    "        return f\"Car details : Make : {self.make}, year : {self.year}, is the car automatic : {self.isAutomatic}\""
   ]
  },
  {
   "cell_type": "code",
   "execution_count": 41,
   "metadata": {},
   "outputs": [],
   "source": [
    "car1 = Car(4,4,\"diesel\",\"toyota\",\"Camry\",2024,True)"
   ]
  },
  {
   "cell_type": "code",
   "execution_count": 44,
   "metadata": {},
   "outputs": [
    {
     "name": "stdout",
     "output_type": "stream",
     "text": [
      "Car details : Make : toyota, year : 2024, is the car automatic : True\n",
      "Vehicle class method return : Number of wheels : 4, No. of windows : 4, Fuel Type : diesel\n"
     ]
    }
   ],
   "source": [
    "## Check \n",
    "## properties of vehicles car exhibit\n",
    "print(car1.get_car_info())\n",
    "\n",
    "## methods of vehicle class inherit \n",
    "print(f\"Vehicle class method return : {car1.get_veh_info()}\")"
   ]
  },
  {
   "cell_type": "markdown",
   "metadata": {},
   "source": [
    "## Exercise 1: Create a University System\n",
    "- Create a base class Person with attributes name and age. Include a method get_info that prints out these details.\n",
    "- Create a subclass Student that inherits from Person and adds attributes student_id and major. Include a method get_student_info that prints out all the information.\n",
    "- Create another subclass Professor that inherits from Person and adds attributes employee_id and department. Include a method get_professor_info that prints out all the information."
   ]
  },
  {
   "cell_type": "code",
   "execution_count": 68,
   "metadata": {},
   "outputs": [],
   "source": [
    "# parent class\n",
    "class Person:\n",
    "    def __init__(self,name,age):\n",
    "        self.name = name \n",
    "        self.age = age\n",
    "    def get_info(self):\n",
    "        return f\"Name of person : {self.name}, Age of person : {self.age}\"\n",
    "    \n",
    "# child class 1\n",
    "class Student(Person):\n",
    "    def __init__(self,name,age,student_id,major):\n",
    "        Person.__init__(self,name,age)\n",
    "        self.student_id = student_id\n",
    "        self.major = major\n",
    "\n",
    "    def get_student_info(self):\n",
    "        return f\"Student details : student_id : {self.student_id}, majoring in : {self.major}\"\n",
    "    \n",
    "# Child class 2 \n",
    "class Professor(Person):\n",
    "    def __init__(self,name,age,employee_id,dept):\n",
    "        Person.__init__(self,name,age)\n",
    "        self.employee_id = employee_id\n",
    "        self.dept = dept\n",
    "\n",
    "    def get_professor_info(self):\n",
    "        return f\"Professor details : employee_id : {self.employee_id}, dept : {self.dept}\""
   ]
  },
  {
   "cell_type": "code",
   "execution_count": 69,
   "metadata": {},
   "outputs": [
    {
     "name": "stdout",
     "output_type": "stream",
     "text": [
      "Student class method : Student details : student_id : S1234, majoring in : Computer Science\n",
      "Person class method in student class: Name of person : Alice, Age of person : 20\n",
      "\n",
      "professor class method : Professor details : employee_id : E5678, dept : Mathematics\n",
      "Person class method in professor class: Name of person : Dr. Smith, Age of person : 45\n"
     ]
    }
   ],
   "source": [
    "student = Student(name=\"Alice\", age=20, student_id=\"S1234\", major=\"Computer Science\")\n",
    "professor = Professor(name=\"Dr. Smith\", age=45, employee_id=\"E5678\", dept=\"Mathematics\")\n",
    "\n",
    "# student function\n",
    "print(f\"Student class method : {student.get_student_info()}\")\n",
    "print(f\"Person class method in student class: {student.get_info()}\")\n",
    "\n",
    "print(\"\")\n",
    "# professor function\n",
    "print(f\"professor class method : {professor.get_professor_info()}\")\n",
    "print(f\"Person class method in professor class: {professor.get_info()}\")"
   ]
  },
  {
   "cell_type": "markdown",
   "metadata": {},
   "source": [
    "## Exercise 2 : \n",
    "- Create a subclass TA (Teaching Assistant) that inherits from both Student and Professor. Add an attribute ta_hours and include a method get_ta_info that prints out all the information.\n",
    "- Instantiate objects of Student, Professor, and TA and call their methods to display their information."
   ]
  },
  {
   "cell_type": "code",
   "execution_count": 70,
   "metadata": {},
   "outputs": [],
   "source": [
    "class TA(Student,Professor):\n",
    "    def __init__(self,name, age,student_id,major,employee_id,dept,ta_hours):\n",
    "        Student.__init__(self,name, age,student_id,major)\n",
    "        Professor.__init__(self,name, age,employee_id,dept)\n",
    "        self.ta_hours = ta_hours\n",
    "    def get_ta_info(self):\n",
    "        return f\"{self.get_student_info()} \\n{self.get_professor_info()} \\n{self.get_info()} \\n{self.ta_hours}\""
   ]
  },
  {
   "cell_type": "code",
   "execution_count": 71,
   "metadata": {},
   "outputs": [
    {
     "name": "stdout",
     "output_type": "stream",
     "text": [
      "Student details : student_id : S5678, majoring in : Physics \n",
      "Professor details : employee_id : E1234, dept : Physics \n",
      "Name of person : Bob, Age of person : 25 \n",
      "20\n"
     ]
    }
   ],
   "source": [
    "ta = TA(name=\"Bob\", age=25, student_id=\"S5678\", major=\"Physics\", employee_id=\"E1234\", dept=\"Physics\", ta_hours=20)\n",
    "\n",
    "print(ta.get_ta_info())"
   ]
  },
  {
   "cell_type": "markdown",
   "metadata": {},
   "source": []
  },
  {
   "cell_type": "markdown",
   "metadata": {},
   "source": [
    "# Polymorphism"
   ]
  },
  {
   "cell_type": "markdown",
   "metadata": {},
   "source": [
    "- (Agenda) After this tutorial you will be able to answer and build :\n",
    "    - Recall inheritance\n",
    "    - What is polymorphism , why and how we use it ?\n",
    "    - Exercise"
   ]
  },
  {
   "cell_type": "markdown",
   "metadata": {},
   "source": []
  }
 ],
 "metadata": {
  "kernelspec": {
   "display_name": "Python 3",
   "language": "python",
   "name": "python3"
  },
  "language_info": {
   "codemirror_mode": {
    "name": "ipython",
    "version": 3
   },
   "file_extension": ".py",
   "mimetype": "text/x-python",
   "name": "python",
   "nbconvert_exporter": "python",
   "pygments_lexer": "ipython3",
   "version": "3.10.14"
  }
 },
 "nbformat": 4,
 "nbformat_minor": 2
}
