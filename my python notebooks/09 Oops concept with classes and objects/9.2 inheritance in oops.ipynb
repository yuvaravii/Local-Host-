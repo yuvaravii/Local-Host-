{
 "cells": [
  {
   "cell_type": "markdown",
   "metadata": {},
   "source": [
    "## Inheritance \n",
    "\n",
    "- What is inheritance and why do we use it ?\n",
    "    - Inheritance : as the name suggests, here we inherit the properties, attributes and functions of another class.\n",
    "    - Type :\n",
    "        - Single inheritance : A childClass inherits from one parentClass\n",
    "        - Multiple inheritance : A childClass inherits from multiple parentClass\n",
    "    - This is similar to real world properties : children inherit the properties of parents however the vice versa isn't possible. same works with parental class and child class.\n",
    "\n",
    "    - HOW ??\n",
    "        - class childClass(parentClass)\n",
    "        - this syntax allows the childClass to inherit the attributes and functions of parentClass\n",
    "        - Here we use \"super.__init__(yourListOfAttributes in parentClass) \" to call the properties of parentClass\n",
    "            - While using super , dont use self keyword\n"
   ]
  },
  {
   "cell_type": "markdown",
   "metadata": {},
   "source": [
    "### Single inheritance"
   ]
  },
  {
   "cell_type": "code",
   "execution_count": 9,
   "metadata": {},
   "outputs": [],
   "source": [
    "class Cars:\n",
    "    def __init__(self,windows=int,doors=int,fuelType=str):\n",
    "        self.windows = windows\n",
    "        self.doors = doors\n",
    "        self.fuelType = fuelType\n",
    "\n",
    "    def drive(self):\n",
    "        return f\"Person drives a {self.fuelType} car\"\n",
    "    \n",
    "\n",
    "class Tesla(Cars):  # inheriting Animal class\n",
    "    def __init__(self,windows = int,doors=int,fuelType=int,isSelfDriving=bool):\n",
    "        super().__init__(windows,doors,fuelType)   # parent class features \n",
    "        self.isSelfDriving = isSelfDriving\n",
    "\n",
    "    def is_self_driving(self):\n",
    "        return f\"This tesla car is self driving ?? : {self.isSelfDriving}\"\n",
    "    "
   ]
  },
  {
   "cell_type": "code",
   "execution_count": 10,
   "metadata": {},
   "outputs": [
    {
     "data": {
      "text/plain": [
       "'Person drives a petrol car'"
      ]
     },
     "execution_count": 10,
     "metadata": {},
     "output_type": "execute_result"
    }
   ],
   "source": [
    "car1 = Cars(4,2,\"petrol\")\n",
    "car1.drive()"
   ]
  },
  {
   "cell_type": "code",
   "execution_count": 16,
   "metadata": {},
   "outputs": [
    {
     "name": "stdout",
     "output_type": "stream",
     "text": [
      "This tesla car is self driving ?? : True\n",
      "Person drives a Electric car\n"
     ]
    }
   ],
   "source": [
    "tesla1 = Tesla(4,4,\"Electric\",True)\n",
    "print(tesla1.is_self_driving())\n",
    "\n",
    "# since i have inherited the properties of parent class, let me try calling \"drive\"\n",
    "print(tesla1.drive())  # this is a function of parent class not the child class, still the results outputs"
   ]
  },
  {
   "cell_type": "markdown",
   "metadata": {},
   "source": [
    "### Multiple Inheritance"
   ]
  },
  {
   "cell_type": "code",
   "execution_count": 49,
   "metadata": {},
   "outputs": [],
   "source": [
    "# parent class 1 \n",
    "class Animal:\n",
    "    def __init__(self,animalName = \"Dog\",isWhiskers = False):\n",
    "        self.animalName = animalName\n",
    "        self.isWhiskers = isWhiskers\n",
    "\n",
    "    def hasWhiskers(self):\n",
    "        return f\"The animal has whiskers?? : {self.isWhiskers}\"\n",
    "    \n",
    "# parent class 2\n",
    "class Pet:\n",
    "    def __init__(self,petNickName = \"Nick\",speaks = \"woof\"):\n",
    "        self.petNickName = petNickName\n",
    "        self.speaks = speaks\n",
    "\n",
    "    def shouts(self):\n",
    "        return f\"{self.petNickName} shouts {self.speaks}\"\n",
    "    \n",
    "# Child class inheriting both the classes \n",
    "class Dog(Animal,Pet):\n",
    "    def __init__(self,animalName = \"AnimalName\",isWhiskers = False,petNickName = \"Nick\",speaks = \"woof\",doesMove = \"Crawls\"):\n",
    "        Animal.__init__(self,animalName,isWhiskers)\n",
    "        Pet.__init__(self,petNickName,speaks)\n",
    "        self.doesMove = doesMove \n",
    "\n",
    "    def howItMoves(self):\n",
    "        return f\"{self.petNickName} is a {self.animalName} and It {self.doesMove} \""
   ]
  },
  {
   "cell_type": "code",
   "execution_count": 50,
   "metadata": {},
   "outputs": [],
   "source": [
    "dog1 = Dog(animalName=\"Dog\", isWhiskers=True, petNickName=\"Buddy\", speaks=\"Woof\", doesMove=\"runs\")"
   ]
  },
  {
   "cell_type": "code",
   "execution_count": 51,
   "metadata": {},
   "outputs": [
    {
     "name": "stdout",
     "output_type": "stream",
     "text": [
      "Buddy shouts Woof\n",
      "Buddy is a Dog and It runs \n"
     ]
    }
   ],
   "source": [
    "print(dog1.shouts())\n",
    "print(dog1.howItMoves())"
   ]
  },
  {
   "cell_type": "markdown",
   "metadata": {},
   "source": [
    "#### Exercise 1: Create a Vehicle Hierarchy\n",
    "- Create a base class Vehicle with attributes make, model, and year. Include a method vehicle_info that prints out these details.\n",
    "- Create a subclass Car that inherits from Vehicle and adds an attribute number_of_doors. Include a method car_info that prints out the number of doors.\n",
    "- Create another subclass Truck that inherits from Vehicle and adds an attribute payload_capacity. Include a method truck_info that prints out the payload capacity.\n",
    "- Instantiate objects of Car and Truck and call their methods to display their information."
   ]
  },
  {
   "cell_type": "code",
   "execution_count": 71,
   "metadata": {},
   "outputs": [],
   "source": [
    "# Creating a base class\n",
    "class Vehicle:\n",
    "    def __init__(self,make,model,year):\n",
    "        self.make = make\n",
    "        self.model = model\n",
    "        self.year = year\n",
    "\n",
    "    def get_vehicle_info(self):\n",
    "        return f\"make : {self.make} \\n model : {self.model} \\n year : {self.year}\"\n",
    "\n",
    "class Car(Vehicle):\n",
    "    def __init__(self,make,model,year,number_of_doors):\n",
    "        Vehicle.__init__(self,make,model,year)\n",
    "        self.number_of_doors = number_of_doors\n",
    "\n",
    "    def get_car_info(self):\n",
    "        return f\"Vehicle info : {self.get_vehicle_info()}  number_of_doors : {self.number_of_doors}\"\n",
    "    \n",
    "\n",
    "class Truck(Vehicle):\n",
    "    def __init__(self,make,model,year,payload_capacity):\n",
    "        Vehicle.__init__(self,make,model,year)\n",
    "        self.payload_capacity = payload_capacity\n",
    "\n",
    "    def get_truck_info(self):\n",
    "        return f\"Vehicle info : {self.get_vehicle_info()} \\n payload_capacity : {self.payload_capacity}\"\n",
    "     \n",
    "    "
   ]
  },
  {
   "cell_type": "code",
   "execution_count": 72,
   "metadata": {},
   "outputs": [],
   "source": [
    "car1 = Car(\"Hyundai\",\"i20 Asta\",2023,4)\n",
    "truck1 = Truck(\"Eicher\",\"48T truck\",2021, \"48MT\")"
   ]
  },
  {
   "cell_type": "code",
   "execution_count": 73,
   "metadata": {},
   "outputs": [
    {
     "data": {
      "text/plain": [
       "'Vehicle info : make : Hyundai \\n model : i20 Asta \\n year : 2023  number_of_doors : 4'"
      ]
     },
     "execution_count": 73,
     "metadata": {},
     "output_type": "execute_result"
    }
   ],
   "source": [
    "car1.get_car_info()"
   ]
  },
  {
   "cell_type": "code",
   "execution_count": 74,
   "metadata": {},
   "outputs": [
    {
     "data": {
      "text/plain": [
       "'Vehicle info : make : Eicher \\n model : 48T truck \\n year : 2021 \\n payload_capacity : 48MT'"
      ]
     },
     "execution_count": 74,
     "metadata": {},
     "output_type": "execute_result"
    }
   ],
   "source": [
    "truck1.get_truck_info()"
   ]
  },
  {
   "cell_type": "markdown",
   "metadata": {},
   "source": [
    "### Exercise 6: Create a University System\n",
    "- Create a base class Person with attributes name and age. Include a method get_info that prints out these details.\n",
    "- Create a subclass Student that inherits from Person and adds attributes student_id and major. Include a method get_student_info that prints out all the information.\n",
    "- Create another subclass Professor that inherits from Person and adds attributes employee_id and department. Include a method get_professor_info that prints out all the information.\n",
    "- Create a subclass TA (Teaching Assistant) that inherits from both Student and Professor. Add an attribute ta_hours and include a method get_ta_info that prints out all the information.\n",
    "- Instantiate objects of Student, Professor, and TA and call their methods to display their information."
   ]
  },
  {
   "cell_type": "code",
   "execution_count": 99,
   "metadata": {},
   "outputs": [],
   "source": [
    "class Person:\n",
    "    def __init__(self,name,age):\n",
    "        self.age = age\n",
    "        self.name = name\n",
    "\n",
    "    def get_info(self):\n",
    "        return f\"Name : {self.name} Age : {self.age}\"\n",
    "\n",
    "class Student(Person):\n",
    "    def __init__(self,name,age,studentID,major):\n",
    "        Person.__init__(self,name,age)\n",
    "        self.studentID = studentID\n",
    "        self.major = major\n",
    "\n",
    "    def get_student_info(self):\n",
    "        return f\"{self.get_info()} studentID : {self.studentID} major : {self.major}\"\n",
    "\n",
    "\n",
    "class Professor(Person):\n",
    "    def __init__(self,name,age,employee_id,department):\n",
    "        Person.__init__(self,name,age)\n",
    "        self.employee_id = employee_id\n",
    "        self.department = department\n",
    "\n",
    "    def get_professor_info(self):\n",
    "        return f\"{self.get_info()} Employee_id :{self.employee_id} department : {self.department}\"\n",
    "\n",
    "class TA(Student,Professor):\n",
    "    def __init__(self,name,age,studentID,major,employee_id,department,ta_hours):\n",
    "        Student.__init__(self,name,age,studentID,major)\n",
    "        Professor.__init__(self,name,age,employee_id,department)\n",
    "        self.ta_hours = ta_hours\n",
    "    \n",
    "    def get_ta_info(self):\n",
    "        return f\"{self.get_student_info()} \\n{self.get_professor_info()} \\n{self.get_info()} \\n{self.ta_hours}\""
   ]
  },
  {
   "cell_type": "code",
   "execution_count": 100,
   "metadata": {},
   "outputs": [
    {
     "name": "stdout",
     "output_type": "stream",
     "text": [
      "Name : Alice Age : 20 studentID : S1234 major : Computer Science\n",
      "\n",
      "Name : Dr. Smith Age : 45 Employee_id :E5678 department : Mathematics\n",
      "\n",
      "Name : Bob Age : 25 studentID : S5678 major : Physics \n",
      "Name : Bob Age : 25 Employee_id :E1234 department : Physics \n",
      "Name : Bob Age : 25 \n",
      "20\n"
     ]
    }
   ],
   "source": [
    "student = Student(name=\"Alice\", age=20, studentID=\"S1234\", major=\"Computer Science\")\n",
    "professor = Professor(name=\"Dr. Smith\", age=45, employee_id=\"E5678\", department=\"Mathematics\")\n",
    "ta = TA(name=\"Bob\", age=25, studentID=\"S5678\", major=\"Physics\", employee_id=\"E1234\", department=\"Physics\", ta_hours=20)\n",
    "\n",
    "print(student.get_student_info())\n",
    "print()\n",
    "print(professor.get_professor_info())\n",
    "print()\n",
    "print(ta.get_ta_info())"
   ]
  },
  {
   "cell_type": "code",
   "execution_count": null,
   "metadata": {},
   "outputs": [],
   "source": []
  }
 ],
 "metadata": {
  "kernelspec": {
   "display_name": "Python 3",
   "language": "python",
   "name": "python3"
  },
  "language_info": {
   "codemirror_mode": {
    "name": "ipython",
    "version": 3
   },
   "file_extension": ".py",
   "mimetype": "text/x-python",
   "name": "python",
   "nbconvert_exporter": "python",
   "pygments_lexer": "ipython3",
   "version": "3.10.14"
  }
 },
 "nbformat": 4,
 "nbformat_minor": 2
}
