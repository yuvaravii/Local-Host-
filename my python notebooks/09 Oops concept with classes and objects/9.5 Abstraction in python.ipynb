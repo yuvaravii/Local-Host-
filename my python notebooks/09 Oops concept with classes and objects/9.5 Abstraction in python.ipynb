{
 "cells": [
  {
   "cell_type": "markdown",
   "metadata": {},
   "source": [
    "# Abstraction \n",
    "\n",
    "- What is abstraction ? why is it needed and how to implement it ?\n",
    "    - Abstraction : meaning the things we can feel but cannot see,Similar to that in abstraction the complex details are hidden and only few necessary features are display.\n",
    "    \n",
    "- WHY ??\n",
    "    - This avoids confusion and too much irrelevant details to the end user\n",
    "    - to reduce information overload\n",
    "    - For security reasons.\n",
    "    - The abstract method allows the child class to define its functions or features for parent class. As the abstract method in parent class is an empty method"
   ]
  },
  {
   "cell_type": "code",
   "execution_count": 1,
   "metadata": {},
   "outputs": [],
   "source": [
    "# importing libraries for creating abstract classes\n",
    "from abc import ABC, abstractmethod   # for creating abstract classes"
   ]
  },
  {
   "cell_type": "code",
   "execution_count": 4,
   "metadata": {},
   "outputs": [],
   "source": [
    "class ShapeArea(ABC):   # Using Abstract base class as parent class --> empty parent class\n",
    "\n",
    "    def get_info(self):\n",
    "        return f\"This class expects a shape and dimensions and returns its area\"\n",
    "\n",
    "    @abstractmethod             # an empty method\n",
    "    def get_area(self):\n",
    "        return \"Define the shape to retrieve area\"\n",
    "    \n",
    "\n",
    "class Rectangle(ShapeArea):\n",
    "    def __init__(self,length,breadth):\n",
    "        self.length = length\n",
    "        self.breadth = breadth\n",
    "\n",
    "    def get_area(self):\n",
    "        return self.length*self.breadth\n",
    "        \n",
    "    \n"
   ]
  },
  {
   "cell_type": "code",
   "execution_count": 5,
   "metadata": {},
   "outputs": [
    {
     "name": "stdout",
     "output_type": "stream",
     "text": [
      "30\n",
      "This class expects a shape and dimensions and returns its area\n"
     ]
    }
   ],
   "source": [
    "shape1 = Rectangle(5,6)\n",
    "print(shape1.get_area())\n",
    "print(shape1.get_info())"
   ]
  },
  {
   "cell_type": "code",
   "execution_count": null,
   "metadata": {},
   "outputs": [],
   "source": []
  }
 ],
 "metadata": {
  "kernelspec": {
   "display_name": "Python 3",
   "language": "python",
   "name": "python3"
  },
  "language_info": {
   "codemirror_mode": {
    "name": "ipython",
    "version": 3
   },
   "file_extension": ".py",
   "mimetype": "text/x-python",
   "name": "python",
   "nbconvert_exporter": "python",
   "pygments_lexer": "ipython3",
   "version": "3.10.14"
  }
 },
 "nbformat": 4,
 "nbformat_minor": 2
}
