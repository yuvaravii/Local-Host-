{
 "cells": [
  {
   "cell_type": "markdown",
   "metadata": {},
   "source": [
    "# Logging\n",
    "\n",
    "- What is logging and why is it used ?\n",
    "    - Logging is process back tracing the list of activities that are executed.\n",
    "    - These can be customized, meaning this could be tailored to specific tracking task like logging errors, results, outputs, progress, memory management etc.\n",
    "\n",
    "- HOW ??\n",
    "    - Always configure the basic in logging\n",
    "\n",
    "- Types\n",
    "    - logging.debug(\"This is a debugging logging\")  --> interested in diagnosing problems\n",
    "    - logging.info(\"This is a info logging\") --> interest in logging execution info and their success\n",
    "    - logging.warning(\"This is logging warnings messages\")--> interested in logging unexpected happenings, and few error message in near future. Such as 'disk space low'\n",
    "    - logging.error(\"This is logging the error messages\") --> interested in logging performance issues which are some serious problems\n",
    "    - logging.critical(\"This is logging the critical messages\")--> interested in logging crucial errors leading to fatal problems such as stops the running"
   ]
  },
  {
   "cell_type": "markdown",
   "metadata": {},
   "source": []
  },
  {
   "cell_type": "markdown",
   "metadata": {},
   "source": []
  },
  {
   "cell_type": "code",
   "execution_count": 2,
   "metadata": {},
   "outputs": [],
   "source": [
    "import logging"
   ]
  },
  {
   "cell_type": "code",
   "execution_count": 3,
   "metadata": {},
   "outputs": [],
   "source": [
    "logging.basicConfig(\n",
    "    # file name for logging the data\n",
    "    filename = 'app.log',\n",
    "    filemode= 'w',   # writing on the file app.log\n",
    "    level=logging.DEBUG,\n",
    "    format='%(asctime)s-%(name)s-%(levelname)s-%(message)s',\n",
    "    datefmt= '%Y-%m-%d %H:%M:%S'\n",
    ")\n",
    "\n",
    "logging.debug(\"This is a debugging logging\")  #--> interested in diagnosing problems\n",
    "logging.info(\"This is a info logging\") #--> interest in logging execution info and their success\n",
    "logging.warning(\"This is logging warnings messages\") #--> interested in logging unexpected happenings, and few error message in near future. Such as 'disk space low'\n",
    "logging.error(\"This is logging the error messages\") #--> interested in logging performance issues which are some serious problems\n",
    "logging.critical(\"This is logging the critical messages\")  #--> interested in logging crucial errors leading to fatal problems such as stops the running"
   ]
  },
  {
   "cell_type": "code",
   "execution_count": null,
   "metadata": {},
   "outputs": [],
   "source": []
  }
 ],
 "metadata": {
  "kernelspec": {
   "display_name": "Python 3",
   "language": "python",
   "name": "python3"
  },
  "language_info": {
   "codemirror_mode": {
    "name": "ipython",
    "version": 3
   },
   "file_extension": ".py",
   "mimetype": "text/x-python",
   "name": "python",
   "nbconvert_exporter": "python",
   "pygments_lexer": "ipython3",
   "version": "3.10.14"
  }
 },
 "nbformat": 4,
 "nbformat_minor": 2
}
