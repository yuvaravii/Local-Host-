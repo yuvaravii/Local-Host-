{
 "cells": [
  {
   "cell_type": "markdown",
   "metadata": {},
   "source": [
    "# Multiple logger\n",
    "\n",
    "- instead of using one module which is also called as root.\n",
    "- we can pull loggers from different module, this is called multiple loggers"
   ]
  },
  {
   "cell_type": "code",
   "execution_count": 5,
   "metadata": {},
   "outputs": [],
   "source": [
    "import logging\n",
    "\n",
    "# creating a module\n",
    "log1 = logging.getLogger(\"mod1\")\n",
    "# setting the level of logger mod1\n",
    "log1.setLevel(logging.DEBUG)\n",
    "\n",
    "\n",
    "\n",
    "# create module 2\n",
    "log2 = logging.getLogger(\"module2\")\n",
    "log2.setLevel(logging.WARNING)\n",
    "\n",
    "# configuring the basic of logging\n",
    "logging.basicConfig(\n",
    "    level=logging.ERROR,\n",
    "    format='%(asctime)s-%(name)s-%(levelname)s-%(message)s',\n",
    "    datefmt= '%Y-%m-%d %H:%M:%S'\n",
    ")\n"
   ]
  },
  {
   "cell_type": "code",
   "execution_count": 6,
   "metadata": {},
   "outputs": [
    {
     "name": "stderr",
     "output_type": "stream",
     "text": [
      "2024-07-29 22:39:24-mod1-DEBUG-This is debug message is from mod1\n",
      "2024-07-29 22:39:24-module2-WARNING-this is warning message from mod2\n",
      "2024-07-29 22:39:24-mod1-ERROR-This is error message from mod1\n"
     ]
    }
   ],
   "source": [
    "log1.debug(\"This is debug message is from mod1\")\n",
    "log2.warning(\"this is warning message from mod2\")\n",
    "log1.error(\"This is error message from mod1\")"
   ]
  },
  {
   "cell_type": "markdown",
   "metadata": {},
   "source": [
    "- we can observe instead of root source we have mod1 and mod2"
   ]
  },
  {
   "cell_type": "markdown",
   "metadata": {},
   "source": []
  }
 ],
 "metadata": {
  "kernelspec": {
   "display_name": "Python 3",
   "language": "python",
   "name": "python3"
  },
  "language_info": {
   "codemirror_mode": {
    "name": "ipython",
    "version": 3
   },
   "file_extension": ".py",
   "mimetype": "text/x-python",
   "name": "python",
   "nbconvert_exporter": "python",
   "pygments_lexer": "ipython3",
   "version": "3.10.14"
  }
 },
 "nbformat": 4,
 "nbformat_minor": 2
}
