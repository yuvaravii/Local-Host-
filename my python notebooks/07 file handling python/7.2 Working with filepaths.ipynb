{
 "cells": [
  {
   "cell_type": "code",
   "execution_count": 1,
   "metadata": {},
   "outputs": [
    {
     "data": {
      "text/plain": [
       "'c:\\\\Users\\\\gcera\\\\OneDrive\\\\Documents\\\\01. Projects\\\\krishNaik lesson\\\\execution\\\\notebooks\\\\07 file handling python'"
      ]
     },
     "execution_count": 1,
     "metadata": {},
     "output_type": "execute_result"
    }
   ],
   "source": [
    "# know your current working dir\n",
    "import os\n",
    "os.getcwd()"
   ]
  },
  {
   "cell_type": "markdown",
   "metadata": {},
   "source": [
    "- Get the list of files within the directory"
   ]
  },
  {
   "cell_type": "code",
   "execution_count": 2,
   "metadata": {},
   "outputs": [
    {
     "data": {
      "text/plain": [
       "['7.1 file handling0 basics.ipynb',\n",
       " '7.2 Working with filepaths.ipynb',\n",
       " 'destination.txt',\n",
       " 'sam1.txt',\n",
       " 'sam2.bin',\n",
       " 'sam3.txt']"
      ]
     },
     "execution_count": 2,
     "metadata": {},
     "output_type": "execute_result"
    }
   ],
   "source": [
    "filePath = os.getcwd()\n",
    "os.listdir(filePath)"
   ]
  },
  {
   "cell_type": "markdown",
   "metadata": {},
   "source": [
    "- Create a package using the python script alone"
   ]
  },
  {
   "cell_type": "code",
   "execution_count": 3,
   "metadata": {},
   "outputs": [],
   "source": [
    "# new_directory = \"package\"\n",
    "os.mkdir(\"package\")\n"
   ]
  },
  {
   "cell_type": "code",
   "execution_count": 5,
   "metadata": {},
   "outputs": [
    {
     "data": {
      "text/plain": [
       "['7.1 file handling0 basics.ipynb',\n",
       " '7.2 Working with filepaths.ipynb',\n",
       " 'destination.txt',\n",
       " 'package',\n",
       " 'sam1.txt',\n",
       " 'sam2.bin',\n",
       " 'sam3.txt']"
      ]
     },
     "execution_count": 5,
     "metadata": {},
     "output_type": "execute_result"
    }
   ],
   "source": [
    "# to see the package within current env\n",
    "dir_list = list(os.listdir('.'))\n",
    "dir_list"
   ]
  },
  {
   "cell_type": "markdown",
   "metadata": {},
   "source": [
    "## Joining different paths"
   ]
  },
  {
   "cell_type": "markdown",
   "metadata": {},
   "source": [
    "- Create a folder and add a sample text file within it.\n",
    "- Try to merge and fetch the filepath "
   ]
  },
  {
   "cell_type": "code",
   "execution_count": 6,
   "metadata": {},
   "outputs": [
    {
     "name": "stdout",
     "output_type": "stream",
     "text": [
      "folder1\\sam.txt\n"
     ]
    }
   ],
   "source": [
    "sam_dir_name = \"folder1\"\n",
    "sam_file_name = \"sam.txt\"\n",
    "joined_path =os.path.join(sam_dir_name, sam_file_name)\n",
    "print(joined_path)"
   ]
  },
  {
   "cell_type": "markdown",
   "metadata": {},
   "source": [
    "- Try to add the filepath with cwd\n"
   ]
  },
  {
   "cell_type": "code",
   "execution_count": 7,
   "metadata": {},
   "outputs": [
    {
     "data": {
      "text/plain": [
       "'c:\\\\Users\\\\gcera\\\\OneDrive\\\\Documents\\\\01. Projects\\\\krishNaik lesson\\\\execution\\\\notebooks\\\\07 file handling python\\\\folder1\\\\sam.txt'"
      ]
     },
     "execution_count": 7,
     "metadata": {},
     "output_type": "execute_result"
    }
   ],
   "source": [
    "os.path.join(os.getcwd(),joined_path)"
   ]
  },
  {
   "cell_type": "markdown",
   "metadata": {},
   "source": [
    "- Check a specific file is present or not"
   ]
  },
  {
   "cell_type": "code",
   "execution_count": 10,
   "metadata": {},
   "outputs": [
    {
     "name": "stdout",
     "output_type": "stream",
     "text": [
      "Mentioned file exists!\n"
     ]
    }
   ],
   "source": [
    "if os.path.exists('sam2.bin'):\n",
    "    print(\"Mentioned file exists!\")\n",
    "else:\n",
    "    print(\"Doesn't exist\")"
   ]
  },
  {
   "cell_type": "markdown",
   "metadata": {},
   "source": [
    "-  Distinguish whether its a file or directory"
   ]
  },
  {
   "cell_type": "code",
   "execution_count": 12,
   "metadata": {},
   "outputs": [
    {
     "name": "stdout",
     "output_type": "stream",
     "text": [
      "The mentioned path is a file\n"
     ]
    }
   ],
   "source": [
    "path = 'sam2.bin'\n",
    "if os.path.isfile(path):\n",
    "    print(\"The mentioned path is a file\")\n",
    "elif os.path.isdir(path):\n",
    "    print(\"The mentioned path is folder\")\n",
    "else:\n",
    "    print(\"This path is neither folder nor file, may be this doesn't exist\")"
   ]
  },
  {
   "cell_type": "markdown",
   "metadata": {},
   "source": [
    "- What is relative path and absolute path ?\n",
    "    - Relative path : is the shorter version, which notifies a folder earlier.\n",
    "    - Absolute path : is larger version, which throws the whole file path from root."
   ]
  },
  {
   "cell_type": "code",
   "execution_count": 13,
   "metadata": {},
   "outputs": [
    {
     "name": "stdout",
     "output_type": "stream",
     "text": [
      "c:\\Users\\gcera\\OneDrive\\Documents\\01. Projects\\krishNaik lesson\\execution\\notebooks\\07 file handling python\\sam3.txt\n"
     ]
    }
   ],
   "source": [
    "relative_path = 'sam3.txt'\n",
    "absoluteFilePath = os.path.abspath(relative_path)\n",
    "print(absoluteFilePath)"
   ]
  },
  {
   "cell_type": "code",
   "execution_count": null,
   "metadata": {},
   "outputs": [],
   "source": []
  }
 ],
 "metadata": {
  "kernelspec": {
   "display_name": "Python 3",
   "language": "python",
   "name": "python3"
  },
  "language_info": {
   "codemirror_mode": {
    "name": "ipython",
    "version": 3
   },
   "file_extension": ".py",
   "mimetype": "text/x-python",
   "name": "python",
   "nbconvert_exporter": "python",
   "pygments_lexer": "ipython3",
   "version": "3.10.14"
  }
 },
 "nbformat": 4,
 "nbformat_minor": 2
}
