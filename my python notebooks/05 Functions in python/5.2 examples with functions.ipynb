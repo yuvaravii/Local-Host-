{
 "cells": [
  {
   "cell_type": "markdown",
   "metadata": {},
   "source": [
    "## Example 1 : Temperature Conversion"
   ]
  },
  {
   "cell_type": "code",
   "execution_count": 2,
   "metadata": {},
   "outputs": [
    {
     "name": "stdout",
     "output_type": "stream",
     "text": [
      "77.0\n",
      "25.0\n"
     ]
    }
   ],
   "source": [
    "def convertTemperature(temp,unit):\n",
    "    \"\"\"\n",
    "    This function returns the converted temperature from Fahranheit and celcius vice versa \n",
    "    \"\"\"\n",
    "\n",
    "    if unit == \"C\":\n",
    "        return (9/5)*temp + 32\n",
    "    elif unit == \"F\":\n",
    "        return (temp - 32)*(5/9)\n",
    "    else:\n",
    "        return None \n",
    "    \n",
    "print(convertTemperature(25,\"C\"))\n",
    "print(convertTemperature(77,\"F\"))"
   ]
  },
  {
   "cell_type": "markdown",
   "metadata": {},
   "source": [
    "## Eg2 : Password Strength Checker"
   ]
  },
  {
   "cell_type": "code",
   "execution_count": 8,
   "metadata": {},
   "outputs": [],
   "source": [
    "def is_pwd_strong(password):\n",
    "    \"\"\"\n",
    "    This function helps to identify the strength of password \n",
    "    \"\"\"\n",
    "\n",
    "    # should have minimum 8 characters:\n",
    "    if len(password) < 8:\n",
    "        return False, print(\"Weak Password ! as Password should contain a minimum of 8 characters\")\n",
    "    if not any(char.isdigit() for char in password):\n",
    "        return False, print(\"Weak Password , Password should contain digits\")\n",
    "    if not any(char.islower() for char in password):\n",
    "        return False\n",
    "    if not any(char.isupper() for char in password):\n",
    "        return False\n",
    "    if not any(char in '!@#$%^&*()_+' for char in password):\n",
    "        return False\n",
    "    else:\n",
    "        return print(\"Great Password Mate!\"),True"
   ]
  },
  {
   "cell_type": "code",
   "execution_count": 9,
   "metadata": {},
   "outputs": [
    {
     "name": "stdout",
     "output_type": "stream",
     "text": [
      "Weak Password , Password should contain digits\n",
      "(False, None)\n",
      "Great Password Mate!\n",
      "(None, True)\n"
     ]
    }
   ],
   "source": [
    "print(is_pwd_strong(\"ravishankar\"))\n",
    "print(is_pwd_strong(\"Table@12345\"))"
   ]
  },
  {
   "cell_type": "markdown",
   "metadata": {},
   "source": [
    "## Eg. 3 Calculating the total price"
   ]
  },
  {
   "cell_type": "code",
   "execution_count": 2,
   "metadata": {},
   "outputs": [
    {
     "data": {
      "text/plain": [
       "140"
      ]
     },
     "execution_count": 2,
     "metadata": {},
     "output_type": "execute_result"
    }
   ],
   "source": [
    "## Creating a data\n",
    "\n",
    "cart = [\n",
    "        {\"name\":\"Orange\", \"cost per item\":25,\"Quantity\":4},\n",
    "        {\"name\":\"Apple\", \"cost per item\":10,\"Quantity\":2},\n",
    "        {\"name\":\"Banana\", \"cost per item\":5,\"Quantity\":4}\n",
    "]\n",
    "\n",
    "\n",
    "# Creating a function\n",
    "def total_price_calculator(cart):\n",
    "    total_price = 0\n",
    "    for item in cart:\n",
    "        total_price += item[\"cost per item\"]*item[\"Quantity\"]\n",
    "    return total_price \n",
    "\n",
    "total_price_calculator(cart)"
   ]
  },
  {
   "cell_type": "markdown",
   "metadata": {},
   "source": [
    "## Eg. 4 : String is palindrome\n",
    "\n",
    "- the foreword and backward alignment are same"
   ]
  },
  {
   "cell_type": "code",
   "execution_count": 8,
   "metadata": {},
   "outputs": [
    {
     "name": "stdout",
     "output_type": "stream",
     "text": [
      "True\n",
      "False\n",
      "True\n"
     ]
    }
   ],
   "source": [
    "# ege : aba == aba, seed != dees\n",
    "\n",
    "def is_palindrome(string_to_check):\n",
    "    word = string_to_check.lower().replace(\" \",\"\")\n",
    "    actual_word = word\n",
    "    reversed_word = word[::-1]\n",
    "    if actual_word == reversed_word:\n",
    "        return True\n",
    "    else:\n",
    "        return False\n",
    "\n",
    "print(is_palindrome(\"aba\"))\n",
    "print(is_palindrome(\"seed\"))\n",
    "print(is_palindrome(\"a man a plan a canal panama\"))"
   ]
  },
  {
   "cell_type": "markdown",
   "metadata": {},
   "source": [
    "## Eg.5 : Factorial of Given number using recursion\n",
    "- what is recursion ?\n",
    "    - Recursion is method of calling the existing method again and again"
   ]
  },
  {
   "cell_type": "code",
   "execution_count": 15,
   "metadata": {},
   "outputs": [
    {
     "name": "stdout",
     "output_type": "stream",
     "text": [
      "Factorial of 5 is : 120\n",
      "Factorial of 4 is : 24\n"
     ]
    }
   ],
   "source": [
    "## General method\n",
    "def factorial_output(num = int):\n",
    "    if num ==0:\n",
    "        return 1\n",
    "    else:\n",
    "        product = 1\n",
    "        for i in range(1,num+1):\n",
    "            product *= i\n",
    "    return product \n",
    "\n",
    "print(f\"Factorial of 5 is : {factorial_output(5)}\")\n",
    "print(f\"Factorial of 4 is : {factorial_output(4)}\")"
   ]
  },
  {
   "cell_type": "code",
   "execution_count": 16,
   "metadata": {},
   "outputs": [
    {
     "name": "stdout",
     "output_type": "stream",
     "text": [
      "Factorial of 5 is : 120\n",
      "Factorial of 4 is : 24\n"
     ]
    }
   ],
   "source": [
    "def recursive_factorial(n = int):\n",
    "    if n == 0:\n",
    "        return 1\n",
    "    else:\n",
    "        return n*recursive_factorial(n-1)\n",
    "\n",
    "print(f\"Factorial of 5 is : {recursive_factorial(5)}\")\n",
    "print(f\"Factorial of 4 is : {recursive_factorial(4)}\")"
   ]
  },
  {
   "cell_type": "markdown",
   "metadata": {},
   "source": [
    "## Eg.7 : Frequency Mapping\n",
    "\n",
    "- Frequency mapping enables user to count the number of repetitive items"
   ]
  },
  {
   "cell_type": "code",
   "execution_count": 17,
   "metadata": {},
   "outputs": [
    {
     "data": {
      "text/plain": [
       "{4: 3, 5: 2, 6: 3, 7: 2, 8: 1}"
      ]
     },
     "execution_count": 17,
     "metadata": {},
     "output_type": "execute_result"
    }
   ],
   "source": [
    "def frequency_mapper(list1 = list):\n",
    "    dict1 = {}\n",
    "    for i in list1:\n",
    "        if i in dict1.keys():\n",
    "            dict1[i] += 1\n",
    "        else:\n",
    "            dict1[i] = 1\n",
    "    return dict1\n",
    "\n",
    "list2 = [4,4,5,6,7,6,5,4,6,7,8]\n",
    "frequency_mapper(list2)"
   ]
  },
  {
   "cell_type": "code",
   "execution_count": 30,
   "metadata": {},
   "outputs": [
    {
     "name": "stdout",
     "output_type": "stream",
     "text": [
      "hello\n",
      "everyone\n",
      "\n",
      "welcome\n",
      "to\n",
      "the\n",
      "realm\n",
      "of\n",
      "python.\n",
      "['Hello', 'everyone', '!', 'welcome', 'to', 'the', 'realm', 'of', 'Python.']\n",
      "i\n",
      "am\n",
      "trying\n",
      "to\n",
      "add\n",
      "content\n",
      "to\n",
      "word\n",
      "frequency\n",
      "mapper.\n",
      "['I', 'am', 'trying', 'to', 'add', 'content', 'to', 'word', 'frequency', 'mapper.']\n",
      "let's\n",
      "see\n",
      "how\n",
      "interesting\n",
      "is\n",
      "it\n",
      "\n",
      "[\"let's\", 'see', 'how', 'interesting', 'is', 'it', '?']\n"
     ]
    }
   ],
   "source": [
    "# loading the file from path\n",
    "filepath = \"C:\\\\Users\\\\gcera\\\\OneDrive\\\\Documents\\\\01. Projects\\\\krishNaik lesson\\\\execution\\\\notebooks\\\\05 Functions in python\\\\sample.txt\"\n",
    "\n",
    "word_count = {}\n",
    "# reading the file\n",
    "with open(filepath, \"r\") as file:\n",
    "    for line in file:\n",
    "        words = line.split()\n",
    "        for word in words:\n",
    "            word = word.lower().strip(\"!@#$%^&*()_+{}[]:;:<>?\").replace(\" \",\"\")\n",
    "            word_count[word]= word_count.get(word,0)+1\n",
    "\n",
    "            print(word)\n",
    "        print(words)\n"
   ]
  },
  {
   "cell_type": "code",
   "execution_count": 31,
   "metadata": {},
   "outputs": [
    {
     "data": {
      "text/plain": [
       "{'hello': 1,\n",
       " 'everyone': 1,\n",
       " '': 2,\n",
       " 'welcome': 1,\n",
       " 'to': 3,\n",
       " 'the': 1,\n",
       " 'realm': 1,\n",
       " 'of': 1,\n",
       " 'python.': 1,\n",
       " 'i': 1,\n",
       " 'am': 1,\n",
       " 'trying': 1,\n",
       " 'add': 1,\n",
       " 'content': 1,\n",
       " 'word': 1,\n",
       " 'frequency': 1,\n",
       " 'mapper.': 1,\n",
       " \"let's\": 1,\n",
       " 'see': 1,\n",
       " 'how': 1,\n",
       " 'interesting': 1,\n",
       " 'is': 1,\n",
       " 'it': 1}"
      ]
     },
     "execution_count": 31,
     "metadata": {},
     "output_type": "execute_result"
    }
   ],
   "source": [
    "word_count"
   ]
  },
  {
   "cell_type": "code",
   "execution_count": 37,
   "metadata": {},
   "outputs": [
    {
     "data": {
      "text/plain": [
       "{'hello': 1,\n",
       " 'everyone': 1,\n",
       " '': 2,\n",
       " 'welcome': 1,\n",
       " 'to': 3,\n",
       " 'the': 1,\n",
       " 'realm': 1,\n",
       " 'of': 1,\n",
       " 'python': 1,\n",
       " 'i': 1,\n",
       " 'am': 1,\n",
       " 'trying': 1,\n",
       " 'add': 1,\n",
       " 'content': 1,\n",
       " 'word': 1,\n",
       " 'frequency': 1,\n",
       " 'mapper': 1,\n",
       " \"let's\": 1,\n",
       " 'see': 1,\n",
       " 'how': 1,\n",
       " 'interesting': 1,\n",
       " 'is': 1,\n",
       " 'it': 1}"
      ]
     },
     "execution_count": 37,
     "metadata": {},
     "output_type": "execute_result"
    }
   ],
   "source": [
    "##  Write a word counter function\n",
    "\n",
    "def word_counter(filePath):\n",
    "    \"\"\"\n",
    "        This function returns the words occurence frequency \n",
    "    \"\"\"\n",
    "\n",
    "\n",
    "    with open(filePath, 'r') as file:\n",
    "        word_count = {}\n",
    "        for line in file:\n",
    "            words = line.split()\n",
    "            for word in words:\n",
    "                word = word.lower().strip(\"!@#$%^&*()_+\\/;,.?\")\n",
    "                word_count[word] = word_count.get(word,0)+1\n",
    "    return word_count\n",
    "\n",
    "word_counter(filepath)"
   ]
  },
  {
   "cell_type": "markdown",
   "metadata": {},
   "source": [
    "## Eg. 7 : Validate email address"
   ]
  },
  {
   "cell_type": "code",
   "execution_count": 40,
   "metadata": {},
   "outputs": [
    {
     "data": {
      "text/plain": [
       "False"
      ]
     },
     "execution_count": 40,
     "metadata": {},
     "output_type": "execute_result"
    }
   ],
   "source": [
    "import regex as re\n",
    "def email_validator(email=str):\n",
    "    pattern = r'^[a-zA-Z0-9_.+-]+@[a-zA-Z0-9-]+\\.[a-zA-Z0-0.-]+$'\n",
    "    return re.match(pattern, email) is not None\n",
    "\n",
    "\n",
    "email_validator('hulk@gmail.com')\n",
    "email_validator('tony@gmail?.com')\n"
   ]
  },
  {
   "cell_type": "code",
   "execution_count": null,
   "metadata": {},
   "outputs": [],
   "source": []
  }
 ],
 "metadata": {
  "kernelspec": {
   "display_name": "Python 3",
   "language": "python",
   "name": "python3"
  },
  "language_info": {
   "codemirror_mode": {
    "name": "ipython",
    "version": 3
   },
   "file_extension": ".py",
   "mimetype": "text/x-python",
   "name": "python",
   "nbconvert_exporter": "python",
   "pygments_lexer": "ipython3",
   "version": "3.10.14"
  }
 },
 "nbformat": 4,
 "nbformat_minor": 2
}
