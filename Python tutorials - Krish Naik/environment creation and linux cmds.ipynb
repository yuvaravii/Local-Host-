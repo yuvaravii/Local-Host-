{
 "cells": [
  {
   "cell_type": "markdown",
   "metadata": {},
   "source": [
    "## Create Virtual Environment commands\n",
    "\n",
    "- For creating environment on specific location\n",
    "- conda create -p yourEnvName python=yourVersion : create python in specific path\n",
    "- conda activate yourEnvName./ : for activating the environment\n",
    "- conda deactivate : for deactivating the environment \n",
    "- conda info --envs : List envs of conda\n",
    "- conda remove -p yourFilePath --all : for removing package\n",
    "\n",
    "\n",
    "- conda activate : For activating conda\n",
    "- pip install numpy : for install numpy package\n",
    "\n",
    "# Directory cmds\n",
    "- dir : to look directory in current location"
   ]
  },
  {
   "cell_type": "markdown",
   "metadata": {},
   "source": [
    "\n",
    "# This create virtual environment in the mentioned path(-p)\n",
    "- conda create -p mypyenv python ==3.12\n"
   ]
  },
  {
   "cell_type": "markdown",
   "metadata": {},
   "source": [
    "#  to activate the existing environment\n",
    "- conda activate mypyenv/  -->"
   ]
  },
  {
   "cell_type": "markdown",
   "metadata": {},
   "source": [
    "# Create a requirements.txt file within environment for easy transportation\n",
    "- pip freeze > requirements.txt"
   ]
  },
  {
   "cell_type": "markdown",
   "metadata": {},
   "source": []
  }
 ],
 "metadata": {
  "language_info": {
   "name": "python"
  }
 },
 "nbformat": 4,
 "nbformat_minor": 2
}
