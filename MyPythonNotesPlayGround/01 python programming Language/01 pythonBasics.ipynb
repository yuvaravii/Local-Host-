{
 "cells": [
  {
   "cell_type": "markdown",
   "metadata": {},
   "source": [
    "## Definitions\n",
    "- What is semantics ? and what is syntax ?\n",
    "    - Syntax : the combination of symbols, indentation, functions arranged in a way that depicts that it is a python code, which should be executed. Core objective is the correct arrangement.\n",
    "    - Semantics : interpretation of syntax and instruction and to execute them sequentially, why : to interpret the instructions\n",
    "\n",
    "- What are variables and why is it needed ?\n",
    "    - Variables are used to store the values, objects, functions, even classes\n",
    "    - This variables can be called multiple time at any place within the notebook\n",
    "    - This enables to write a crisp and shorter version of codes\n",
    "    - Naming of variables \n",
    "        - Don't\n",
    "            - Cant have only numerical\n",
    "            - cant start with special symbols \n",
    "            - cant start with alphanumericals\n",
    "            - cant use space within variables naming like : \"variable 1\" instead we can use \"variable1\" or \"variable_1\"\n",
    "        -  Do\n",
    "            - Set pattern for yourself and stick to your pattern"
   ]
  },
  {
   "cell_type": "markdown",
   "metadata": {},
   "source": [
    "- What is indentation ? why is it needed ?\n",
    "    - Indentation helps the user to understand and structure the code \n",
    "    - how ? ...... it helps us to understand the sequence of execution.\n",
    "    - Enables python for better execution and sequence of execution."
   ]
  },
  {
   "cell_type": "code",
   "execution_count": 1,
   "metadata": {},
   "outputs": [
    {
     "name": "stdout",
     "output_type": "stream",
     "text": [
      "0\n",
      "1\n",
      "2\n",
      "3\n",
      "4\n"
     ]
    }
   ],
   "source": [
    "## Indentation \n",
    "for i in range(0,5):\n",
    "    print(i)"
   ]
  },
  {
   "cell_type": "code",
   "execution_count": 6,
   "metadata": {},
   "outputs": [
    {
     "ename": "IndentationError",
     "evalue": "expected an indented block after 'for' statement on line 2 (3381517137.py, line 3)",
     "output_type": "error",
     "traceback": [
      "\u001b[1;36m  Cell \u001b[1;32mIn[6], line 3\u001b[1;36m\u001b[0m\n\u001b[1;33m    print(i)\u001b[0m\n\u001b[1;37m    ^\u001b[0m\n\u001b[1;31mIndentationError\u001b[0m\u001b[1;31m:\u001b[0m expected an indented block after 'for' statement on line 2\n"
     ]
    }
   ],
   "source": [
    "# intendation error\n",
    "for i in range(1,5):\n",
    "print(i)"
   ]
  },
  {
   "cell_type": "markdown",
   "metadata": {},
   "source": [
    "- What is line continuation ? how is it used ? why is it needed ?\n",
    "    - What : This symbol --> \\ is used for line continuation while scripting many lines\n",
    "    - how : when using multiple lines of codes , you can insert \"\\\" then continue on the next line\n",
    "    - why : when multiple line scripting is done, the user needs to navigate from left to right to understand and review, using this line continuation user can write the code in vertical downwards direction thus enabling better scripting and review"
   ]
  },
  {
   "cell_type": "code",
   "execution_count": 2,
   "metadata": {},
   "outputs": [
    {
     "name": "stdout",
     "output_type": "stream",
     "text": [
      "36\n"
     ]
    }
   ],
   "source": [
    "## Sample for line continuation\n",
    "total = 1+2+3+4\\\n",
    "        +5+6+7\\\n",
    "        +8\n",
    "\n",
    "print(total)"
   ]
  },
  {
   "cell_type": "markdown",
   "metadata": {},
   "source": [
    "- What is multiple statements ? how is it used and why is it needed ?\n",
    "    - Let us assume you are trying to execute smaller lines of codes\n",
    "    - instead of increasing the number of lines , we could shrink them in single line for better and easier readability\n",
    "    - why : helps to write shorter and crisp lines and easier execution for the user"
   ]
  },
  {
   "cell_type": "code",
   "execution_count": 3,
   "metadata": {},
   "outputs": [
    {
     "name": "stdout",
     "output_type": "stream",
     "text": [
      "11\n"
     ]
    }
   ],
   "source": [
    "## Sample multiple statements\n",
    "x=5 ; y = 6 ; z = x + y\n",
    "print(z)"
   ]
  },
  {
   "cell_type": "markdown",
   "metadata": {},
   "source": [
    "- Basics :\n",
    "    - python language is case sensitive.\n",
    "    - Use ''' sample text ''' : for multiline comments--> triple quotes\n",
    "    - Use # for commenting in single line --> hashtags"
   ]
  },
  {
   "cell_type": "markdown",
   "metadata": {},
   "source": [
    "- What is semantics ? how and why to use it ?\n",
    "    - To understand the code and its execution during a runtime\n",
    "    - eg. Type inferencing \n",
    "        - type(variable1) --> gives me type of variables --> string, int or float etc.\n",
    "\n"
   ]
  },
  {
   "cell_type": "code",
   "execution_count": 5,
   "metadata": {},
   "outputs": [
    {
     "name": "stdout",
     "output_type": "stream",
     "text": [
      "Type of variable : <class 'int'>\n"
     ]
    }
   ],
   "source": [
    "# sample\n",
    "age = 45\n",
    "print(f\"Type of variable : {type(age)}\")"
   ]
  },
  {
   "cell_type": "code",
   "execution_count": 7,
   "metadata": {},
   "outputs": [
    {
     "ename": "NameError",
     "evalue": "name 'b' is not defined",
     "output_type": "error",
     "traceback": [
      "\u001b[1;31m---------------------------------------------------------------------------\u001b[0m",
      "\u001b[1;31mNameError\u001b[0m                                 Traceback (most recent call last)",
      "Cell \u001b[1;32mIn[7], line 2\u001b[0m\n\u001b[0;32m      1\u001b[0m \u001b[38;5;66;03m## Unassigned error \u001b[39;00m\n\u001b[1;32m----> 2\u001b[0m a\u001b[38;5;241m=\u001b[39m\u001b[43mb\u001b[49m\n\u001b[0;32m      3\u001b[0m \u001b[38;5;28mprint\u001b[39m(a)\n",
      "\u001b[1;31mNameError\u001b[0m: name 'b' is not defined"
     ]
    }
   ],
   "source": [
    "## Unassigned error \n",
    "a=b\n",
    "print(a)"
   ]
  },
  {
   "cell_type": "code",
   "execution_count": null,
   "metadata": {},
   "outputs": [],
   "source": []
  }
 ],
 "metadata": {
  "kernelspec": {
   "display_name": "Python 3",
   "language": "python",
   "name": "python3"
  },
  "language_info": {
   "codemirror_mode": {
    "name": "ipython",
    "version": 3
   },
   "file_extension": ".py",
   "mimetype": "text/x-python",
   "name": "python",
   "nbconvert_exporter": "python",
   "pygments_lexer": "ipython3",
   "version": "3.10.0"
  }
 },
 "nbformat": 4,
 "nbformat_minor": 2
}
