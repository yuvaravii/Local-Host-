{
 "cells": [
  {
   "cell_type": "markdown",
   "metadata": {},
   "source": [
    "- What is module  ? why is it needed ?\n",
    "    - Modules are collection of functions, methods and classes for executing a task.\n",
    "    - Why ? : \n",
    "        - these play significant role as they can be re-used.   \n",
    "\n",
    "- How the module is different from package or class ?\n",
    "    - Module : a collection of files with code just similar to books containing chapters.\n",
    "    - Package : Collection of versatile module --> similar to shelf having multiple books.\n",
    "    - Classes : A blueprint for creating objects --> similar to recipe for creating dish.\n",
    "\n",
    "- Syntax for importing packages :\n",
    "    - from yourPackage import yourFunction"
   ]
  },
  {
   "cell_type": "markdown",
   "metadata": {},
   "source": [
    "- How do we create custom packages in python ?\n",
    "    - For creating a package, the folder should contain __init__.py\n",
    "    - This init file initializes them as package and let us to withdraw the modules within the packages\n",
    "- What is __init__ file and why is it needed ?\n",
    "    - it is special python file which helps python to distinguish between a regular directory to a package allowing you to import modules.\n",
    "    \n",
    "    - Why ?\n",
    "        - Enables proper packaging, allowing for better organizing and modularity of the scripts"
   ]
  },
  {
   "cell_type": "code",
   "execution_count": 2,
   "metadata": {},
   "outputs": [
    {
     "name": "stdout",
     "output_type": "stream",
     "text": [
      "4.0\n",
      "5.0\n",
      "3.141592653589793\n"
     ]
    }
   ],
   "source": [
    "from math import sqrt,pi\n",
    "print(sqrt(16))\n",
    "print(sqrt(25))\n",
    "print(pi)"
   ]
  },
  {
   "cell_type": "code",
   "execution_count": 4,
   "metadata": {},
   "outputs": [],
   "source": [
    "from myPackage import myMaths as mtt\n"
   ]
  },
  {
   "cell_type": "code",
   "execution_count": null,
   "metadata": {},
   "outputs": [],
   "source": []
  }
 ],
 "metadata": {
  "kernelspec": {
   "display_name": "Python 3",
   "language": "python",
   "name": "python3"
  },
  "language_info": {
   "codemirror_mode": {
    "name": "ipython",
    "version": 3
   },
   "file_extension": ".py",
   "mimetype": "text/x-python",
   "name": "python",
   "nbconvert_exporter": "python",
   "pygments_lexer": "ipython3",
   "version": "3.10.14"
  }
 },
 "nbformat": 4,
 "nbformat_minor": 2
}
