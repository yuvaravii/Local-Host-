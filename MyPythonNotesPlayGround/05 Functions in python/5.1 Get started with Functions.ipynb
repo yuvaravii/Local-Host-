{
 "cells": [
  {
   "cell_type": "markdown",
   "metadata": {},
   "source": [
    "- What is function and what is its requirement and why is it needed ?\n",
    "    - Function are set of instruction that are used to complete a specific task\n",
    "    - Most of the repetitive tasks are written as function to re-use it and it enhance its readability\n",
    "    - This also reduces the line of code, increasing the efficiency of writing a code\n",
    "    - Enhances the structure of code meaning organizing the code\n",
    "    \n",
    "    - Why ? :\n",
    "        - To eliminate the repetition of code (re-using the entire code) - \n",
    "\n",
    "- Return statements\n",
    "    - Return could output more than one outputs\n",
    "    "
   ]
  },
  {
   "cell_type": "code",
   "execution_count": null,
   "metadata": {},
   "outputs": [],
   "source": [
    "## Syntax \n",
    "def function_name(list_of_parameters):\n",
    "    \"\"\" Doc string : Used to describe what the function does\"\"\"\n",
    "    \n",
    "    expression = \"Write your expression and list the returnable or output\"\n",
    "\n",
    "    return expression"
   ]
  },
  {
   "cell_type": "code",
   "execution_count": 2,
   "metadata": {},
   "outputs": [],
   "source": [
    "## create a function to greet\n",
    "def greet_user(guest_name = \"Guest\"):\n",
    "    print(f\"Hello {guest_name}, welcome to realm of python\")"
   ]
  },
  {
   "cell_type": "code",
   "execution_count": 3,
   "metadata": {},
   "outputs": [
    {
     "name": "stdout",
     "output_type": "stream",
     "text": [
      "Hello Ravishankar, welcome to realm of python\n"
     ]
    }
   ],
   "source": [
    "greet_user('Ravishankar')"
   ]
  },
  {
   "cell_type": "markdown",
   "metadata": {},
   "source": [
    "- What is positional arguments and keyword arguments ?\n",
    "    - Positional arguments\n",
    "        - If the number of inputs to the function is distinct and few in numbers then we would prefer defining each arguments\n",
    "        - If Multiple inputs has to be passed then we use *args : meaning we are calling all the inputs to the function, check below for eg.\n",
    "            - *args --> general practise , the name could be anything\n",
    "    - keyword arguments (**kwargs)\n",
    "        - the inputs to the functions will be in the form of key-value pair\n",
    "        \n",
    "\n",
    "- Always remember, the positional arguments are placed before keywords arguments because of python structuring\n",
    "    "
   ]
  },
  {
   "cell_type": "code",
   "execution_count": 5,
   "metadata": {},
   "outputs": [
    {
     "ename": "TypeError",
     "evalue": "print_values1() takes 3 positional arguments but 4 were given",
     "output_type": "error",
     "traceback": [
      "\u001b[1;31m---------------------------------------------------------------------------\u001b[0m",
      "\u001b[1;31mTypeError\u001b[0m                                 Traceback (most recent call last)",
      "Cell \u001b[1;32mIn[5], line 4\u001b[0m\n\u001b[0;32m      1\u001b[0m \u001b[38;5;28;01mdef\u001b[39;00m \u001b[38;5;21mprint_values1\u001b[39m(num1, num2, num3):\n\u001b[0;32m      2\u001b[0m     \u001b[38;5;28mprint\u001b[39m(num1, num2, num3)\n\u001b[1;32m----> 4\u001b[0m \u001b[43mprint_values1\u001b[49m\u001b[43m(\u001b[49m\u001b[38;5;241;43m1\u001b[39;49m\u001b[43m,\u001b[49m\u001b[38;5;241;43m4\u001b[39;49m\u001b[43m,\u001b[49m\u001b[38;5;241;43m5\u001b[39;49m\u001b[43m,\u001b[49m\u001b[38;5;241;43m6\u001b[39;49m\u001b[43m)\u001b[49m\n",
      "\u001b[1;31mTypeError\u001b[0m: print_values1() takes 3 positional arguments but 4 were given"
     ]
    }
   ],
   "source": [
    "def print_values1(num1, num2, num3):\n",
    "    print(num1, num2, num3)\n",
    "\n",
    "print_values1(1,4,5,6) # not option of extending"
   ]
  },
  {
   "cell_type": "code",
   "execution_count": 6,
   "metadata": {},
   "outputs": [
    {
     "name": "stdout",
     "output_type": "stream",
     "text": [
      "1 4 5\n"
     ]
    }
   ],
   "source": [
    "print_values1(1,4,5)  # Takes in only 3 arguments"
   ]
  },
  {
   "cell_type": "code",
   "execution_count": 7,
   "metadata": {},
   "outputs": [],
   "source": [
    "# Want to create function taking multiple inputs ?\n",
    "def print_values2(*values):\n",
    "    for value in values:\n",
    "        print(value)"
   ]
  },
  {
   "cell_type": "code",
   "execution_count": 8,
   "metadata": {},
   "outputs": [
    {
     "name": "stdout",
     "output_type": "stream",
     "text": [
      "1\n",
      "2\n",
      "3\n",
      "4\n",
      "5\n",
      "64\n",
      "4\n",
      "53\n",
      "0\n"
     ]
    }
   ],
   "source": [
    "print_values2(1,2,3,4,5,64,4,53,0)"
   ]
  },
  {
   "cell_type": "code",
   "execution_count": 11,
   "metadata": {},
   "outputs": [],
   "source": [
    "## Keyword arguments\n",
    "def print_values3(**kwargs):\n",
    "    for key,value in kwargs.items():\n",
    "        print(f\"{key} : {value}\")"
   ]
  },
  {
   "cell_type": "code",
   "execution_count": 12,
   "metadata": {},
   "outputs": [
    {
     "name": "stdout",
     "output_type": "stream",
     "text": [
      "name : ravi\n",
      "age : 32\n",
      "height : 172\n"
     ]
    }
   ],
   "source": [
    "print_values3(name = \"ravi\", age = \"32\", height = \"172\")"
   ]
  },
  {
   "cell_type": "code",
   "execution_count": 15,
   "metadata": {},
   "outputs": [],
   "source": [
    "## Combining positional and keywords arguments\n",
    "def print_values4(*args,**kwargs):\n",
    "    for val in args:\n",
    "        print(f\"positional args : {val}\")\n",
    "    \n",
    "    for key,value in kwargs.items():\n",
    "        print(f\"{key} : {value}\")"
   ]
  },
  {
   "cell_type": "code",
   "execution_count": 16,
   "metadata": {},
   "outputs": [
    {
     "name": "stdout",
     "output_type": "stream",
     "text": [
      "positional args : 1\n",
      "positional args : 6\n",
      "positional args : ravi\n",
      "positional args : G3\n",
      "country : india\n",
      "state : tn\n"
     ]
    }
   ],
   "source": [
    "print_values4(1,6,\"ravi\",\"G3\", country =\"india\", state = \"tn\")"
   ]
  },
  {
   "cell_type": "code",
   "execution_count": 18,
   "metadata": {},
   "outputs": [
    {
     "ename": "SyntaxError",
     "evalue": "invalid syntax (1974855664.py, line 1)",
     "output_type": "error",
     "traceback": [
      "\u001b[1;36m  Cell \u001b[1;32mIn[18], line 1\u001b[1;36m\u001b[0m\n\u001b[1;33m    def print_values5(**kwargs,*args):   # can see the positional arguments can't follow the keyword arguments\u001b[0m\n\u001b[1;37m                               ^\u001b[0m\n\u001b[1;31mSyntaxError\u001b[0m\u001b[1;31m:\u001b[0m invalid syntax\n"
     ]
    }
   ],
   "source": [
    "def print_values5(**kwargs,*args):   # can see the positional arguments can't follow the keyword arguments\n",
    "    for val in args:\n",
    "        print(f\"positional args : {val}\")\n",
    "    \n",
    "    for key,value in kwargs.items():\n",
    "        print(f\"{key} : {value}\")"
   ]
  },
  {
   "cell_type": "code",
   "execution_count": null,
   "metadata": {},
   "outputs": [],
   "source": []
  }
 ],
 "metadata": {
  "kernelspec": {
   "display_name": "Python 3",
   "language": "python",
   "name": "python3"
  },
  "language_info": {
   "codemirror_mode": {
    "name": "ipython",
    "version": 3
   },
   "file_extension": ".py",
   "mimetype": "text/x-python",
   "name": "python",
   "nbconvert_exporter": "python",
   "pygments_lexer": "ipython3",
   "version": "3.10.14"
  }
 },
 "nbformat": 4,
 "nbformat_minor": 2
}
