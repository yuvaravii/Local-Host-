{
 "cells": [
  {
   "cell_type": "markdown",
   "metadata": {},
   "source": [
    "## Encapsulation \n",
    "\n",
    "- What is encapsulation ? why is needed ?\n",
    "    - building and bundling features,data and methods within single unit.\n",
    "    - This controls the accessibility for the end user.\n",
    "    - This enables to secure the information needed and hide irrelevant features to the end user.\n",
    "    - This also enables the user to hide complex implementation and intricate details allowing to expose the necessary features\n",
    "\n",
    "\n",
    "- WHY ??\n",
    "    - Security\n",
    "    - Misuse of data\n",
    "    - reducing interference\n",
    "    - Bundling and wrapping to form a single unit.\n",
    "\n",
    "- HOW ??\n",
    "    - Getter and setter are used \n",
    "    - Public , private and protected \n",
    "        - Public : viewable and editable\n",
    "        - protected : viewable and non editable > used via child class\n",
    "        - private : non viewable and non editable"
   ]
  },
  {
   "cell_type": "markdown",
   "metadata": {},
   "source": [
    "### Public"
   ]
  },
  {
   "cell_type": "code",
   "execution_count": 8,
   "metadata": {},
   "outputs": [],
   "source": [
    "# PUBLIC \n",
    "class Vehicle:\n",
    "    def __init__(self,make, model,year):\n",
    "        self.make = make  # public\n",
    "        self.model = model\n",
    "        self.year = year\n",
    "\n",
    "    def get_year(self):\n",
    "        return f\"age of vehicle : {self.year}\""
   ]
  },
  {
   "cell_type": "code",
   "execution_count": 9,
   "metadata": {},
   "outputs": [],
   "source": [
    "# I can use the feature outside the class\n",
    "veh1 = Vehicle(\"honda\",\"jazz\",2016)\n",
    "def get_vehicle_info(Vehicle):\n",
    "    return Vehicle.make,Vehicle.model,Vehicle.year"
   ]
  },
  {
   "cell_type": "code",
   "execution_count": 10,
   "metadata": {},
   "outputs": [
    {
     "data": {
      "text/plain": [
       "('honda', 'jazz', 2016)"
      ]
     },
     "execution_count": 10,
     "metadata": {},
     "output_type": "execute_result"
    }
   ],
   "source": [
    "get_vehicle_info(veh1)  # i have not created any function within class, yet i can access the feature names"
   ]
  },
  {
   "cell_type": "code",
   "execution_count": 11,
   "metadata": {},
   "outputs": [
    {
     "data": {
      "text/plain": [
       "['__class__',\n",
       " '__delattr__',\n",
       " '__dict__',\n",
       " '__dir__',\n",
       " '__doc__',\n",
       " '__eq__',\n",
       " '__format__',\n",
       " '__ge__',\n",
       " '__getattribute__',\n",
       " '__gt__',\n",
       " '__hash__',\n",
       " '__init__',\n",
       " '__init_subclass__',\n",
       " '__le__',\n",
       " '__lt__',\n",
       " '__module__',\n",
       " '__ne__',\n",
       " '__new__',\n",
       " '__reduce__',\n",
       " '__reduce_ex__',\n",
       " '__repr__',\n",
       " '__setattr__',\n",
       " '__sizeof__',\n",
       " '__str__',\n",
       " '__subclasshook__',\n",
       " '__weakref__',\n",
       " 'get_year',\n",
       " 'make',\n",
       " 'model',\n",
       " 'year']"
      ]
     },
     "execution_count": 11,
     "metadata": {},
     "output_type": "execute_result"
    }
   ],
   "source": [
    "dir(veh1)  # you could locate \"get_age\" functions"
   ]
  },
  {
   "cell_type": "code",
   "execution_count": 12,
   "metadata": {},
   "outputs": [
    {
     "data": {
      "text/plain": [
       "'age of vehicle : 2016'"
      ]
     },
     "execution_count": 12,
     "metadata": {},
     "output_type": "execute_result"
    }
   ],
   "source": [
    "veh1.get_year()"
   ]
  },
  {
   "cell_type": "markdown",
   "metadata": {},
   "source": [
    "### Private"
   ]
  },
  {
   "cell_type": "code",
   "execution_count": 37,
   "metadata": {},
   "outputs": [],
   "source": [
    "# private \n",
    "class Vehicle:\n",
    "    def __init__(self,make, model,year):\n",
    "        self.__make = make  # private --> Neither can see nor edit\n",
    "        self.__model = model # private\n",
    "        self.year = year    # public\n",
    "\n",
    "    def get_age(self):\n",
    "        return f\"age of vehicle : {self.age}\"\n",
    "    \n",
    "def get_make(self):    # defining a function outside the class wont allow you to fetch make but if the function is within the class then we could fetch the result\n",
    "    return f\"make of vehicle : {self.__make}\"\n",
    "\n",
    "def get_make2(self):   # this is not a good practice and only developer could see \"_Vehicle__make\"\n",
    "    return self._Vehicle__make"
   ]
  },
  {
   "cell_type": "code",
   "execution_count": 38,
   "metadata": {},
   "outputs": [
    {
     "data": {
      "text/plain": [
       "['_Vehicle__make',\n",
       " '_Vehicle__model',\n",
       " '__class__',\n",
       " '__delattr__',\n",
       " '__dict__',\n",
       " '__dir__',\n",
       " '__doc__',\n",
       " '__eq__',\n",
       " '__format__',\n",
       " '__ge__',\n",
       " '__getattribute__',\n",
       " '__gt__',\n",
       " '__hash__',\n",
       " '__init__',\n",
       " '__init_subclass__',\n",
       " '__le__',\n",
       " '__lt__',\n",
       " '__module__',\n",
       " '__ne__',\n",
       " '__new__',\n",
       " '__reduce__',\n",
       " '__reduce_ex__',\n",
       " '__repr__',\n",
       " '__setattr__',\n",
       " '__sizeof__',\n",
       " '__str__',\n",
       " '__subclasshook__',\n",
       " '__weakref__',\n",
       " 'get_age',\n",
       " 'year']"
      ]
     },
     "execution_count": 38,
     "metadata": {},
     "output_type": "execute_result"
    }
   ],
   "source": [
    "veh2 = Vehicle(\"Honda\",\"Jazz\",2024)\n",
    "dir(veh2)  ## here vehicle make and model, cannot be seen or edited."
   ]
  },
  {
   "cell_type": "code",
   "execution_count": 39,
   "metadata": {},
   "outputs": [
    {
     "ename": "AttributeError",
     "evalue": "'Vehicle' object has no attribute 'get_make'",
     "output_type": "error",
     "traceback": [
      "\u001b[1;31m---------------------------------------------------------------------------\u001b[0m",
      "\u001b[1;31mAttributeError\u001b[0m                            Traceback (most recent call last)",
      "Cell \u001b[1;32mIn[39], line 1\u001b[0m\n\u001b[1;32m----> 1\u001b[0m \u001b[43mveh2\u001b[49m\u001b[38;5;241;43m.\u001b[39;49m\u001b[43mget_make\u001b[49m()\n",
      "\u001b[1;31mAttributeError\u001b[0m: 'Vehicle' object has no attribute 'get_make'"
     ]
    }
   ],
   "source": [
    "veh2.get_make()"
   ]
  },
  {
   "cell_type": "code",
   "execution_count": 40,
   "metadata": {},
   "outputs": [
    {
     "data": {
      "text/plain": [
       "'Honda'"
      ]
     },
     "execution_count": 40,
     "metadata": {},
     "output_type": "execute_result"
    }
   ],
   "source": [
    "get_make2(veh2)"
   ]
  },
  {
   "cell_type": "markdown",
   "metadata": {},
   "source": [
    "### Encapsulation with Getter and setter"
   ]
  },
  {
   "cell_type": "code",
   "execution_count": 46,
   "metadata": {},
   "outputs": [],
   "source": [
    "# encapsulation with getter and setter \n",
    "class Vehicle:\n",
    "    def __init__(self,make,model,year):\n",
    "        self.__make = make\n",
    "        self.__model = model\n",
    "        self.year = year\n",
    "\n",
    "    def get_vehicle_info(self):\n",
    "        return self.__make,self.__model,self.year\n",
    "\n",
    "    ## defining a getter since it can't be accessed by end user\n",
    "    def get_make(self):\n",
    "        return self.__make\n",
    "    \n",
    "    ## Defining a setter for making changes on the private variable\n",
    "    def set_make(self,make):\n",
    "        self.__make = make  # here now the end user could make changes on make"
   ]
  },
  {
   "cell_type": "code",
   "execution_count": 47,
   "metadata": {},
   "outputs": [
    {
     "name": "stdout",
     "output_type": "stream",
     "text": [
      "Honda\n",
      "('Honda', 'Jazz', 2023)\n"
     ]
    }
   ],
   "source": [
    "veh3 = Vehicle(\"Honda\",\"Jazz\",2023)\n",
    "\n",
    "# print & modify the private attributes\n",
    "print(veh3.get_make())\n",
    "print(veh3.get_vehicle_info())"
   ]
  },
  {
   "cell_type": "code",
   "execution_count": 48,
   "metadata": {},
   "outputs": [
    {
     "name": "stdout",
     "output_type": "stream",
     "text": [
      "Hyundai\n",
      "('Hyundai', 'Jazz', 2023)\n"
     ]
    }
   ],
   "source": [
    "veh3.set_make(\"Hyundai\")\n",
    "print(veh3.get_make())\n",
    "print(veh3.get_vehicle_info())"
   ]
  },
  {
   "cell_type": "code",
   "execution_count": null,
   "metadata": {},
   "outputs": [],
   "source": []
  }
 ],
 "metadata": {
  "kernelspec": {
   "display_name": "Python 3",
   "language": "python",
   "name": "python3"
  },
  "language_info": {
   "codemirror_mode": {
    "name": "ipython",
    "version": 3
   },
   "file_extension": ".py",
   "mimetype": "text/x-python",
   "name": "python",
   "nbconvert_exporter": "python",
   "pygments_lexer": "ipython3",
   "version": "3.10.14"
  }
 },
 "nbformat": 4,
 "nbformat_minor": 2
}
