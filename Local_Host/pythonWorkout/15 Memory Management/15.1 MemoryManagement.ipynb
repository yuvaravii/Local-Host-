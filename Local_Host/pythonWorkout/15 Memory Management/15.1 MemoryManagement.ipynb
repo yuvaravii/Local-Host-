{
 "cells": [
  {
   "cell_type": "markdown",
   "metadata": {},
   "source": [
    "# Memory management \n",
    "\n",
    "- What is memory management ?\n",
    "    - Includes automatic garbage collection, reference counting and other optimization which happens internally for memory allocation and de allocation.\n",
    "\n",
    "\n",
    "- What is reference counting ?\n",
    "    - There will be a reference that points to each memory allocated.\n",
    "    - Counting these references helps us to understand the total memory allocated\n",
    "    - When the total reference count drops to zero --> means that memory allocated by a object earlier is de-allocated now.\n",
    "\n",
    "- Why do we need memory management ?\n",
    "    - When we don't remove what we don't want then we might lose what we want.\n",
    "    - We are executing tasks with limited resources(RAM), so to get the maximum output, we need organize it sequentially and efficiently.\n",
    "    - In ideal scenerio, we could execute multiple tasks with minimum resources(RAM)\n",
    "    - Memory management enables to execute multiple tasks without hindering or obstructing each other. Kind of isolation and execution.\n",
    "- What is the output anticipated ?\n",
    "    - Multiple tasks should be run with minimalistic resources by managing it to the fullest.\n"
   ]
  },
  {
   "cell_type": "code",
   "execution_count": 7,
   "metadata": {},
   "outputs": [
    {
     "name": "stdout",
     "output_type": "stream",
     "text": [
      "2\n"
     ]
    }
   ],
   "source": [
    "# check for reference counting \n",
    "import sys\n",
    "\n",
    "a = []\n",
    "print(sys.getrefcount(a))\n",
    "\n",
    "# 2 --> because, one refernces the list and other references the function {getrefcount()}"
   ]
  },
  {
   "cell_type": "code",
   "execution_count": 8,
   "metadata": {},
   "outputs": [
    {
     "name": "stdout",
     "output_type": "stream",
     "text": [
      "3\n"
     ]
    }
   ],
   "source": [
    "b = a\n",
    "print(sys.getrefcount(b))\n",
    "# 3 --> b, a the list, and  getrefcount function"
   ]
  },
  {
   "cell_type": "code",
   "execution_count": 9,
   "metadata": {},
   "outputs": [
    {
     "name": "stdout",
     "output_type": "stream",
     "text": [
      "2\n"
     ]
    }
   ],
   "source": [
    "del b\n",
    "print(sys.getrefcount(a))\n",
    "\n",
    "# 2 --> b is del, a the list and getrefcount function"
   ]
  },
  {
   "cell_type": "markdown",
   "metadata": {},
   "source": [
    "- What is garbage collection ?\n",
    "    - Similar to constructor (which helps in instantiating a object with features and methods), we have destructor (used to de-allocate the memory)\n",
    "    - This is handled by python automatically\n",
    "    - This is cyclic in nature, the reference cycle refer each other preventing their reference count to zero."
   ]
  },
  {
   "cell_type": "code",
   "execution_count": 10,
   "metadata": {},
   "outputs": [],
   "source": [
    "import gc   # garbage collector\n",
    "\n",
    "# garbage collection\n",
    "gc.enable()"
   ]
  },
  {
   "cell_type": "code",
   "execution_count": 11,
   "metadata": {},
   "outputs": [],
   "source": [
    "gc.disable()"
   ]
  },
  {
   "cell_type": "code",
   "execution_count": 12,
   "metadata": {},
   "outputs": [
    {
     "data": {
      "text/plain": [
       "0"
      ]
     },
     "execution_count": 12,
     "metadata": {},
     "output_type": "execute_result"
    }
   ],
   "source": [
    "gc.collect()  # these many number of objects are unreachable. Within the environment and outside."
   ]
  },
  {
   "cell_type": "code",
   "execution_count": 13,
   "metadata": {},
   "outputs": [
    {
     "name": "stdout",
     "output_type": "stream",
     "text": [
      "[{'collections': 191, 'collected': 1521, 'uncollectable': 0}, {'collections': 17, 'collected': 799, 'uncollectable': 0}, {'collections': 3, 'collected': 35, 'uncollectable': 0}]\n"
     ]
    }
   ],
   "source": [
    "# what if, i need to collect the stats for the garbage collection.\n",
    "print(gc.get_stats())"
   ]
  },
  {
   "cell_type": "markdown",
   "metadata": {},
   "source": [
    "- Each dictionary represents a generation in the garbage collector:\n",
    "\n",
    "    - collections: The number of times the garbage collector has run for this generation.\n",
    "    - collected: The number of objects collected by the garbage collector in this generation.\n",
    "    - uncollectable: The number of objects that could not be collected and have been added to gc.garbage."
   ]
  },
  {
   "cell_type": "code",
   "execution_count": 14,
   "metadata": {},
   "outputs": [
    {
     "data": {
      "text/plain": [
       "[]"
      ]
     },
     "execution_count": 14,
     "metadata": {},
     "output_type": "execute_result"
    }
   ],
   "source": [
    "# I want to view only the number of garbage are \n",
    "gc.garbage # no garbage now"
   ]
  },
  {
   "cell_type": "markdown",
   "metadata": {},
   "source": [
    "# Memory management best practices"
   ]
  },
  {
   "cell_type": "markdown",
   "metadata": {},
   "source": [
    "1. Use local variable than global variables as the local variables are easily disposed on completing the tasks, however the global variables remains\n",
    "2. Avoid circular references : circular references can lead to memory leaks if not properly managed.\n",
    "3. Use generators : Instead of using the collection items like list, use generators, as they call one item per call --> creating a temporary call out.\n",
    "4. Explicitly delete objects : Use del statement to del the objects after use explicitly saving space and memory\n",
    "5. Profile memory usage : Use tools like tracemalloc and memory_profiler to identify the memory leaks and optimize the memory usage."
   ]
  },
  {
   "cell_type": "markdown",
   "metadata": {},
   "source": [
    "## creation and deletion of circular references"
   ]
  },
  {
   "cell_type": "code",
   "execution_count": 38,
   "metadata": {},
   "outputs": [],
   "source": [
    "import gc # garbage collector\n",
    "\n",
    "class MyObject:\n",
    "    def __init__(self, name):\n",
    "        self.name = name \n",
    "        print(f\"The object {self.name} is created\")\n",
    "\n",
    "    def __del__(self):\n",
    "        print(f\"The object {self.name} is deleted\")"
   ]
  },
  {
   "cell_type": "code",
   "execution_count": 39,
   "metadata": {},
   "outputs": [
    {
     "name": "stdout",
     "output_type": "stream",
     "text": [
      "The object obj1 is created\n",
      "The object obj2 is created\n"
     ]
    }
   ],
   "source": [
    "# creating objects\n",
    "obj1 = MyObject(\"obj1\")\n",
    "obj2 = MyObject(\"obj2\")"
   ]
  },
  {
   "cell_type": "code",
   "execution_count": 40,
   "metadata": {},
   "outputs": [],
   "source": [
    "# circular reference\n",
    "obj1.ref = obj2\n",
    "obj2.ref = obj1"
   ]
  },
  {
   "cell_type": "code",
   "execution_count": 41,
   "metadata": {},
   "outputs": [],
   "source": [
    "# deleting the object \n",
    "del obj1\n",
    "del obj2 \n",
    "\n",
    "# once done : obj1 & obj2 will not be reachable\n",
    "# since it is circular in nature they garbage collection doesn't take place"
   ]
  },
  {
   "cell_type": "code",
   "execution_count": 42,
   "metadata": {},
   "outputs": [
    {
     "name": "stdout",
     "output_type": "stream",
     "text": [
      "The object obj1 is deleted\n",
      "The object obj2 is deleted\n",
      "11\n",
      "\n",
      "[]\n",
      "\n",
      "[{'collections': 191, 'collected': 1521, 'uncollectable': 0}, {'collections': 17, 'collected': 799, 'uncollectable': 0}, {'collections': 9, 'collected': 1144, 'uncollectable': 0}]\n",
      "\n",
      "[]\n"
     ]
    }
   ],
   "source": [
    "print(gc.collect() ) # here, we have manually triggered the garbage allocation\n",
    "print('')\n",
    "print(gc.garbage)\n",
    "print('')\n",
    "print(gc.get_stats())\n",
    "print('')\n",
    "print(gc.garbage)"
   ]
  },
  {
   "cell_type": "markdown",
   "metadata": {},
   "source": [
    "## creating generators"
   ]
  },
  {
   "cell_type": "code",
   "execution_count": 43,
   "metadata": {},
   "outputs": [
    {
     "name": "stdout",
     "output_type": "stream",
     "text": [
      "1\n",
      "2\n",
      "3\n",
      "4\n",
      "5\n",
      "6\n",
      "7\n",
      "8\n",
      "9\n",
      "10\n",
      "11\n",
      "12\n",
      "13\n",
      "14\n",
      "15\n",
      "16\n"
     ]
    }
   ],
   "source": [
    "def generate_range(n):\n",
    "    for i in range(1,n):\n",
    "        yield i\n",
    "\n",
    "# using generators\n",
    "for num in generate_range(1000):\n",
    "    print(num)\n",
    "    if num>15:\n",
    "        break"
   ]
  },
  {
   "cell_type": "markdown",
   "metadata": {},
   "source": [
    "## profiling Memory usage with tracemalloc"
   ]
  },
  {
   "cell_type": "code",
   "execution_count": 47,
   "metadata": {},
   "outputs": [],
   "source": [
    "import tracemalloc\n",
    "\n",
    "def create_list():\n",
    "    return [i for i in range(1000)]\n",
    "\n",
    "def main():\n",
    "    tracemalloc.start()\n",
    "\n",
    "    create_list()\n",
    "\n",
    "    snapshot = tracemalloc.take_snapshot()  # takes snapshot of the memory allocations\n",
    "    top_stats = snapshot.statistics('lineno') # based on key_type\n",
    "\n",
    "    print(\"Top 10 Stats mentioned below\")\n",
    "    for stat in top_stats[:]:\n",
    "        print(stat)\n"
   ]
  },
  {
   "cell_type": "code",
   "execution_count": 48,
   "metadata": {},
   "outputs": [
    {
     "name": "stdout",
     "output_type": "stream",
     "text": [
      "Top 10 Stats mentioned below\n",
      "d:\\01. Projects\\krishNaik lesson\\execution\\myenv\\lib\\selectors.py:315: size=144 KiB, count=3, average=48.0 KiB\n",
      "d:\\01. Projects\\krishNaik lesson\\execution\\myenv\\lib\\site-packages\\IPython\\core\\builtin_trap.py:63: size=9248 B, count=1, average=9248 B\n",
      "d:\\01. Projects\\krishNaik lesson\\execution\\myenv\\lib\\json\\decoder.py:353: size=3629 B, count=36, average=101 B\n",
      "d:\\01. Projects\\krishNaik lesson\\execution\\myenv\\lib\\site-packages\\IPython\\core\\compilerop.py:174: size=2167 B, count=26, average=83 B\n",
      "d:\\01. Projects\\krishNaik lesson\\execution\\myenv\\lib\\codeop.py:118: size=1952 B, count=24, average=81 B\n",
      "d:\\01. Projects\\krishNaik lesson\\execution\\myenv\\lib\\site-packages\\zmq\\sugar\\attrsettr.py:45: size=1870 B, count=34, average=55 B\n",
      "d:\\01. Projects\\krishNaik lesson\\execution\\myenv\\lib\\site-packages\\traitlets\\traitlets.py:1514: size=1848 B, count=11, average=168 B\n",
      "d:\\01. Projects\\krishNaik lesson\\execution\\myenv\\lib\\site-packages\\traitlets\\traitlets.py:731: size=1697 B, count=24, average=71 B\n",
      "d:\\01. Projects\\krishNaik lesson\\execution\\myenv\\lib\\site-packages\\jupyter_client\\jsonutil.py:111: size=1450 B, count=25, average=58 B\n",
      "d:\\01. Projects\\krishNaik lesson\\execution\\myenv\\lib\\site-packages\\jupyter_client\\session.py:95: size=1243 B, count=8, average=155 B\n",
      "d:\\01. Projects\\krishNaik lesson\\execution\\myenv\\lib\\site-packages\\traitlets\\traitlets.py:1543: size=1156 B, count=17, average=68 B\n",
      "d:\\01. Projects\\krishNaik lesson\\execution\\myenv\\lib\\site-packages\\ipykernel\\iostream.py:346: size=1080 B, count=11, average=98 B\n",
      "d:\\01. Projects\\krishNaik lesson\\execution\\myenv\\lib\\site-packages\\zmq\\sugar\\socket.py:809: size=1056 B, count=6, average=176 B\n",
      "d:\\01. Projects\\krishNaik lesson\\execution\\myenv\\lib\\threading.py:607: size=1056 B, count=2, average=528 B\n",
      "d:\\01. Projects\\krishNaik lesson\\execution\\myenv\\lib\\site-packages\\IPython\\core\\interactiveshell.py:3104: size=1024 B, count=8, average=128 B\n",
      "d:\\01. Projects\\krishNaik lesson\\execution\\myenv\\lib\\site-packages\\IPython\\core\\compilerop.py:86: size=1006 B, count=17, average=59 B\n",
      "d:\\01. Projects\\krishNaik lesson\\execution\\myenv\\lib\\site-packages\\jupyter_client\\session.py:1057: size=933 B, count=7, average=133 B\n",
      "d:\\01. Projects\\krishNaik lesson\\execution\\myenv\\lib\\site-packages\\IPython\\core\\history.py:782: size=906 B, count=3, average=302 B\n",
      "d:\\01. Projects\\krishNaik lesson\\execution\\myenv\\lib\\site-packages\\IPython\\core\\history.py:783: size=851 B, count=2, average=426 B\n",
      "d:\\01. Projects\\krishNaik lesson\\execution\\myenv\\lib\\tracemalloc.py:226: size=832 B, count=2, average=416 B\n",
      "d:\\01. Projects\\krishNaik lesson\\execution\\myenv\\lib\\tracemalloc.py:505: size=824 B, count=2, average=412 B\n",
      "d:\\01. Projects\\krishNaik lesson\\execution\\myenv\\lib\\tracemalloc.py:173: size=800 B, count=2, average=400 B\n",
      "d:\\01. Projects\\krishNaik lesson\\execution\\myenv\\lib\\site-packages\\ipykernel\\iostream.py:287: size=776 B, count=4, average=194 B\n",
      "d:\\01. Projects\\krishNaik lesson\\execution\\myenv\\lib\\asyncio\\events.py:80: size=656 B, count=6, average=109 B\n",
      "d:\\01. Projects\\krishNaik lesson\\execution\\myenv\\lib\\inspect.py:2401: size=632 B, count=1, average=632 B\n",
      "C:\\Users\\gcera\\AppData\\Local\\Temp\\ipykernel_16860\\451043146.py:1: size=632 B, count=1, average=632 B\n",
      "d:\\01. Projects\\krishNaik lesson\\execution\\myenv\\lib\\site-packages\\jupyter_client\\jsonutil.py:75: size=592 B, count=2, average=296 B\n",
      "d:\\01. Projects\\krishNaik lesson\\execution\\myenv\\lib\\tracemalloc.py:533: size=568 B, count=1, average=568 B\n",
      "d:\\01. Projects\\krishNaik lesson\\execution\\myenv\\lib\\site-packages\\IPython\\core\\ultratb.py:552: size=560 B, count=1, average=560 B\n",
      "d:\\01. Projects\\krishNaik lesson\\execution\\myenv\\lib\\site-packages\\zmq\\sugar\\socket.py:756: size=552 B, count=2, average=276 B\n",
      "d:\\01. Projects\\krishNaik lesson\\execution\\myenv\\lib\\site-packages\\ipykernel\\iostream.py:276: size=544 B, count=5, average=109 B\n",
      "d:\\01. Projects\\krishNaik lesson\\execution\\myenv\\lib\\site-packages\\jupyter_client\\session.py:1082: size=520 B, count=1, average=520 B\n",
      "d:\\01. Projects\\krishNaik lesson\\execution\\myenv\\lib\\site-packages\\zmq\\eventloop\\zmqstream.py:640: size=488 B, count=1, average=488 B\n",
      "d:\\01. Projects\\krishNaik lesson\\execution\\myenv\\lib\\site-packages\\ipykernel\\iostream.py:609: size=488 B, count=1, average=488 B\n",
      "d:\\01. Projects\\krishNaik lesson\\execution\\myenv\\lib\\site-packages\\IPython\\core\\ultratb.py:642: size=488 B, count=1, average=488 B\n",
      "d:\\01. Projects\\krishNaik lesson\\execution\\myenv\\lib\\site-packages\\IPython\\core\\interactiveshell.py:3577: size=488 B, count=1, average=488 B\n",
      "d:\\01. Projects\\krishNaik lesson\\execution\\myenv\\lib\\site-packages\\IPython\\core\\history.py:903: size=488 B, count=1, average=488 B\n",
      "d:\\01. Projects\\krishNaik lesson\\execution\\myenv\\lib\\selectors.py:324: size=488 B, count=1, average=488 B\n",
      "C:\\Users\\gcera\\AppData\\Local\\Temp\\ipykernel_16860\\4057375927.py:4: size=488 B, count=1, average=488 B\n",
      "C:\\Users\\gcera\\AppData\\Local\\Temp\\ipykernel_16860\\1424934605.py:12: size=448 B, count=1, average=448 B\n",
      "C:\\Users\\gcera\\AppData\\Local\\Temp\\ipykernel_16860\\4057375927.py:9: size=440 B, count=1, average=440 B\n",
      "d:\\01. Projects\\krishNaik lesson\\execution\\myenv\\lib\\site-packages\\IPython\\core\\interactiveshell.py:3317: size=432 B, count=1, average=432 B\n",
      "d:\\01. Projects\\krishNaik lesson\\execution\\myenv\\lib\\site-packages\\IPython\\core\\interactiveshell.py:3380: size=426 B, count=1, average=426 B\n",
      "d:\\01. Projects\\krishNaik lesson\\execution\\myenv\\lib\\tracemalloc.py:498: size=424 B, count=1, average=424 B\n",
      "d:\\01. Projects\\krishNaik lesson\\execution\\myenv\\lib\\tracemalloc.py:560: size=416 B, count=1, average=416 B\n",
      "d:\\01. Projects\\krishNaik lesson\\execution\\myenv\\lib\\tracemalloc.py:423: size=416 B, count=1, average=416 B\n",
      "d:\\01. Projects\\krishNaik lesson\\execution\\myenv\\lib\\site-packages\\IPython\\core\\ultratb.py:692: size=416 B, count=1, average=416 B\n",
      "C:\\Users\\gcera\\AppData\\Local\\Temp\\ipykernel_16860\\4057375927.py:11: size=416 B, count=1, average=416 B\n",
      "d:\\01. Projects\\krishNaik lesson\\execution\\myenv\\lib\\tracemalloc.py:535: size=408 B, count=1, average=408 B\n",
      "d:\\01. Projects\\krishNaik lesson\\execution\\myenv\\lib\\tracemalloc.py:207: size=408 B, count=1, average=408 B\n",
      "d:\\01. Projects\\krishNaik lesson\\execution\\myenv\\lib\\tracemalloc.py:53: size=408 B, count=1, average=408 B\n",
      "d:\\01. Projects\\krishNaik lesson\\execution\\myenv\\lib\\threading.py:255: size=368 B, count=2, average=184 B\n",
      "d:\\01. Projects\\krishNaik lesson\\execution\\myenv\\lib\\site-packages\\tornado\\queues.py:248: size=336 B, count=2, average=168 B\n",
      "d:\\01. Projects\\krishNaik lesson\\execution\\myenv\\lib\\asyncio\\base_events.py:429: size=336 B, count=2, average=168 B\n",
      "d:\\01. Projects\\krishNaik lesson\\execution\\myenv\\lib\\site-packages\\ipykernel\\compiler.py:91: size=335 B, count=3, average=112 B\n",
      "d:\\01. Projects\\krishNaik lesson\\execution\\myenv\\lib\\site-packages\\ipykernel\\iostream.py:527: size=304 B, count=4, average=76 B\n",
      "d:\\01. Projects\\krishNaik lesson\\execution\\myenv\\lib\\site-packages\\jupyter_client\\session.py:1085: size=296 B, count=1, average=296 B\n",
      "d:\\01. Projects\\krishNaik lesson\\execution\\myenv\\lib\\site-packages\\ipykernel\\kernelbase.py:770: size=296 B, count=1, average=296 B\n",
      "d:\\01. Projects\\krishNaik lesson\\execution\\myenv\\lib\\asyncio\\base_events.py:773: size=288 B, count=3, average=96 B\n",
      "d:\\01. Projects\\krishNaik lesson\\execution\\myenv\\lib\\site-packages\\IPython\\core\\interactiveshell.py:3237: size=288 B, count=2, average=144 B\n",
      "d:\\01. Projects\\krishNaik lesson\\execution\\myenv\\lib\\site-packages\\ipykernel\\zmqshell.py:549: size=272 B, count=3, average=91 B\n",
      "d:\\01. Projects\\krishNaik lesson\\execution\\myenv\\lib\\site-packages\\IPython\\core\\interactiveshell.py:259: size=248 B, count=5, average=50 B\n",
      "d:\\01. Projects\\krishNaik lesson\\execution\\myenv\\lib\\site-packages\\IPython\\core\\history.py:836: size=216 B, count=3, average=72 B\n",
      "d:\\01. Projects\\krishNaik lesson\\execution\\myenv\\lib\\asyncio\\futures.py:416: size=200 B, count=5, average=40 B\n",
      "d:\\01. Projects\\krishNaik lesson\\execution\\myenv\\lib\\site-packages\\IPython\\core\\interactiveshell.py:3306: size=200 B, count=2, average=100 B\n",
      "d:\\01. Projects\\krishNaik lesson\\execution\\myenv\\lib\\site-packages\\jupyter_client\\session.py:688: size=194 B, count=2, average=97 B\n",
      "d:\\01. Projects\\krishNaik lesson\\execution\\myenv\\lib\\site-packages\\jupyter_client\\session.py:750: size=192 B, count=2, average=96 B\n",
      "d:\\01. Projects\\krishNaik lesson\\execution\\myenv\\lib\\site-packages\\zmq\\sugar\\socket.py:806: size=184 B, count=2, average=92 B\n",
      "d:\\01. Projects\\krishNaik lesson\\execution\\myenv\\lib\\site-packages\\IPython\\core\\async_helpers.py:150: size=182 B, count=3, average=61 B\n",
      "d:\\01. Projects\\krishNaik lesson\\execution\\myenv\\lib\\site-packages\\ipykernel\\kernelbase.py:1182: size=173 B, count=2, average=86 B\n",
      "d:\\01. Projects\\krishNaik lesson\\execution\\myenv\\lib\\site-packages\\zmq\\eventloop\\zmqstream.py:652: size=168 B, count=1, average=168 B\n",
      "d:\\01. Projects\\krishNaik lesson\\execution\\myenv\\lib\\inspect.py:156: size=168 B, count=1, average=168 B\n",
      "d:\\01. Projects\\krishNaik lesson\\execution\\myenv\\lib\\site-packages\\IPython\\core\\history.py:805: size=159 B, count=3, average=53 B\n",
      "d:\\01. Projects\\krishNaik lesson\\execution\\myenv\\lib\\site-packages\\ipykernel\\kernelbase.py:775: size=152 B, count=2, average=76 B\n",
      "d:\\01. Projects\\krishNaik lesson\\execution\\myenv\\lib\\site-packages\\IPython\\core\\interactiveshell.py:3224: size=144 B, count=3, average=48 B\n",
      "d:\\01. Projects\\krishNaik lesson\\execution\\myenv\\lib\\site-packages\\IPython\\core\\interactiveshell.py:3223: size=144 B, count=3, average=48 B\n",
      "d:\\01. Projects\\krishNaik lesson\\execution\\myenv\\lib\\site-packages\\tornado\\platform\\asyncio.py:235: size=144 B, count=2, average=72 B\n",
      "d:\\01. Projects\\krishNaik lesson\\execution\\myenv\\lib\\site-packages\\ipykernel\\iostream.py:722: size=144 B, count=2, average=72 B\n",
      "d:\\01. Projects\\krishNaik lesson\\execution\\myenv\\lib\\site-packages\\ipykernel\\kernelbase.py:570: size=144 B, count=1, average=144 B\n",
      "d:\\01. Projects\\krishNaik lesson\\execution\\myenv\\lib\\site-packages\\IPython\\core\\interactiveshell.py:3493: size=144 B, count=1, average=144 B\n",
      "d:\\01. Projects\\krishNaik lesson\\execution\\myenv\\lib\\asyncio\\futures.py:392: size=144 B, count=1, average=144 B\n",
      "d:\\01. Projects\\krishNaik lesson\\execution\\myenv\\lib\\asyncio\\futures.py:385: size=144 B, count=1, average=144 B\n",
      "d:\\01. Projects\\krishNaik lesson\\execution\\myenv\\lib\\asyncio\\futures.py:379: size=144 B, count=1, average=144 B\n",
      "C:\\Users\\gcera\\AppData\\Local\\Temp\\ipykernel_16860\\4057375927.py:6: size=144 B, count=1, average=144 B\n",
      "C:\\Users\\gcera\\AppData\\Local\\Temp\\ipykernel_16860\\4057375927.py:3: size=144 B, count=1, average=144 B\n",
      "d:\\01. Projects\\krishNaik lesson\\execution\\myenv\\lib\\site-packages\\ipykernel\\ipkernel.py:449: size=128 B, count=2, average=64 B\n",
      "d:\\01. Projects\\krishNaik lesson\\execution\\myenv\\lib\\concurrent\\futures\\_base.py:332: size=128 B, count=2, average=64 B\n",
      "d:\\01. Projects\\krishNaik lesson\\execution\\myenv\\lib\\threading.py:313: size=120 B, count=2, average=60 B\n",
      "d:\\01. Projects\\krishNaik lesson\\execution\\myenv\\lib\\threading.py:101: size=120 B, count=2, average=60 B\n",
      "d:\\01. Projects\\krishNaik lesson\\execution\\myenv\\lib\\site-packages\\IPython\\core\\interactiveshell.py:3375: size=112 B, count=2, average=56 B\n",
      "d:\\01. Projects\\krishNaik lesson\\execution\\myenv\\lib\\site-packages\\ipykernel\\kernelbase.py:545: size=112 B, count=1, average=112 B\n",
      "d:\\01. Projects\\krishNaik lesson\\execution\\myenv\\lib\\site-packages\\ipykernel\\kernelbase.py:534: size=112 B, count=1, average=112 B\n",
      "d:\\01. Projects\\krishNaik lesson\\execution\\myenv\\lib\\site-packages\\ipykernel\\kernelbase.py:435: size=112 B, count=1, average=112 B\n",
      "d:\\01. Projects\\krishNaik lesson\\execution\\myenv\\lib\\site-packages\\ipykernel\\ipkernel.py:362: size=112 B, count=1, average=112 B\n",
      "d:\\01. Projects\\krishNaik lesson\\execution\\myenv\\lib\\site-packages\\ipykernel\\iostream.py:121: size=112 B, count=1, average=112 B\n",
      "d:\\01. Projects\\krishNaik lesson\\execution\\myenv\\lib\\site-packages\\IPython\\core\\interactiveshell.py:3517: size=112 B, count=1, average=112 B\n",
      "d:\\01. Projects\\krishNaik lesson\\execution\\myenv\\lib\\site-packages\\IPython\\core\\interactiveshell.py:3334: size=112 B, count=1, average=112 B\n",
      "d:\\01. Projects\\krishNaik lesson\\execution\\myenv\\lib\\asyncio\\base_events.py:736: size=112 B, count=1, average=112 B\n",
      "d:\\01. Projects\\krishNaik lesson\\execution\\myenv\\lib\\site-packages\\jupyter_client\\session.py:989: size=111 B, count=2, average=56 B\n",
      "d:\\01. Projects\\krishNaik lesson\\execution\\myenv\\lib\\site-packages\\IPython\\core\\interactiveshell.py:3509: size=96 B, count=3, average=32 B\n",
      "d:\\01. Projects\\krishNaik lesson\\execution\\myenv\\lib\\site-packages\\zmq\\sugar\\socket.py:755: size=96 B, count=2, average=48 B\n",
      "d:\\01. Projects\\krishNaik lesson\\execution\\myenv\\lib\\site-packages\\dateutil\\parser\\_parser.py:1195: size=96 B, count=2, average=48 B\n",
      "d:\\01. Projects\\krishNaik lesson\\execution\\myenv\\lib\\threading.py:258: size=96 B, count=1, average=96 B\n",
      "d:\\01. Projects\\krishNaik lesson\\execution\\myenv\\lib\\threading.py:251: size=72 B, count=1, average=72 B\n",
      "d:\\01. Projects\\krishNaik lesson\\execution\\myenv\\lib\\threading.py:247: size=72 B, count=1, average=72 B\n",
      "d:\\01. Projects\\krishNaik lesson\\execution\\myenv\\lib\\threading.py:242: size=72 B, count=1, average=72 B\n",
      "d:\\01. Projects\\krishNaik lesson\\execution\\myenv\\lib\\threading.py:241: size=72 B, count=1, average=72 B\n",
      "d:\\01. Projects\\krishNaik lesson\\execution\\myenv\\lib\\site-packages\\IPython\\core\\compilerop.py:171: size=72 B, count=1, average=72 B\n",
      "d:\\01. Projects\\krishNaik lesson\\execution\\myenv\\lib\\asyncio\\base_events.py:1893: size=64 B, count=2, average=32 B\n",
      "d:\\01. Projects\\krishNaik lesson\\execution\\myenv\\lib\\threading.py:604: size=64 B, count=1, average=64 B\n",
      "d:\\01. Projects\\krishNaik lesson\\execution\\myenv\\lib\\site-packages\\zmq\\sugar\\socket.py:810: size=64 B, count=1, average=64 B\n",
      "d:\\01. Projects\\krishNaik lesson\\execution\\myenv\\lib\\site-packages\\zmq\\sugar\\socket.py:701: size=64 B, count=1, average=64 B\n",
      "d:\\01. Projects\\krishNaik lesson\\execution\\myenv\\lib\\site-packages\\jupyter_client\\jsonutil.py:73: size=64 B, count=1, average=64 B\n",
      "d:\\01. Projects\\krishNaik lesson\\execution\\myenv\\lib\\site-packages\\ipykernel\\kernelbase.py:69: size=64 B, count=1, average=64 B\n",
      "d:\\01. Projects\\krishNaik lesson\\execution\\myenv\\lib\\site-packages\\ipykernel\\ipkernel.py:384: size=64 B, count=1, average=64 B\n",
      "d:\\01. Projects\\krishNaik lesson\\execution\\myenv\\lib\\site-packages\\ipykernel\\ipkernel.py:383: size=64 B, count=1, average=64 B\n",
      "d:\\01. Projects\\krishNaik lesson\\execution\\myenv\\lib\\site-packages\\ipykernel\\ipkernel.py:294: size=64 B, count=1, average=64 B\n",
      "d:\\01. Projects\\krishNaik lesson\\execution\\myenv\\lib\\site-packages\\ipykernel\\ipkernel.py:291: size=64 B, count=1, average=64 B\n",
      "d:\\01. Projects\\krishNaik lesson\\execution\\myenv\\lib\\site-packages\\IPython\\core\\interactiveshell.py:3566: size=64 B, count=1, average=64 B\n",
      "d:\\01. Projects\\krishNaik lesson\\execution\\myenv\\lib\\site-packages\\IPython\\core\\interactiveshell.py:3303: size=64 B, count=1, average=64 B\n",
      "d:\\01. Projects\\krishNaik lesson\\execution\\myenv\\lib\\site-packages\\IPython\\core\\interactiveshell.py:3300: size=64 B, count=1, average=64 B\n",
      "d:\\01. Projects\\krishNaik lesson\\execution\\myenv\\lib\\site-packages\\IPython\\core\\interactiveshell.py:297: size=64 B, count=1, average=64 B\n",
      "d:\\01. Projects\\krishNaik lesson\\execution\\myenv\\lib\\site-packages\\ipykernel\\iostream.py:684: size=58 B, count=1, average=58 B\n",
      "d:\\01. Projects\\krishNaik lesson\\execution\\myenv\\lib\\site-packages\\tornado\\queues.py:318: size=56 B, count=2, average=28 B\n",
      "d:\\01. Projects\\krishNaik lesson\\execution\\myenv\\lib\\site-packages\\IPython\\core\\compilerop.py:172: size=56 B, count=2, average=28 B\n",
      "d:\\01. Projects\\krishNaik lesson\\execution\\myenv\\lib\\site-packages\\jupyter_client\\session.py:1088: size=56 B, count=1, average=56 B\n",
      "d:\\01. Projects\\krishNaik lesson\\execution\\myenv\\lib\\site-packages\\IPython\\core\\interactiveshell.py:3498: size=56 B, count=1, average=56 B\n",
      "d:\\01. Projects\\krishNaik lesson\\execution\\myenv\\lib\\site-packages\\IPython\\core\\history.py:875: size=56 B, count=1, average=56 B\n",
      "d:\\01. Projects\\krishNaik lesson\\execution\\myenv\\lib\\site-packages\\IPython\\core\\prefilter.py:317: size=55 B, count=1, average=55 B\n",
      "d:\\01. Projects\\krishNaik lesson\\execution\\myenv\\lib\\site-packages\\jupyter_client\\session.py:200: size=48 B, count=1, average=48 B\n",
      "d:\\01. Projects\\krishNaik lesson\\execution\\myenv\\lib\\site-packages\\ipykernel\\kernelbase.py:318: size=48 B, count=1, average=48 B\n",
      "d:\\01. Projects\\krishNaik lesson\\execution\\myenv\\lib\\site-packages\\IPython\\core\\interactiveshell.py:3505: size=48 B, count=1, average=48 B\n",
      "d:\\01. Projects\\krishNaik lesson\\execution\\myenv\\lib\\site-packages\\jupyter_client\\session.py:996: size=32 B, count=1, average=32 B\n",
      "d:\\01. Projects\\krishNaik lesson\\execution\\myenv\\lib\\site-packages\\ipykernel\\iostream.py:168: size=32 B, count=1, average=32 B\n",
      "d:\\01. Projects\\krishNaik lesson\\execution\\myenv\\lib\\site-packages\\IPython\\core\\interactiveshell.py:3503: size=32 B, count=1, average=32 B\n",
      "d:\\01. Projects\\krishNaik lesson\\execution\\myenv\\lib\\site-packages\\IPython\\core\\history.py:793: size=32 B, count=1, average=32 B\n",
      "d:\\01. Projects\\krishNaik lesson\\execution\\myenv\\lib\\concurrent\\futures\\_base.py:423: size=32 B, count=1, average=32 B\n",
      "d:\\01. Projects\\krishNaik lesson\\execution\\myenv\\lib\\asyncio\\base_events.py:739: size=32 B, count=1, average=32 B\n",
      "d:\\01. Projects\\krishNaik lesson\\execution\\myenv\\lib\\site-packages\\jupyter_client\\session.py:603: size=28 B, count=1, average=28 B\n",
      "d:\\01. Projects\\krishNaik lesson\\execution\\myenv\\lib\\site-packages\\ipykernel\\kernelbase.py:560: size=28 B, count=1, average=28 B\n",
      "d:\\01. Projects\\krishNaik lesson\\execution\\myenv\\lib\\site-packages\\ipykernel\\iostream.py:637: size=28 B, count=1, average=28 B\n",
      "d:\\01. Projects\\krishNaik lesson\\execution\\myenv\\lib\\site-packages\\IPython\\core\\compilerop.py:192: size=28 B, count=1, average=28 B\n",
      "d:\\01. Projects\\krishNaik lesson\\execution\\myenv\\lib\\queue.py:151: size=28 B, count=1, average=28 B\n",
      "d:\\01. Projects\\krishNaik lesson\\execution\\myenv\\lib\\site-packages\\IPython\\core\\interactiveshell.py:3485: size=8 B, count=1, average=8 B\n"
     ]
    }
   ],
   "source": [
    "main()"
   ]
  },
  {
   "cell_type": "code",
   "execution_count": null,
   "metadata": {},
   "outputs": [],
   "source": []
  }
 ],
 "metadata": {
  "kernelspec": {
   "display_name": "Python 3",
   "language": "python",
   "name": "python3"
  },
  "language_info": {
   "codemirror_mode": {
    "name": "ipython",
    "version": 3
   },
   "file_extension": ".py",
   "mimetype": "text/x-python",
   "name": "python",
   "nbconvert_exporter": "python",
   "pygments_lexer": "ipython3",
   "version": "3.10.14"
  }
 },
 "nbformat": 4,
 "nbformat_minor": 2
}
