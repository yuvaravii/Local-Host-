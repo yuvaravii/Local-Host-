{
 "cells": [
  {
   "cell_type": "markdown",
   "metadata": {},
   "source": [
    "# Unsupervised learning"
   ]
  },
  {
   "cell_type": "markdown",
   "metadata": {},
   "source": [
    "- Here we do not have any target variable for prediction.\n",
    "   - There are not dependant variables here.\n",
    "- We will couple of dataset with features."
   ]
  },
  {
   "cell_type": "markdown",
   "metadata": {},
   "source": [
    "- Let's assume we have dataframe having features, we do not have any target variables. \n",
    "- To start the analysis, we would group the values together, to get insights amongst the cluster we created.\n",
    "- Eg. Clustering of customers, products etc."
   ]
  },
  {
   "cell_type": "markdown",
   "metadata": {},
   "source": [
    "- List of algorithms for clustering and unsupervised learning\n",
    "  - k-means clustering\n",
    "  - hierarchial clustering \n",
    "  - DB Scan clustering \n",
    "  - Silhoutte's scoring method for evaluation of clusters created."
   ]
  },
  {
   "cell_type": "markdown",
   "metadata": {},
   "source": []
  }
 ],
 "metadata": {
  "language_info": {
   "name": "python"
  }
 },
 "nbformat": 4,
 "nbformat_minor": 2
}
