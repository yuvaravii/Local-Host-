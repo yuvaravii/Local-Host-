{
 "cells": [
  {
   "cell_type": "markdown",
   "metadata": {},
   "source": [
    "# Magic Methods :\n",
    "\n",
    "- What are magic methods and where are they used ?\n",
    "    - These methods are built in methods usually preceded and followed with double underscores(aka dunder).\n",
    "    - Eg. _ _init_ _\n",
    "    - This method enables to define, operate and perform built-in operations.\n",
    "    - Few methods are built in and pre defined which can be override\n"
   ]
  },
  {
   "cell_type": "code",
   "execution_count": 28,
   "metadata": {},
   "outputs": [
    {
     "data": {
      "text/plain": [
       "['__class__',\n",
       " '__delattr__',\n",
       " '__dict__',\n",
       " '__dir__',\n",
       " '__doc__',\n",
       " '__eq__',\n",
       " '__format__',\n",
       " '__ge__',\n",
       " '__getattribute__',\n",
       " '__gt__',\n",
       " '__hash__',\n",
       " '__init__',\n",
       " '__init_subclass__',\n",
       " '__le__',\n",
       " '__lt__',\n",
       " '__module__',\n",
       " '__ne__',\n",
       " '__new__',\n",
       " '__reduce__',\n",
       " '__reduce_ex__',\n",
       " '__repr__',\n",
       " '__setattr__',\n",
       " '__sizeof__',\n",
       " '__str__',\n",
       " '__subclasshook__',\n",
       " '__weakref__']"
      ]
     },
     "execution_count": 28,
     "metadata": {},
     "output_type": "execute_result"
    }
   ],
   "source": [
    "class ShapeArea():\n",
    "    pass\n",
    "\n",
    "dir(ShapeArea) ##can view all magic methods within it"
   ]
  },
  {
   "cell_type": "code",
   "execution_count": 29,
   "metadata": {},
   "outputs": [
    {
     "data": {
      "text/plain": [
       "['__class__',\n",
       " '__delattr__',\n",
       " '__dict__',\n",
       " '__dir__',\n",
       " '__doc__',\n",
       " '__eq__',\n",
       " '__format__',\n",
       " '__ge__',\n",
       " '__getattribute__',\n",
       " '__gt__',\n",
       " '__hash__',\n",
       " '__init__',\n",
       " '__init_subclass__',\n",
       " '__le__',\n",
       " '__lt__',\n",
       " '__module__',\n",
       " '__ne__',\n",
       " '__new__',\n",
       " '__reduce__',\n",
       " '__reduce_ex__',\n",
       " '__repr__',\n",
       " '__setattr__',\n",
       " '__sizeof__',\n",
       " '__str__',\n",
       " '__subclasshook__',\n",
       " '__weakref__']"
      ]
     },
     "execution_count": 29,
     "metadata": {},
     "output_type": "execute_result"
    }
   ],
   "source": [
    "shp1 = ShapeArea()\n",
    "dir(shp1)"
   ]
  },
  {
   "cell_type": "code",
   "execution_count": 30,
   "metadata": {},
   "outputs": [
    {
     "name": "stdout",
     "output_type": "stream",
     "text": [
      "<__main__.ShapeArea object at 0x000001C074930100>\n"
     ]
    }
   ],
   "source": [
    "print(shp1)  ## This magic methods are override-able"
   ]
  },
  {
   "cell_type": "code",
   "execution_count": 41,
   "metadata": {},
   "outputs": [
    {
     "name": "stdout",
     "output_type": "stream",
     "text": [
      "<__main__.Vehicle object at 0x000001C074665450>\n",
      "<__main__.Vehicle object at 0x000001C074665450>\n",
      "<__main__.Vehicle object at 0x000001C074665450>\n"
     ]
    }
   ],
   "source": [
    "class Vehicle:\n",
    "    def __init__(self,make,year):\n",
    "        self.make = make\n",
    "        self.year = year\n",
    "    \n",
    "veh1 = Vehicle(\"Toyota\",\"Corolla\")\n",
    "print(veh1)\n",
    "print(repr(veh1))"
   ]
  },
  {
   "cell_type": "code",
   "execution_count": 32,
   "metadata": {},
   "outputs": [
    {
     "data": {
      "text/plain": [
       "['__class__',\n",
       " '__delattr__',\n",
       " '__dict__',\n",
       " '__dir__',\n",
       " '__doc__',\n",
       " '__eq__',\n",
       " '__format__',\n",
       " '__ge__',\n",
       " '__getattribute__',\n",
       " '__gt__',\n",
       " '__hash__',\n",
       " '__init__',\n",
       " '__init_subclass__',\n",
       " '__le__',\n",
       " '__lt__',\n",
       " '__module__',\n",
       " '__ne__',\n",
       " '__new__',\n",
       " '__reduce__',\n",
       " '__reduce_ex__',\n",
       " '__repr__',\n",
       " '__setattr__',\n",
       " '__sizeof__',\n",
       " '__str__',\n",
       " '__subclasshook__',\n",
       " '__weakref__',\n",
       " 'make',\n",
       " 'year']"
      ]
     },
     "execution_count": 32,
     "metadata": {},
     "output_type": "execute_result"
    }
   ],
   "source": [
    "dir(veh1)"
   ]
  },
  {
   "cell_type": "code",
   "execution_count": 33,
   "metadata": {},
   "outputs": [
    {
     "name": "stdout",
     "output_type": "stream",
     "text": [
      "<method-wrapper '__str__' of Vehicle object at 0x000001C074665E10>\n",
      "<class '__main__.Vehicle'>\n",
      "<bound method Vehicle.__init__ of <__main__.Vehicle object at 0x000001C074665E10>>\n"
     ]
    }
   ],
   "source": [
    "print(veh1.__str__)\n",
    "print(veh1.__class__)\n",
    "print(veh1.__init__)"
   ]
  },
  {
   "cell_type": "code",
   "execution_count": 38,
   "metadata": {},
   "outputs": [],
   "source": [
    "## These magic functions are override-able\n",
    "\n",
    "class Vehicle1:\n",
    "    def __init__(self,make,year):\n",
    "        self.make = make\n",
    "        self.year = year\n",
    "    \n",
    "    def __str__(self):\n",
    "        return f\"Make : {self.make} , year : {self.year}\"\n",
    "    \n",
    "    def __repr__(self):\n",
    "        return f\"The vehicle is of make : {self.make}, and year is : {self.year}\""
   ]
  },
  {
   "cell_type": "code",
   "execution_count": 39,
   "metadata": {},
   "outputs": [
    {
     "name": "stdout",
     "output_type": "stream",
     "text": [
      "Make : toyota , year : 2024\n",
      "The vehicle is of make : toyota, and year is : 2024\n"
     ]
    }
   ],
   "source": [
    "veh2 = Vehicle1(\"toyota\",2024)\n",
    "print(veh2)\n",
    "print(repr(veh2))"
   ]
  },
  {
   "cell_type": "markdown",
   "metadata": {},
   "source": [
    "## Operator Overloading \n",
    "\n",
    "- what is operator overloading ? \n",
    "    - A specific  class would have defined functions for the special operators such as *+- etc. \n",
    "    - We may be able to override this functionalities.\n",
    "    - This enables the developer to define and override the specific operators "
   ]
  },
  {
   "cell_type": "code",
   "execution_count": 50,
   "metadata": {},
   "outputs": [],
   "source": [
    "class Vector:\n",
    "    def __init__(self,x,y):\n",
    "        self.x = x\n",
    "        self.y = y\n",
    "\n",
    "    def __add__(self,other):\n",
    "        return Vector((self.x+other.x),(self.y+other.y))\n",
    "    \n",
    "    def __sub__(self,other):\n",
    "        return Vector((self.x - other.x),(self.y - other.y))\n",
    "    \n",
    "    def __mul__(self,other):\n",
    "        return Vector((self.x * other.x),(self.y*other.y))\n",
    "    \n",
    "    def __eq__(self,other):\n",
    "        return self.x == other.x and self.y == other.y\n",
    "    \n",
    "    def __repr__(self):     # if i dont define this function then this will return object location id\n",
    "        return f\"Vector({self.x} , {self.y})\""
   ]
  },
  {
   "cell_type": "code",
   "execution_count": 51,
   "metadata": {},
   "outputs": [],
   "source": [
    "v1 = Vector(2,3)\n",
    "v2 = Vector(4,5)"
   ]
  },
  {
   "cell_type": "code",
   "execution_count": 53,
   "metadata": {},
   "outputs": [
    {
     "name": "stdout",
     "output_type": "stream",
     "text": [
      "Vector(6 , 8)\n",
      "Vector(-2 , -2)\n",
      "Vector(8 , 15)\n"
     ]
    }
   ],
   "source": [
    "print(v1+v2)\n",
    "print(v1-v2)\n",
    "print(v1*v2)"
   ]
  },
  {
   "cell_type": "markdown",
   "metadata": {},
   "source": [
    "## Magic methods for handling complex numbers\n"
   ]
  },
  {
   "cell_type": "code",
   "execution_count": 55,
   "metadata": {},
   "outputs": [],
   "source": [
    "class ImaginaryNumbers:\n",
    "    def __init__(self,a,b): # c = a + ib\n",
    "        self.a = a \n",
    "        self.b = b\n",
    "\n",
    "    def __add__(self,other):\n",
    "        return ImaginaryNumbers((self.a + other.a) , (self.b+other.b))\n",
    "    \n",
    "    def __sub__(self,other):\n",
    "        return ImaginaryNumbers((self.a - other.a),(self.b-other.b))\n",
    "    \n",
    "    def __mul__(self,other):\n",
    "        return ImaginaryNumbers(self.a*other.a , self.b*other.b)\n",
    "    \n",
    "    def __eq__(self, other):\n",
    "        return f\"ImaginaryNumbers({self.a == other.a}, {self.b == other.b})\"\n",
    "    \n",
    "\n",
    "    def __repr__(self):\n",
    "        return f\"ImaginaryNumbers({self.a},{self.b})\"\n",
    "\n",
    "    "
   ]
  },
  {
   "cell_type": "code",
   "execution_count": 57,
   "metadata": {},
   "outputs": [
    {
     "name": "stdout",
     "output_type": "stream",
     "text": [
      "ImaginaryNumbers(6,8)\n",
      "ImaginaryNumbers(-2,-2)\n",
      "ImaginaryNumbers(8,15)\n",
      "ImaginaryNumbers(False, False)\n"
     ]
    }
   ],
   "source": [
    "c1 = ImaginaryNumbers(2,3)\n",
    "c2 = ImaginaryNumbers(4,5)\n",
    "\n",
    "print(c1+c2)\n",
    "print(c1-c2)\n",
    "print(c1*c2)\n",
    "print(c1==c2)"
   ]
  },
  {
   "cell_type": "code",
   "execution_count": null,
   "metadata": {},
   "outputs": [],
   "source": []
  }
 ],
 "metadata": {
  "kernelspec": {
   "display_name": "Python 3",
   "language": "python",
   "name": "python3"
  },
  "language_info": {
   "codemirror_mode": {
    "name": "ipython",
    "version": 3
   },
   "file_extension": ".py",
   "mimetype": "text/x-python",
   "name": "python",
   "nbconvert_exporter": "python",
   "pygments_lexer": "ipython3",
   "version": "3.10.14"
  }
 },
 "nbformat": 4,
 "nbformat_minor": 2
}
