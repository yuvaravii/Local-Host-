{
 "cells": [
  {
   "cell_type": "markdown",
   "metadata": {},
   "source": [
    "## Classes and objects\n",
    "\n",
    "- What are classes and why are they needed ?\n",
    "    - Classes are blueprints for creating objects. This classes has attributes(features),methods.\n",
    "    - for eg. i want to create an object with string class, then i will be able fetch the attributes and methods for string.\n",
    "    - few built in classes includes : str, int, float etc.\n",
    "- Why ?\n",
    "    - they enable OOps concepts.\n",
    "    - A modular coding \n",
    "    - enables efficient management of scripts\n",
    "    - This is a blueprint which is directly connected towards the real time applications\n",
    "        - We can see attributes or characteristics of the class\n",
    "        - Methods of the class : what will it be able to do \n",
    "- Good practice:\n",
    "    - Always start the class name with capital letter for differentiation"
   ]
  },
  {
   "cell_type": "markdown",
   "metadata": {},
   "source": [
    "- What is init ? why is it needed ?\n",
    "    - init is constructor, which initializes a class or package.\n",
    "    - This gives us default features and methods within the class\n",
    "    - if the features is generated outside the init functions then they may not be available in the default list of features and methods\n",
    "    - It allows the features defined within the init, not other arguments\n",
    "- What is self ? and why is it needed ?\n",
    "    - Self is not a essential feature within class.\n",
    "    - self is a temporary instance, that takes the current value as it default value\n",
    "    - There is no mandatory reason that it should be named \"self\"\n",
    "    - A constructor initializes a class with default set of variables or features to be imputed.\n",
    "        - This makes the requirement of passing an argument(features of class) for the class to initialize\n",
    "    - We will use self in the method we are writing inside call, to defaultly call the initial features"
   ]
  },
  {
   "cell_type": "markdown",
   "metadata": {},
   "source": [
    "- What is the difference between Object and variable ?\n",
    "    - Object \n",
    "        - Object is an instance of class \n",
    "        - This contains attributes and methods\n",
    "        - Has memory id and has allocation of space or memory\n",
    "    - Variable \n",
    "        - variable is the name reference for an object\n",
    "        - Can be assigned with object"
   ]
  },
  {
   "cell_type": "markdown",
   "metadata": {},
   "source": [
    "- What is the difference between method and functions in python ?\n",
    "    - Methods\n",
    "        - Methods are defined within the class.\n",
    "        - These can modify the attributes of the class and allows for actions.\n",
    "    - Functions\n",
    "        - Functions can be defined at the module level (outside of any class or function), within another function (nested functions), or within a class (though when defined within a class, they are typically called methods, especially when they operate on self)\n",
    "        - Does not associate with any object specifically.\n",
    "        - operates independently of object specific data.\n",
    "\n",
    "- All methods are functions, but not all functions are methods"
   ]
  },
  {
   "cell_type": "code",
   "execution_count": 2,
   "metadata": {},
   "outputs": [],
   "source": [
    "'''\n",
    "Car has features : doors, windows,wheels,tyres etc.\n",
    "Car has methods(action words) : accelerate , brake, travel\n",
    "'''\n",
    "\n",
    "class Car:\n",
    "    pass"
   ]
  },
  {
   "cell_type": "code",
   "execution_count": 3,
   "metadata": {},
   "outputs": [
    {
     "data": {
      "text/plain": [
       "['__class__',\n",
       " '__delattr__',\n",
       " '__dict__',\n",
       " '__dir__',\n",
       " '__doc__',\n",
       " '__eq__',\n",
       " '__format__',\n",
       " '__ge__',\n",
       " '__getattribute__',\n",
       " '__gt__',\n",
       " '__hash__',\n",
       " '__init__',\n",
       " '__init_subclass__',\n",
       " '__le__',\n",
       " '__lt__',\n",
       " '__module__',\n",
       " '__ne__',\n",
       " '__new__',\n",
       " '__reduce__',\n",
       " '__reduce_ex__',\n",
       " '__repr__',\n",
       " '__setattr__',\n",
       " '__sizeof__',\n",
       " '__str__',\n",
       " '__subclasshook__',\n",
       " '__weakref__']"
      ]
     },
     "execution_count": 3,
     "metadata": {},
     "output_type": "execute_result"
    }
   ],
   "source": [
    "dir(Car)"
   ]
  },
  {
   "cell_type": "code",
   "execution_count": 4,
   "metadata": {},
   "outputs": [
    {
     "name": "stdout",
     "output_type": "stream",
     "text": [
      "4\n",
      "['doors']\n"
     ]
    }
   ],
   "source": [
    "tata_car = Car()\n",
    "tata_car.doors = 4\n",
    "print(tata_car.doors)\n",
    "print([feature for feature in dir(tata_car) if feature not in dir(Car())])"
   ]
  },
  {
   "cell_type": "code",
   "execution_count": 12,
   "metadata": {},
   "outputs": [],
   "source": [
    "# creating a new class\n",
    "class Cat:\n",
    "    def __init__(self,name,age):\n",
    "        self.name = name\n",
    "        self.age =  age"
   ]
  },
  {
   "cell_type": "code",
   "execution_count": 13,
   "metadata": {},
   "outputs": [
    {
     "ename": "TypeError",
     "evalue": "Cat.__init__() missing 2 required positional arguments: 'name' and 'age'",
     "output_type": "error",
     "traceback": [
      "\u001b[1;31m---------------------------------------------------------------------------\u001b[0m",
      "\u001b[1;31mTypeError\u001b[0m                                 Traceback (most recent call last)",
      "Cell \u001b[1;32mIn[13], line 1\u001b[0m\n\u001b[1;32m----> 1\u001b[0m c1 \u001b[38;5;241m=\u001b[39m \u001b[43mCat\u001b[49m\u001b[43m(\u001b[49m\u001b[43m)\u001b[49m\n",
      "\u001b[1;31mTypeError\u001b[0m: Cat.__init__() missing 2 required positional arguments: 'name' and 'age'"
     ]
    }
   ],
   "source": [
    "c1 = Cat() # see now it is seeking the features as inputs to initialize"
   ]
  },
  {
   "cell_type": "code",
   "execution_count": 14,
   "metadata": {},
   "outputs": [],
   "source": [
    "c1 = Cat(\"rose\",7)"
   ]
  },
  {
   "cell_type": "code",
   "execution_count": 16,
   "metadata": {},
   "outputs": [
    {
     "name": "stdout",
     "output_type": "stream",
     "text": [
      "<__main__.Cat object at 0x0000026C99472A70>\n"
     ]
    }
   ],
   "source": [
    "print(c1)"
   ]
  },
  {
   "cell_type": "code",
   "execution_count": 18,
   "metadata": {},
   "outputs": [
    {
     "name": "stdout",
     "output_type": "stream",
     "text": [
      "c1.name : rose\n",
      "c1.age : 7\n"
     ]
    }
   ],
   "source": [
    "print(f\"c1.name : {c1.name}\")\n",
    "print(f\"c1.age : {c1.age}\")"
   ]
  },
  {
   "cell_type": "markdown",
   "metadata": {},
   "source": [
    "- Now lets add some action within the class"
   ]
  },
  {
   "cell_type": "code",
   "execution_count": 19,
   "metadata": {},
   "outputs": [],
   "source": [
    "class Cat:\n",
    "    def __init__(self,name,age):\n",
    "        self.name = name\n",
    "        self.age = age\n",
    "\n",
    "    def shout(self):    # now this self has two features name and age\n",
    "        print(f\"{self.name} shouts Meoooooowwwwwwwwwww\")"
   ]
  },
  {
   "cell_type": "code",
   "execution_count": 20,
   "metadata": {},
   "outputs": [
    {
     "name": "stdout",
     "output_type": "stream",
     "text": [
      "Luna shouts Meoooooowwwwwwwwwww\n"
     ]
    }
   ],
   "source": [
    "c2 = Cat(\"Luna\",5)\n",
    "c2.shout()"
   ]
  },
  {
   "cell_type": "markdown",
   "metadata": {},
   "source": [
    "## Application\n",
    "- Create a bank account\n",
    "    - owner details\n",
    "    - balance \n",
    "    - deposit\n",
    "    - withdraw\n",
    "    - balance"
   ]
  },
  {
   "cell_type": "code",
   "execution_count": 13,
   "metadata": {},
   "outputs": [],
   "source": [
    "class BankAccount:\n",
    "    \n",
    "    # Attributes creation\n",
    "    def __init__(self,ownerName=str,balance=int):\n",
    "        self.ownerName = ownerName\n",
    "        self.balance = balance\n",
    "\n",
    "    def balance(self):\n",
    "        return self.balance\n",
    "\n",
    "    #  function creation or method creation or action words\n",
    "    def deposit(self,amt):\n",
    "        print(f\"New balance before deposit : Rs.{self.balance}\")\n",
    "        self.balance = self.balance + amt\n",
    "        print(f\"Rs.{amt} is deposited. Your new balance post deposit is : Rs.{self.balance}\")\n",
    "\n",
    "    def withdraw(self,amt):\n",
    "        print(f\"Balance before withdrawal : Rs.{self.balance}\")\n",
    "        if self.balance < amt:\n",
    "            print(\"Insufficient balance , Withdrawal amt is greater than balance\")\n",
    "        else:\n",
    "           self.balance = self.balance - amt\n",
    "           print(f\"Rs.{amt} is withdrawn from your account ,the new balance post withdrawal is : Rs.{self.balance}\")   "
   ]
  },
  {
   "cell_type": "code",
   "execution_count": 14,
   "metadata": {},
   "outputs": [
    {
     "name": "stdout",
     "output_type": "stream",
     "text": [
      "Owner1 name : Tony\n",
      "Owner2 name : 100\n"
     ]
    }
   ],
   "source": [
    "owner1 = BankAccount(\"Tony\",100)\n",
    "\n",
    "print(f'Owner1 name : {owner1.ownerName}')\n",
    "print(f'Owner2 name : {owner1.balance}')"
   ]
  },
  {
   "cell_type": "code",
   "execution_count": 15,
   "metadata": {},
   "outputs": [
    {
     "name": "stdout",
     "output_type": "stream",
     "text": [
      "New balance before deposit : Rs.100\n",
      "Rs.50 is deposited. Your new balance post deposit is : Rs.150\n"
     ]
    }
   ],
   "source": [
    "owner1.deposit(50)"
   ]
  },
  {
   "cell_type": "code",
   "execution_count": 16,
   "metadata": {},
   "outputs": [
    {
     "name": "stdout",
     "output_type": "stream",
     "text": [
      "Balance before withdrawal : Rs.150\n",
      "Rs.150 is withdrawn from your account ,the new balance post withdrawal is : Rs.0\n"
     ]
    }
   ],
   "source": [
    "owner1.withdraw(150)"
   ]
  },
  {
   "cell_type": "code",
   "execution_count": 18,
   "metadata": {},
   "outputs": [
    {
     "data": {
      "text/plain": [
       "0"
      ]
     },
     "execution_count": 18,
     "metadata": {},
     "output_type": "execute_result"
    }
   ],
   "source": [
    "owner1.balance"
   ]
  }
 ],
 "metadata": {
  "kernelspec": {
   "display_name": "Python 3",
   "language": "python",
   "name": "python3"
  },
  "language_info": {
   "codemirror_mode": {
    "name": "ipython",
    "version": 3
   },
   "file_extension": ".py",
   "mimetype": "text/x-python",
   "name": "python",
   "nbconvert_exporter": "python",
   "pygments_lexer": "ipython3",
   "version": "3.10.14"
  }
 },
 "nbformat": 4,
 "nbformat_minor": 2
}
