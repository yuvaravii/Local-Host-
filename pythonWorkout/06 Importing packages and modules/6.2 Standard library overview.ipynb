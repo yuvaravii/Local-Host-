{
 "cells": [
  {
   "cell_type": "markdown",
   "metadata": {},
   "source": [
    "## Standard Library overview\n",
    "\n",
    "- Most commonly used libraries across the industry\n",
    "    - array\n",
    "    - math\n",
    "    - random\n",
    "    - os (file and directory access)\n",
    "    - shutil (for making a copy of files and directories)\n",
    "    - json (for converting files to json)\n",
    "    - csv (comma separated values file handling)\n",
    "    - datetime (handles date & time)\n",
    "    - time (for handling time)\n",
    "    - regex (regular expressions)"
   ]
  },
  {
   "cell_type": "code",
   "execution_count": 6,
   "metadata": {},
   "outputs": [
    {
     "data": {
      "text/plain": [
       "array('i', [1, 2, 3])"
      ]
     },
     "execution_count": 6,
     "metadata": {},
     "output_type": "execute_result"
    }
   ],
   "source": [
    "import array as arr\n",
    "sam_array = arr.array(\"i\", [1,2,3])\n",
    "sam_array"
   ]
  },
  {
   "cell_type": "code",
   "execution_count": 7,
   "metadata": {},
   "outputs": [
    {
     "data": {
      "text/plain": [
       "6.0"
      ]
     },
     "execution_count": 7,
     "metadata": {},
     "output_type": "execute_result"
    }
   ],
   "source": [
    "import math  \n",
    "math.sqrt(36)"
   ]
  },
  {
   "cell_type": "code",
   "execution_count": 20,
   "metadata": {},
   "outputs": [
    {
     "name": "stdout",
     "output_type": "stream",
     "text": [
      "23\n",
      "13\n",
      "6\n",
      "7\n",
      "22\n",
      "----------------------------------------------------------------------------------------------------\n",
      "tony\n"
     ]
    }
   ],
   "source": [
    "import random\n",
    "\n",
    "# print 5 random number\n",
    "\n",
    "for i in range(5):\n",
    "    print(random.randint(5,25))\n",
    "\n",
    "# printing random choice\n",
    "print(\"--\"*50)\n",
    "\n",
    "print(random.choice(['tony','hulk','thor','asgard']))"
   ]
  },
  {
   "cell_type": "code",
   "execution_count": 28,
   "metadata": {},
   "outputs": [
    {
     "name": "stdout",
     "output_type": "stream",
     "text": [
      "Current working dir : c:\\Users\\gcera\\OneDrive\\Documents\\01. Projects\\krishNaik lesson\\execution\\notebooks\\06 Importing packages and modules\n",
      "\n",
      "6.1 import packages.ipynb\n",
      "6.2 Standard library overview.ipynb\n",
      "myPackage\n",
      "test.py\n",
      "test_dir\n",
      "\n",
      "6.1 import packages.ipynb\n",
      "6.2 Standard library overview.ipynb\n",
      "myPackage\n",
      "sam.txt\n",
      "test.py\n",
      "test_dir\n"
     ]
    }
   ],
   "source": [
    "import os \n",
    "\n",
    "# Get current working directory\n",
    "print(f'Current working dir : {os.getcwd()}')\n",
    "\n",
    "# list me the directories within\n",
    "print(\"\")\n",
    "for file in os.listdir():\n",
    "    print(file)\n",
    "\n",
    "# create a test directory in existing location\n",
    "# os.mkdir('test_dir')\n",
    "\n",
    "# create a file in existing path\n",
    "curr_filePath = os.getcwd()\n",
    "sam_file = 'sam.txt'\n",
    "\n",
    "with open(os.path.join(curr_filePath,sam_file),'w') as fp:\n",
    "    pass\n",
    "\n",
    "\n",
    "# Now list me the new directories within\n",
    "print(\"\")\n",
    "for file in os.listdir():\n",
    "    print(file)"
   ]
  },
  {
   "cell_type": "code",
   "execution_count": 30,
   "metadata": {},
   "outputs": [
    {
     "data": {
      "text/plain": [
       "'copiedSam.txt'"
      ]
     },
     "execution_count": 30,
     "metadata": {},
     "output_type": "execute_result"
    }
   ],
   "source": [
    "# copying the whole sample file\n",
    "import shutil\n",
    "shutil.copyfile('sam.txt','copiedSam.txt')"
   ]
  },
  {
   "cell_type": "code",
   "execution_count": 33,
   "metadata": {},
   "outputs": [
    {
     "name": "stdout",
     "output_type": "stream",
     "text": [
      "Json converted file : {\"Name\": \"tony\", \"age\": 32, \"height\": 193}\n",
      "Type : <class 'str'>\n",
      "\n",
      "parsed_json_file : {'Name': 'tony', 'age': 32, 'height': 193}\n",
      "Type : <class 'dict'>\n"
     ]
    }
   ],
   "source": [
    "# Data storage and loading \n",
    "import json\n",
    "\n",
    "my_data = {\"Name\":'tony', 'age' :32, 'height' : 193}\n",
    "\n",
    "# converting my_data to json format\n",
    "json_string = json.dumps(my_data)\n",
    "print(f\"Json converted file : {json_string}\")\n",
    "print(f\"Type : {type(json_string)}\")\n",
    "\n",
    "# loading back the json strings\n",
    "print(\"\")\n",
    "parsed_json_file = json.loads(json_string)\n",
    "print(f\"parsed_json_file : {parsed_json_file}\")\n",
    "print(f\"Type : {type(parsed_json_file)}\")"
   ]
  },
  {
   "cell_type": "code",
   "execution_count": 37,
   "metadata": {},
   "outputs": [
    {
     "name": "stdout",
     "output_type": "stream",
     "text": [
      "['name', 'age']\n",
      "['tony', '32']\n"
     ]
    }
   ],
   "source": [
    "# usage of csv files\n",
    "import csv\n",
    "\n",
    "# create a sample csv file in the cwd\n",
    "with open('sam.csv',mode='w',newline='') as file:\n",
    "    writer = csv.writer(file)\n",
    "    writer.writerow([\"name\",\"age\"])\n",
    "    writer.writerow([\"tony\",32])\n",
    "\n",
    "# Read the written files\n",
    "with open('sam.csv',mode='r') as file:\n",
    "    reader = csv.reader(file)\n",
    "    for line in reader:\n",
    "        print(line)"
   ]
  },
  {
   "cell_type": "code",
   "execution_count": 44,
   "metadata": {},
   "outputs": [
    {
     "name": "stdout",
     "output_type": "stream",
     "text": [
      "Now : 2024-07-09 09:12:05.018951\n",
      "tomorrow : 2024-07-10 09:12:05.018951\n"
     ]
    }
   ],
   "source": [
    "from datetime import datetime,timedelta\n",
    "now = datetime.now()\n",
    "print(f\"Now : {now}\")\n",
    "\n",
    "tomorrow = now + timedelta(days = 1)\n",
    "print(f\"tomorrow : {tomorrow}\")"
   ]
  },
  {
   "cell_type": "code",
   "execution_count": 45,
   "metadata": {},
   "outputs": [
    {
     "name": "stdout",
     "output_type": "stream",
     "text": [
      "1720496610.0064201\n",
      "1720496612.0118341\n"
     ]
    }
   ],
   "source": [
    "#time \n",
    "import time\n",
    "print(time.time())\n",
    "time.sleep(2.0)\n",
    "print(time.time())"
   ]
  },
  {
   "cell_type": "code",
   "execution_count": 46,
   "metadata": {},
   "outputs": [
    {
     "name": "stdout",
     "output_type": "stream",
     "text": [
      "200\n"
     ]
    },
    {
     "ename": "",
     "evalue": "",
     "output_type": "error",
     "traceback": [
      "\u001b[1;31mThe Kernel crashed while executing code in the current cell or a previous cell. \n",
      "\u001b[1;31mPlease review the code in the cell(s) to identify a possible cause of the failure. \n",
      "\u001b[1;31mClick <a href='https://aka.ms/vscodeJupyterKernelCrash'>here</a> for more info. \n",
      "\u001b[1;31mView Jupyter <a href='command:jupyter.viewOutput'>log</a> for further details."
     ]
    }
   ],
   "source": [
    "# Regular expression\n",
    "import re\n",
    "\n",
    "pattern = '\\d+'\n",
    "text = \"tony has 200 iron man suits and 345 gloves\"\n",
    "match = re.search(pattern,text)\n",
    "print(match.group())"
   ]
  },
  {
   "cell_type": "code",
   "execution_count": null,
   "metadata": {},
   "outputs": [],
   "source": []
  }
 ],
 "metadata": {
  "kernelspec": {
   "display_name": "Python 3",
   "language": "python",
   "name": "python3"
  },
  "language_info": {
   "codemirror_mode": {
    "name": "ipython",
    "version": 3
   },
   "file_extension": ".py",
   "mimetype": "text/x-python",
   "name": "python",
   "nbconvert_exporter": "python",
   "pygments_lexer": "ipython3",
   "version": "3.10.14"
  }
 },
 "nbformat": 4,
 "nbformat_minor": 2
}
