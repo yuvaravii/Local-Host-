{
 "cells": [
  {
   "cell_type": "markdown",
   "metadata": {},
   "source": [
    "- __what is probability__ ?\n",
    "    - It is way of quantifying the likelyhood of occurence of an event.\n",
    "        - example: Tossing a coin, likely outcomes are head or Tail.\n",
    "        - probability = Total number of desired outcomes/Total number of possible outcomes \n",
    "\n",
    "- __what is mutually exclusive event ?__\n",
    "    - When two events cannot occur simulataneously.\n",
    "        - For e.g. : when tossing a coin , we cannot expect both head and tail.\n",
    "    - when the events are mutually exclusive then the addition becomes\n",
    "        - Pr(head or tail) = Pr(head) + Pr(tail)  {this is called additive rule for mutually exclusive event}\n",
    "        -  if the sample space is high, in case of dice {1,2,3,4,5,6}\n",
    "            - Pr(1 or 6) = Pr(1)+ Pr(6) = 1/6 + 1/6 = 2/6 = 1/3 = 33.33%\n",
    "\n",
    "\n",
    "- __what if they are mutually not exclusive ?__\n",
    "    - A non mutually exclusive event leads us to multiple outcomes simultaneously.\n",
    "    - Eg. Drawing from pack of cards :\n",
    "        - Pr(king or heart) = Pr(king) + Pr(heart) - Pr(king & heart) = 4/52 + 13/52 - 1/52 = 16/52 = ~ 31%\n",
    "        - This is the additive rule for non mutually exclusive event."
   ]
  },
  {
   "cell_type": "markdown",
   "metadata": {},
   "source": [
    "- __Multiplication Rule__\n",
    "    - __What are independent events ?__\n",
    "        - Two events are considered to be independent when their behaviour does not impact one another.\n",
    "        - Which means that even the occurence of one event does not impact the occurence of other event.\n",
    "        - Eg. Tossing a unbiased coin twice, The first toss result does not impact the outcomes of next toss.\n",
    "\n",
    "    - __What are dependent events ?__\n",
    "        - When the outcome of one event impacts the outcome of other event then these are called dependent events.\n",
    "        - Eg. Drawing two cards from the deck, aiming to select queen. If the first draw is king and if the card is irreplaced then this increases the chance of getting queen in the next draw. for queen = 4/52 --> 4/51 = 7.6 % chance to 7.8% chance\n",
    "        - \n",
    "\n",
    "    ## Multiplication rule \n",
    "    - For independent event \n",
    "        - Pr(H and T) = Pr(H) * Pr(T) = 1/2 * 1/2 = 1/4\n",
    "    - For dependent event \n",
    "        - Pr(King and Queen) = Pr(k) * Pr(Q/k)  (This is called Baye's theorm (Conditional probablity))\n",
    "            -  Pr(k and Q) = 4/52*4/51 = 0.6%\n",
    "            "
   ]
  },
  {
   "cell_type": "markdown",
   "metadata": {},
   "source": []
  }
 ],
 "metadata": {
  "kernelspec": {
   "display_name": "Python 3",
   "language": "python",
   "name": "python3"
  },
  "language_info": {
   "name": "python",
   "version": "3.11.0"
  }
 },
 "nbformat": 4,
 "nbformat_minor": 2
}
