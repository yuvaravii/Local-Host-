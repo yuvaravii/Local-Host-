{
 "cells": [
  {
   "cell_type": "markdown",
   "metadata": {},
   "source": [
    "# SQL and SQLite\n",
    "\n",
    "- what is sqlite?\n",
    "    - This is serverless,self contained and zero configuration database engine used DBMS\n",
    "\n",
    "- What is server and why is it needed ?\n",
    "    - Lets assume you have toy box and you wish your friends to access this toy box whenever they need them.\n",
    "    - So, we are placing this toy box on the next room, where your friend could access at anytime.\n",
    "    - Taking this analogy, Server is needed when collaboration with others are needed. So, they can pick up data, apps,website and other informations whenever they need it."
   ]
  },
  {
   "cell_type": "code",
   "execution_count": 1,
   "metadata": {},
   "outputs": [],
   "source": [
    "import sqlite3"
   ]
  },
  {
   "cell_type": "code",
   "execution_count": 31,
   "metadata": {},
   "outputs": [
    {
     "data": {
      "text/plain": [
       "<sqlite3.Connection at 0x1f4be9b3040>"
      ]
     },
     "execution_count": 31,
     "metadata": {},
     "output_type": "execute_result"
    }
   ],
   "source": [
    "## connect to an sqlite database\n",
    "connection = sqlite3.connect('sample.db')   #  created an database with name sample.db\n",
    "connection"
   ]
  },
  {
   "cell_type": "code",
   "execution_count": 32,
   "metadata": {},
   "outputs": [],
   "source": [
    "# Cursor is needed to parse over all the rows and columns of the data\n",
    "cursor = connection.cursor()"
   ]
  },
  {
   "cell_type": "code",
   "execution_count": 36,
   "metadata": {},
   "outputs": [],
   "source": [
    "# once the database is in place and cursor is read to execute the given information on rows and columns\n",
    "cursor.execute('''\n",
    "    Create table if not exists employees(\n",
    "                                        id Integer Primary Key,\n",
    "                                        name text not null\n",
    "                                        , age Integer \n",
    "                                        , dept text\n",
    "                                        )\n",
    "\n",
    "\n",
    "''')\n",
    "\n",
    "## commit the change\n",
    "connection.commit()"
   ]
  },
  {
   "cell_type": "code",
   "execution_count": 37,
   "metadata": {},
   "outputs": [
    {
     "data": {
      "text/plain": [
       "<sqlite3.Cursor at 0x1f4be931140>"
      ]
     },
     "execution_count": 37,
     "metadata": {},
     "output_type": "execute_result"
    }
   ],
   "source": [
    "cursor.execute('''\n",
    "select * from employees\n",
    "''')  # connection is successful"
   ]
  },
  {
   "cell_type": "markdown",
   "metadata": {},
   "source": [
    "- Inserting data into the database"
   ]
  },
  {
   "cell_type": "code",
   "execution_count": 38,
   "metadata": {},
   "outputs": [
    {
     "ename": "OperationalError",
     "evalue": "database is locked",
     "output_type": "error",
     "traceback": [
      "\u001b[1;31m---------------------------------------------------------------------------\u001b[0m",
      "\u001b[1;31mOperationalError\u001b[0m                          Traceback (most recent call last)",
      "Cell \u001b[1;32mIn[38], line 1\u001b[0m\n\u001b[1;32m----> 1\u001b[0m \u001b[43mcursor\u001b[49m\u001b[38;5;241;43m.\u001b[39;49m\u001b[43mexecute\u001b[49m\u001b[43m(\u001b[49m\u001b[38;5;124;43m'''\u001b[39;49m\n\u001b[0;32m      2\u001b[0m \u001b[38;5;124;43mInsert into employees(name,age,dept)\u001b[39;49m\n\u001b[0;32m      3\u001b[0m \u001b[38;5;124;43m               values(\u001b[39;49m\u001b[38;5;124;43m\"\u001b[39;49m\u001b[38;5;124;43mTony\u001b[39;49m\u001b[38;5;124;43m\"\u001b[39;49m\u001b[38;5;124;43m, 32,\u001b[39;49m\u001b[38;5;124;43m'\u001b[39;49m\u001b[38;5;124;43mPhysics\u001b[39;49m\u001b[38;5;124;43m'\u001b[39;49m\u001b[38;5;124;43m)\u001b[39;49m\n\u001b[0;32m      4\u001b[0m \u001b[38;5;124;43m'''\u001b[39;49m\u001b[43m)\u001b[49m\n\u001b[0;32m      6\u001b[0m cursor\u001b[38;5;241m.\u001b[39mexecute(\u001b[38;5;124m'''\u001b[39m\n\u001b[0;32m      7\u001b[0m \u001b[38;5;124mInsert into employees(name,age,dept)\u001b[39m\n\u001b[0;32m      8\u001b[0m \u001b[38;5;124m               values(\u001b[39m\u001b[38;5;124m\"\u001b[39m\u001b[38;5;124mHulk\u001b[39m\u001b[38;5;124m\"\u001b[39m\u001b[38;5;124m, 36,\u001b[39m\u001b[38;5;124m'\u001b[39m\u001b[38;5;124mBiotech\u001b[39m\u001b[38;5;124m'\u001b[39m\u001b[38;5;124m)\u001b[39m\n\u001b[0;32m      9\u001b[0m \u001b[38;5;124m'''\u001b[39m)\n\u001b[0;32m     11\u001b[0m cursor\u001b[38;5;241m.\u001b[39mexecute(\u001b[38;5;124m'''\u001b[39m\n\u001b[0;32m     12\u001b[0m \u001b[38;5;124mInsert into employees(name,age,dept)\u001b[39m\n\u001b[0;32m     13\u001b[0m \u001b[38;5;124m               values(\u001b[39m\u001b[38;5;124m\"\u001b[39m\u001b[38;5;124mThor\u001b[39m\u001b[38;5;124m\"\u001b[39m\u001b[38;5;124m, 37,\u001b[39m\u001b[38;5;124m'\u001b[39m\u001b[38;5;124mCosmology\u001b[39m\u001b[38;5;124m'\u001b[39m\u001b[38;5;124m)\u001b[39m\n\u001b[0;32m     14\u001b[0m \u001b[38;5;124m'''\u001b[39m)\n",
      "\u001b[1;31mOperationalError\u001b[0m: database is locked"
     ]
    }
   ],
   "source": [
    "cursor.execute('''\n",
    "Insert into employees(name,age,dept)\n",
    "               values(\"Tony\", 32,'Physics')\n",
    "''')\n",
    "\n",
    "cursor.execute('''\n",
    "Insert into employees(name,age,dept)\n",
    "               values(\"Hulk\", 36,'Biotech')\n",
    "''')\n",
    "\n",
    "cursor.execute('''\n",
    "Insert into employees(name,age,dept)\n",
    "               values(\"Thor\", 37,'Cosmology')\n",
    "''')\n",
    "\n",
    "\n",
    "# committing the inserted data\n",
    "connection.commit()"
   ]
  },
  {
   "cell_type": "markdown",
   "metadata": {},
   "source": [
    "- Querrying the inserted data"
   ]
  },
  {
   "cell_type": "code",
   "execution_count": 25,
   "metadata": {},
   "outputs": [
    {
     "name": "stdout",
     "output_type": "stream",
     "text": [
      "(None, 'Tony', 32, 'Physics')\n",
      "(None, 'Hulk', 36, 'Biotech')\n",
      "(None, 'Thor', 37, 'Cosmology')\n",
      "(None, 'Tony', 32, 'Physics')\n",
      "(None, 'Hulk', 36, 'Biotech')\n",
      "(None, 'Thor', 37, 'Cosmology')\n",
      "(None, 'Tony', 32, 'Physics')\n",
      "(None, 'Hulk', 36, 'Biotech')\n",
      "(None, 'Thor', 37, 'Cosmology')\n"
     ]
    }
   ],
   "source": [
    "cursor.execute(''' select * from employees ''')\n",
    "rows = cursor.fetchall()    # fetching all the rows of db\n",
    "\n",
    "# printing queried data\n",
    "for row in rows:\n",
    "    print(row)"
   ]
  },
  {
   "cell_type": "code",
   "execution_count": 40,
   "metadata": {},
   "outputs": [
    {
     "ename": "OperationalError",
     "evalue": "near \"sample\": syntax error",
     "output_type": "error",
     "traceback": [
      "\u001b[1;31m---------------------------------------------------------------------------\u001b[0m",
      "\u001b[1;31mOperationalError\u001b[0m                          Traceback (most recent call last)",
      "Cell \u001b[1;32mIn[40], line 1\u001b[0m\n\u001b[1;32m----> 1\u001b[0m \u001b[43mcursor\u001b[49m\u001b[38;5;241;43m.\u001b[39;49m\u001b[43mexecute\u001b[49m\u001b[43m(\u001b[49m\u001b[38;5;124;43m\"\"\"\u001b[39;49m\u001b[38;5;124;43mDrop sample.db\u001b[39;49m\u001b[38;5;124;43m\"\"\"\u001b[39;49m\u001b[43m)\u001b[49m\n",
      "\u001b[1;31mOperationalError\u001b[0m: near \"sample\": syntax error"
     ]
    }
   ],
   "source": [
    "cursor.execute(\"\"\"Drop sample.db\"\"\")"
   ]
  },
  {
   "cell_type": "code",
   "execution_count": null,
   "metadata": {},
   "outputs": [],
   "source": []
  }
 ],
 "metadata": {
  "kernelspec": {
   "display_name": "Python 3",
   "language": "python",
   "name": "python3"
  },
  "language_info": {
   "codemirror_mode": {
    "name": "ipython",
    "version": 3
   },
   "file_extension": ".py",
   "mimetype": "text/x-python",
   "name": "python",
   "nbconvert_exporter": "python",
   "pygments_lexer": "ipython3",
   "version": "3.10.14"
  }
 },
 "nbformat": 4,
 "nbformat_minor": 2
}
