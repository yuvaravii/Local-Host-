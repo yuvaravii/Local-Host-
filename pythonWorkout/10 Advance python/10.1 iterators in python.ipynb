{
 "cells": [
  {
   "cell_type": "markdown",
   "metadata": {},
   "source": [
    "## Iterators \n",
    "\n",
    "- what  are iterators ? why do we need them and how to implement them?\n",
    "\n",
    "    - When collection of items comes into picture then each item present within the collection becomes iterable.\n",
    "    - Iterators are function that calls each iterable or item from this collection in sequence for a process.\n",
    "    - This allows to hide the complex structure behind it\n",
    "\n",
    "- WHYYY ??\n",
    "    - Enables efficient looping \n",
    "    - better memory management\n",
    "    - need to access all items within the collection\n",
    "    - the \"iter()\" makes a lazy management thus the memory management is efficient\n",
    "    - the \"next()\" keyword allows you to call on item at a time from the lazy iterator and makes temporary memory\n",
    "\n",
    "- HOW ??\n",
    "    - add \"iter(your_item)\" to make it a iterator"
   ]
  },
  {
   "cell_type": "code",
   "execution_count": 1,
   "metadata": {},
   "outputs": [
    {
     "data": {
      "text/plain": [
       "tuple"
      ]
     },
     "execution_count": 1,
     "metadata": {},
     "output_type": "execute_result"
    }
   ],
   "source": [
    "myList = 1,2,3,4,5\n",
    "type(myList)"
   ]
  },
  {
   "cell_type": "code",
   "execution_count": 5,
   "metadata": {},
   "outputs": [
    {
     "name": "stdout",
     "output_type": "stream",
     "text": [
      "<class 'tuple_iterator'>\n"
     ]
    }
   ],
   "source": [
    "iterator = iter(myList)\n",
    "print(type(iterator))"
   ]
  },
  {
   "cell_type": "code",
   "execution_count": 13,
   "metadata": {},
   "outputs": [
    {
     "ename": "StopIteration",
     "evalue": "",
     "output_type": "error",
     "traceback": [
      "\u001b[1;31m---------------------------------------------------------------------------\u001b[0m",
      "\u001b[1;31mStopIteration\u001b[0m                             Traceback (most recent call last)",
      "Cell \u001b[1;32mIn[13], line 2\u001b[0m\n\u001b[0;32m      1\u001b[0m \u001b[38;5;66;03m# on each execution this number changes\u001b[39;00m\n\u001b[1;32m----> 2\u001b[0m \u001b[38;5;28;43mnext\u001b[39;49m\u001b[43m(\u001b[49m\u001b[43miterator\u001b[49m\u001b[43m)\u001b[49m\n",
      "\u001b[1;31mStopIteration\u001b[0m: "
     ]
    }
   ],
   "source": [
    "# on each execution this number changes\n",
    "next(iterator)"
   ]
  },
  {
   "cell_type": "code",
   "execution_count": 14,
   "metadata": {},
   "outputs": [
    {
     "name": "stdout",
     "output_type": "stream",
     "text": [
      "All the items within the iterables are already called so now the iterator is empty\n"
     ]
    }
   ],
   "source": [
    "# to handle the stop iteration error in better way\n",
    "try:\n",
    "    print(next(iterator))\n",
    "except StopIteration:   \n",
    "    print(\"All the items within the iterables are already called so now the iterator is empty\")"
   ]
  },
  {
   "cell_type": "code",
   "execution_count": null,
   "metadata": {},
   "outputs": [],
   "source": []
  }
 ],
 "metadata": {
  "kernelspec": {
   "display_name": "Python 3",
   "language": "python",
   "name": "python3"
  },
  "language_info": {
   "codemirror_mode": {
    "name": "ipython",
    "version": 3
   },
   "file_extension": ".py",
   "mimetype": "text/x-python",
   "name": "python",
   "nbconvert_exporter": "python",
   "pygments_lexer": "ipython3",
   "version": "3.10.14"
  }
 },
 "nbformat": 4,
 "nbformat_minor": 2
}
