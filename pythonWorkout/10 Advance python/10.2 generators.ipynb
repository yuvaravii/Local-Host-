{
 "cells": [
  {
   "cell_type": "markdown",
   "metadata": {},
   "source": [
    "# Generators \n",
    "\n",
    "- What are generators and why they are needed , how to implement the same ?\n",
    "\n",
    "    - They are simple way to create iterators.\n",
    "    - They generate values on Fly and do not store them on memory     \n",
    "\n",
    "- HOW ??\n",
    "    - we will use \"yield\" keyword\n",
    "\n",
    "- WHYY???\n",
    "    - A generator can return more than one outputs\n",
    "    - It has iterators (Functions that iterates the items within collections) on the outputs\n",
    "    - Generators in Python are a type of iterable, like lists or tuples, but they are implemented differently. They are used to create iterators in a more efficient and memory-friendly way. Here are some key reasons why we need generators:\n",
    "\n",
    "        1.  Memory Efficiency: Generators allow you to iterate through large datasets without storing the entire dataset in memory. They generate values on the fly, which can be very memory-efficient, especially for large data.\n",
    "        2. Lazy Evaluation: Generators use lazy evaluation, which means they generate items only when you need them. This can lead to significant performance improvements when dealing with large data.\n",
    "        3. Readable and Concise Code: Generators can make your code more readable and concise by allowing you to use simple functions instead of complex classes to create iterators."
   ]
  },
  {
   "cell_type": "code",
   "execution_count": 1,
   "metadata": {},
   "outputs": [],
   "source": [
    "def Cube(n):\n",
    "    for i in range(n):\n",
    "        return i**3"
   ]
  },
  {
   "cell_type": "code",
   "execution_count": 3,
   "metadata": {},
   "outputs": [
    {
     "data": {
      "text/plain": [
       "0"
      ]
     },
     "execution_count": 3,
     "metadata": {},
     "output_type": "execute_result"
    }
   ],
   "source": [
    "Cube(3)   # here the first element is zero --> 0**3 = 0"
   ]
  },
  {
   "cell_type": "code",
   "execution_count": 4,
   "metadata": {},
   "outputs": [],
   "source": [
    "def Cube(n):\n",
    "    for i in range(n):\n",
    "        yield i**3"
   ]
  },
  {
   "cell_type": "code",
   "execution_count": 6,
   "metadata": {},
   "outputs": [
    {
     "data": {
      "text/plain": [
       "<generator object Cube at 0x000001F46FA90430>"
      ]
     },
     "execution_count": 6,
     "metadata": {},
     "output_type": "execute_result"
    }
   ],
   "source": [
    "Cube(3)   # this is now a generator of an iterable (yield)"
   ]
  },
  {
   "cell_type": "code",
   "execution_count": 8,
   "metadata": {},
   "outputs": [
    {
     "name": "stdout",
     "output_type": "stream",
     "text": [
      "0\n",
      "1\n",
      "8\n"
     ]
    }
   ],
   "source": [
    "for i in Cube(3):    # for viewing values in generator use \"For Loop\"\n",
    "    print(i)"
   ]
  },
  {
   "cell_type": "code",
   "execution_count": 15,
   "metadata": {},
   "outputs": [
    {
     "data": {
      "text/plain": [
       "0"
      ]
     },
     "execution_count": 15,
     "metadata": {},
     "output_type": "execute_result"
    }
   ],
   "source": [
    "x = Cube(3)\n",
    "next(x)\n"
   ]
  },
  {
   "cell_type": "code",
   "execution_count": 18,
   "metadata": {},
   "outputs": [
    {
     "ename": "StopIteration",
     "evalue": "",
     "output_type": "error",
     "traceback": [
      "\u001b[1;31m---------------------------------------------------------------------------\u001b[0m",
      "\u001b[1;31mStopIteration\u001b[0m                             Traceback (most recent call last)",
      "Cell \u001b[1;32mIn[18], line 1\u001b[0m\n\u001b[1;32m----> 1\u001b[0m \u001b[38;5;28;43mnext\u001b[39;49m\u001b[43m(\u001b[49m\u001b[43mx\u001b[49m\u001b[43m)\u001b[49m\n",
      "\u001b[1;31mStopIteration\u001b[0m: "
     ]
    }
   ],
   "source": [
    "next(x)"
   ]
  },
  {
   "cell_type": "markdown",
   "metadata": {},
   "source": [
    "- Generators with multiple outputs"
   ]
  },
  {
   "cell_type": "code",
   "execution_count": 37,
   "metadata": {},
   "outputs": [],
   "source": [
    "def myGenerator():\n",
    "    yield 1\n",
    "    yield 2\n",
    "    yield 3"
   ]
  },
  {
   "cell_type": "code",
   "execution_count": 38,
   "metadata": {},
   "outputs": [
    {
     "name": "stdout",
     "output_type": "stream",
     "text": [
      "1\n",
      "2\n",
      "3\n"
     ]
    }
   ],
   "source": [
    "b = myGenerator()\n",
    "for i in b:\n",
    "    print(i)"
   ]
  },
  {
   "cell_type": "code",
   "execution_count": 39,
   "metadata": {},
   "outputs": [
    {
     "ename": "StopIteration",
     "evalue": "",
     "output_type": "error",
     "traceback": [
      "\u001b[1;31m---------------------------------------------------------------------------\u001b[0m",
      "\u001b[1;31mStopIteration\u001b[0m                             Traceback (most recent call last)",
      "Cell \u001b[1;32mIn[39], line 1\u001b[0m\n\u001b[1;32m----> 1\u001b[0m \u001b[38;5;28;43mnext\u001b[39;49m\u001b[43m(\u001b[49m\u001b[43mb\u001b[49m\u001b[43m)\u001b[49m\n",
      "\u001b[1;31mStopIteration\u001b[0m: "
     ]
    }
   ],
   "source": [
    "next(b)"
   ]
  },
  {
   "cell_type": "markdown",
   "metadata": {},
   "source": [
    "- Application \n",
    "    - Helps in reading large files\n",
    "    - since helps you to process one line at a time without loading the entire file into the memory"
   ]
  },
  {
   "cell_type": "code",
   "execution_count": 40,
   "metadata": {},
   "outputs": [],
   "source": [
    "def largeFileParser(filePath):\n",
    "    with open(filePath,'r') as file:\n",
    "        for line in file:\n",
    "            yield line"
   ]
  },
  {
   "cell_type": "code",
   "execution_count": 46,
   "metadata": {},
   "outputs": [],
   "source": [
    "filePath = \"text.txt\"\n",
    "file1 = largeFileParser(filePath)"
   ]
  },
  {
   "cell_type": "code",
   "execution_count": 48,
   "metadata": {},
   "outputs": [
    {
     "name": "stdout",
     "output_type": "stream",
     "text": [
      "After Indira, Rajiv—her eldest son and 40 years old at the time—was sworn in on the evening of 31 October 1984, becoming the youngest person ever to hold the office of prime minister. Rajiv immediately called for a general election. In the subsequent general election, the Congress secured an absolute majority, winning 401 of 552 seats in the Lok Sabha, the maximum number received by any party in the history of India.[30][31] Vishwanath Pratap Singh—first finance minister and then later defence minister in Gandhi's cabinet—uncovered irregularities, in what became known as the Bofors scandal, during his stint at the Ministry of Defence; Singh was subsequently expelled from Congress and formed the Janata Dal and—with the help of several anti-Congress parties—also formed the National Front, a coalition of many political parties.[32]\n",
      "\n",
      "In the general election of 1989, the National Front—with outside support from the Bharatiya Janata Party (BJP) and the Left Front—came to power.[33] V. P. Singh was elected prime minister.[33] During a tenure of less than a year, Singh and his government accepted the Mandal Commission's recommendations.[34] Singh's tenure came to an end after he ordered the arrest of BJP member Lal Krishna Advani,[35] as a result, BJP withdrew its outside support to the government, V. P. Singh lost the subsequent vote-of-no-confidence 146–320 and had to resign.[36] After V. P. Singh's resignation, Chandra Shekhar along with 64 members of parliament (MPs) floated the Samajwadi Janata Party (Rashtriya),[37] and proved a majority in the Lok Sabha with support from Congress.[38] But Shekhar's premiership did not last long, Congress proceeded to withdraw its support; Shekhar's government fell as a result, and new elections were announced.[39]\n",
      "\n",
      "In the general election of 1991, Congress—under the leadership of P. V. Narasimha Rao—formed a minority government; Rao became the first PM of South Indian origin.[40] After the dissolution of the Soviet Union, India was on the brink of bankruptcy, so, Rao took steps to liberalise the economy, and appointed Manmohan Singh—an economist and a former governor of the Reserve Bank of India—as finance minister.[40] Rao and Singh then took various steps to liberalise the economy,[40] these resulted in an unprecedented economic growth in India.[41] His premiership, however, was also a witness to the demolition of the Babri Masjid, which resulted in the death of about 2,000 people.[42] Rao, however, did complete five continuous years in office, becoming the first prime minister outside of the Nehru—Gandhi family to do so.[40]\n",
      "\n",
      "After the end of Rao's tenure in May 1996, the nation saw four prime ministers in a span of three years, viz., two tenures of Atal Bihari Vajpayee; one tenure of H. D. Deve Gowda from 1 June 1996 to 21 April 1997; and one tenure of I. K. Gujral from 21 April 1997 to 19 March 1998. The government of Prime Minister Vajpayee—elected in 1998—took some concrete steps. In May 1998—after a month in power—the government announced the conduct of five underground nuclear explosions in Pokhran.[43] In response to these tests, many western countries, including the United States, imposed economic sanctions on India,[44] but, due to the support received from Russia, France, the Gulf countries and some other nations, the sanctions—were largely—not considered successful.[45][46] A few months later in response to the Indian nuclear tests, Pakistan also conducted nuclear tests.[47] Given the deteriorating situation between the two countries, the governments tried to improve bilateral relations. In February 1999, the India and Pakistan signed the Lahore Declaration, in which the two countries announced their intention to annul mutual enmity, increase trade and use their nuclear capabilities for peaceful purposes.[48] In May 1999, All India Anna Dravida Munnetra Kazhagam withdrew from the ruling National Democratic Alliance (NDA) coalition;[49] Vajpayee's government, hence, became a caretaker one after losing a motion-of-no-confidence 269–270, this coincided with the Kargil War with Pakistan.[50] In the subsequent October 1999 general election, the BJP-led NDA and its affiliated parties secured a comfortable majority in the Lok Sabha, winning 299 of 543 seats in the lower house.[51]\n"
     ]
    }
   ],
   "source": [
    "for line in largeFileParser(filePath):\n",
    "    print(line.strip())"
   ]
  },
  {
   "cell_type": "code",
   "execution_count": null,
   "metadata": {},
   "outputs": [],
   "source": []
  }
 ],
 "metadata": {
  "kernelspec": {
   "display_name": "Python 3",
   "language": "python",
   "name": "python3"
  },
  "language_info": {
   "codemirror_mode": {
    "name": "ipython",
    "version": 3
   },
   "file_extension": ".py",
   "mimetype": "text/x-python",
   "name": "python",
   "nbconvert_exporter": "python",
   "pygments_lexer": "ipython3",
   "version": "3.10.14"
  }
 },
 "nbformat": 4,
 "nbformat_minor": 2
}
