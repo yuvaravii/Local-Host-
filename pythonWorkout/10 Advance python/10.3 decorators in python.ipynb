{
 "cells": [
  {
   "cell_type": "markdown",
   "metadata": {},
   "source": [
    "# Decorators \n",
    "\n",
    "- what is decorators and why do we needed them?\n",
    "    - Helps you to modify a function or method in a class\n",
    "    - Used to add features to existing method or function without changing its actual code.\n",
    "\n",
    "- HOW ?? \n",
    "    - Function copy : here a function is stored in a variable, So the variable now has the function stored. We can call the variable to perform the stored function, we may be able to perform the function even when the source function is deleted.\n",
    "    - Closures : these are methods within methods, they handle the inputs synonymously. Inputs are not  limited to only objects but functions and methods too\n",
    "    - decorators\n",
    "\n",
    "- Why we need decorators ?\n",
    "    - Decorators in Python are a powerful and flexible way to modify or enhance the behavior of functions or methods without changing their actual code. They are typically used for:\n",
    "\n",
    "    1. Code Reusability:\n",
    "    Decorators allow you to define reusable pieces of code that can be applied to multiple functions or methods. This helps to avoid code duplication and keeps the codebase clean and maintainable.\n",
    "\n",
    "    2. Separation of Concerns:\n",
    "    By using decorators, you can separate the core logic of a function from its auxiliary functionalities (like logging, authentication, etc.). This makes the core logic easier to understand and test.\n",
    "\n",
    "    3. Enhanced Functionality:\n",
    "    Decorators can be used to add new behavior to functions or methods. For example, you can use decorators to:\n",
    "\n",
    "        - Logging: Automatically log the execution of functions.\n",
    "        - Access Control: Check permissions before allowing the execution of a function.\n",
    "        - Caching: Cache the results of expensive function calls.\n",
    "        - Validation: Validate inputs before executing a function."
   ]
  },
  {
   "cell_type": "code",
   "execution_count": 8,
   "metadata": {},
   "outputs": [],
   "source": [
    "## Function copy\n",
    "\n",
    "def welcome():\n",
    "    return \"Welcome to  realm of python\""
   ]
  },
  {
   "cell_type": "code",
   "execution_count": 9,
   "metadata": {},
   "outputs": [
    {
     "name": "stdout",
     "output_type": "stream",
     "text": [
      "Welcome to  realm of python\n",
      "Welcome to  realm of python\n"
     ]
    }
   ],
   "source": [
    "wel = welcome()   # copied into wel variable\n",
    "print(wel)\n",
    "del welcome   # inspite of del welcome function wel variables works\n",
    "print(wel)\n"
   ]
  },
  {
   "cell_type": "markdown",
   "metadata": {},
   "source": [
    "- Closures"
   ]
  },
  {
   "cell_type": "code",
   "execution_count": 10,
   "metadata": {},
   "outputs": [],
   "source": [
    "def main_method(msg):\n",
    "    def sub_method():\n",
    "        print(\"Hey I am returning output from sub_method\")\n",
    "        print(f\"The input message on main method : {msg}\")\n",
    "\n",
    "    return sub_method()"
   ]
  },
  {
   "cell_type": "code",
   "execution_count": 11,
   "metadata": {},
   "outputs": [
    {
     "name": "stdout",
     "output_type": "stream",
     "text": [
      "Hey I am returning output from sub_method\n",
      "The input message on main method : Hey is that the main method ?\n"
     ]
    }
   ],
   "source": [
    "main_method(\"Hey is that the main method ?\")"
   ]
  },
  {
   "cell_type": "code",
   "execution_count": 13,
   "metadata": {},
   "outputs": [],
   "source": [
    "def main_method(func,inpt):\n",
    "    def sub_method():\n",
    "        print(\"Welcome, I am sub_method\")\n",
    "        print(func(inpt))\n",
    "    return sub_method()"
   ]
  },
  {
   "cell_type": "code",
   "execution_count": 14,
   "metadata": {},
   "outputs": [
    {
     "name": "stdout",
     "output_type": "stream",
     "text": [
      "Welcome, I am sub_method\n",
      "3\n"
     ]
    }
   ],
   "source": [
    "main_method(len,[1,2,3])"
   ]
  },
  {
   "cell_type": "markdown",
   "metadata": {},
   "source": [
    "## Decorators"
   ]
  },
  {
   "cell_type": "code",
   "execution_count": 26,
   "metadata": {},
   "outputs": [],
   "source": [
    "def main_method(func):\n",
    "    def sub_method():\n",
    "        print(\"This is the sub method\")\n",
    "        func()\n",
    "        print(\"Last line of the sub method\")\n",
    "    return sub_method()"
   ]
  },
  {
   "cell_type": "code",
   "execution_count": 28,
   "metadata": {},
   "outputs": [
    {
     "name": "stdout",
     "output_type": "stream",
     "text": [
      "This is the sub method\n",
      "I am swimming within the realm of python\n",
      "Last line of the sub method\n"
     ]
    }
   ],
   "source": [
    "@main_method  # no modification on the main method, this takes the function as input\n",
    "def learning_python():  # added as a decorator\n",
    "    print(\"I am swimming within the realm of python\")"
   ]
  },
  {
   "cell_type": "code",
   "execution_count": null,
   "metadata": {},
   "outputs": [],
   "source": []
  }
 ],
 "metadata": {
  "kernelspec": {
   "display_name": "Python 3",
   "language": "python",
   "name": "python3"
  },
  "language_info": {
   "codemirror_mode": {
    "name": "ipython",
    "version": 3
   },
   "file_extension": ".py",
   "mimetype": "text/x-python",
   "name": "python",
   "nbconvert_exporter": "python",
   "pygments_lexer": "ipython3",
   "version": "3.10.14"
  }
 },
 "nbformat": 4,
 "nbformat_minor": 2
}
