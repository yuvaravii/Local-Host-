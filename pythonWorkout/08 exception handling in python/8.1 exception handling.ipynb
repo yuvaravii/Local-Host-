{
 "cells": [
  {
   "cell_type": "markdown",
   "metadata": {},
   "source": [
    "- What is an exception ? how and why we need this ?\n",
    "    - Handling error : This is essential to understand which part of code is disrupting the flow of execution.\n",
    "    - Helps us to identify what kind of error pops and rectify them.\n",
    "    - Easier navigation and handling of errors encountered.\n",
    "\n",
    "    - How ?\n",
    "        - Syntax used : Try,except, else, finally\n",
    "        - Eg : zeroDivisionError, FileNotFoundError,valueError etc.\n",
    "    - Why ?\n",
    "        - This is essential for the end user, who doesn't involve too much into the scripting part.\n",
    "        - End user finds a reasonable definition for the error popped on the screen\n",
    "\n",
    "- Difference between error and exception  ??\n",
    "    - Exception : an error occurred during the execution of code\n",
    "    - Error : incorrect way of input or processing"
   ]
  },
  {
   "cell_type": "code",
   "execution_count": 2,
   "metadata": {},
   "outputs": [
    {
     "ename": "NameError",
     "evalue": "name 'b' is not defined",
     "output_type": "error",
     "traceback": [
      "\u001b[1;31m---------------------------------------------------------------------------\u001b[0m",
      "\u001b[1;31mNameError\u001b[0m                                 Traceback (most recent call last)",
      "Cell \u001b[1;32mIn[2], line 1\u001b[0m\n\u001b[1;32m----> 1\u001b[0m a\u001b[38;5;241m=\u001b[39m\u001b[43mb\u001b[49m\n\u001b[0;32m      3\u001b[0m \u001b[38;5;66;03m# here the exception is name error\u001b[39;00m\n\u001b[0;32m      4\u001b[0m \u001b[38;5;66;03m# Error : is not defined \u001b[39;00m\n",
      "\u001b[1;31mNameError\u001b[0m: name 'b' is not defined"
     ]
    }
   ],
   "source": [
    "a=b\n",
    "\n",
    "# here the exception is name error\n",
    "# Error : is not defined "
   ]
  },
  {
   "cell_type": "code",
   "execution_count": 4,
   "metadata": {},
   "outputs": [
    {
     "name": "stdout",
     "output_type": "stream",
     "text": [
      "Hello User!, The variable is not assigned or defined\n"
     ]
    }
   ],
   "source": [
    "# Executing a try, except block\n",
    "try:\n",
    "    a=b \n",
    "except:\n",
    "    print(\"Hello User!, The variable is not assigned or defined\")"
   ]
  },
  {
   "cell_type": "code",
   "execution_count": 5,
   "metadata": {},
   "outputs": [
    {
     "name": "stdout",
     "output_type": "stream",
     "text": [
      "name 'b' is not defined\n"
     ]
    }
   ],
   "source": [
    "try:\n",
    "    a=b\n",
    "except NameError as ne:\n",
    "    print(ne)"
   ]
  },
  {
   "cell_type": "code",
   "execution_count": 10,
   "metadata": {},
   "outputs": [
    {
     "name": "stdout",
     "output_type": "stream",
     "text": [
      "division by zero\n",
      "please make the denominator as a non zero value\n"
     ]
    }
   ],
   "source": [
    "try: \n",
    "    value = 1/0\n",
    "except ZeroDivisionError as zde:\n",
    "    print(zde)\n",
    "    print(\"please make the denominator as a non zero value\")"
   ]
  },
  {
   "cell_type": "markdown",
   "metadata": {},
   "source": [
    "- why else is needed in error handling ?\n",
    "    - \"else\" enables to executing and return the output after successful error handling."
   ]
  },
  {
   "cell_type": "code",
   "execution_count": 15,
   "metadata": {},
   "outputs": [
    {
     "name": "stdout",
     "output_type": "stream",
     "text": [
      "0.8333333333333334\n"
     ]
    }
   ],
   "source": [
    "try:\n",
    "    inputNum = int(input(\"Enter your number here\"))\n",
    "    output = 5/inputNum\n",
    "except ValueError:\n",
    "    print(\"The value entered in not an number or in an integer format\")\n",
    "except ZeroDivisionError:\n",
    "    print(\"Enter a value greater than 0\")\n",
    "except Exception as ex:   # Always use this exception as last resort as this is parent class, the user might not interpret easily\n",
    "    print(ex)\n",
    "else:\n",
    "    print(output)\n"
   ]
  },
  {
   "cell_type": "markdown",
   "metadata": {},
   "source": [
    "- why \"finally\" is needed in the code ?\n",
    "    - It is the part where the written above code has an exception or the result is returned is none of the concern, as they are anyway executed\n",
    "    - Error or output doesn't stop the execution of the part written in the \"finally\" part"
   ]
  },
  {
   "cell_type": "code",
   "execution_count": 17,
   "metadata": {},
   "outputs": [
    {
     "name": "stdout",
     "output_type": "stream",
     "text": [
      "1.0\n",
      "Completed Execution\n"
     ]
    }
   ],
   "source": [
    "try:\n",
    "    inputNum = int(input(\"Enter your number here\"))\n",
    "    output = 5/inputNum\n",
    "except ValueError:\n",
    "    print(\"The value entered in not an number or in an integer format\")\n",
    "except ZeroDivisionError:\n",
    "    print(\"Enter a value greater than 0\")\n",
    "except Exception as ex:   # Always use this exception as last resort as this is parent class, the user might not interpret easily\n",
    "    print(ex)\n",
    "else:\n",
    "    print(output)\n",
    "finally:\n",
    "    print(\"Completed Execution\")"
   ]
  },
  {
   "cell_type": "markdown",
   "metadata": {},
   "source": [
    "## File and exception handling"
   ]
  },
  {
   "cell_type": "code",
   "execution_count": 19,
   "metadata": {},
   "outputs": [],
   "source": [
    "with open('sam4.txt','w') as file:\n",
    "    file.write('.')"
   ]
  },
  {
   "cell_type": "code",
   "execution_count": 23,
   "metadata": {},
   "outputs": [
    {
     "name": "stdout",
     "output_type": "stream",
     "text": [
      "name 'b' is not defined\n",
      "File closed\n"
     ]
    }
   ],
   "source": [
    "##using try and catch block\n",
    "\n",
    "try:\n",
    "    file = open('sam4.txt',mode='r')\n",
    "    content = file.read()\n",
    "    a=b\n",
    "except FileNotFoundError as fne:\n",
    "    print(\"Mentioned file is not found\")\n",
    "except ValueError as ve:\n",
    "    print(\"The value does not exist\")\n",
    "except Exception as ex:\n",
    "    print(ex)\n",
    "else:\n",
    "    print(content)\n",
    "\n",
    "finally:\n",
    "    if 'file' in locals() or not file.closed():\n",
    "        file.close()\n",
    "        print(\"File closed\")"
   ]
  },
  {
   "cell_type": "code",
   "execution_count": null,
   "metadata": {},
   "outputs": [],
   "source": []
  }
 ],
 "metadata": {
  "kernelspec": {
   "display_name": "Python 3",
   "language": "python",
   "name": "python3"
  },
  "language_info": {
   "codemirror_mode": {
    "name": "ipython",
    "version": 3
   },
   "file_extension": ".py",
   "mimetype": "text/x-python",
   "name": "python",
   "nbconvert_exporter": "python",
   "pygments_lexer": "ipython3",
   "version": "3.10.14"
  }
 },
 "nbformat": 4,
 "nbformat_minor": 2
}
