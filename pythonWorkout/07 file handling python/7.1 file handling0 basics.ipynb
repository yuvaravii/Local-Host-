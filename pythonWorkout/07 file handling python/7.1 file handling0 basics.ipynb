{
 "cells": [
  {
   "cell_type": "markdown",
   "metadata": {},
   "source": [
    "## File handling in python"
   ]
  },
  {
   "cell_type": "markdown",
   "metadata": {},
   "source": [
    "-  what is file handling ? how and why is it needed ?\n",
    "    - File handling : reading, writing and making modification to the files as desired by the user\n",
    "    - Fortunately, python has in-built functions to handle such requirements.\n",
    "\n",
    "    - how ?\n",
    "        - syntax:\n",
    "            - with open(yourFileName, mode = 'r'|'r+'|'w'|'w+'||'a'|'a+'|) as file:\n",
    "\n",
    "\n",
    "        - r : read\n",
    "        - write : write (over write : deletes previous records and updates only the new lines)\n",
    "        - append : has existing records and new lines are inserted at the end"
   ]
  },
  {
   "cell_type": "code",
   "execution_count": 1,
   "metadata": {},
   "outputs": [
    {
     "data": {
      "text/plain": [
       "'c:\\\\Users\\\\gcera\\\\OneDrive\\\\Documents\\\\01. Projects\\\\krishNaik lesson\\\\execution\\\\notebooks\\\\07 file handling python'"
      ]
     },
     "execution_count": 1,
     "metadata": {},
     "output_type": "execute_result"
    }
   ],
   "source": [
    "import os \n",
    "os.getcwd()"
   ]
  },
  {
   "cell_type": "code",
   "execution_count": 2,
   "metadata": {},
   "outputs": [
    {
     "name": "stdout",
     "output_type": "stream",
     "text": [
      "OMG,\n",
      "my\n",
      "earlier\n",
      "lines\n",
      "are\n",
      "gone\n"
     ]
    }
   ],
   "source": [
    "filePath =  'C:\\\\Users\\\\gcera\\\\OneDrive\\\\Documents\\\\01. Projects\\\\krishNaik lesson\\\\execution\\\\notebooks\\\\07 file handling python\\\\sam1.txt'\n",
    "\n",
    "with open(filePath,mode='r') as file:\n",
    "    for line in file:\n",
    "        for words in line.split():\n",
    "            print(words)"
   ]
  },
  {
   "cell_type": "code",
   "execution_count": 3,
   "metadata": {},
   "outputs": [
    {
     "name": "stdout",
     "output_type": "stream",
     "text": [
      "OMG, my earlier lines are gone\n",
      "\n"
     ]
    }
   ],
   "source": [
    "with open(filePath,'r') as file:\n",
    "    content = file.read()\n",
    "    print(content)"
   ]
  },
  {
   "cell_type": "code",
   "execution_count": 4,
   "metadata": {},
   "outputs": [
    {
     "name": "stdout",
     "output_type": "stream",
     "text": [
      "OMG, my earlier lines are gone\n"
     ]
    }
   ],
   "source": [
    "# To overcome the problem of empty line insertion\n",
    "with open(filePath,'r') as file:\n",
    "    content = file.read()\n",
    "    print(content.strip())"
   ]
  },
  {
   "cell_type": "code",
   "execution_count": 5,
   "metadata": {},
   "outputs": [],
   "source": [
    "# Inserting new line\n",
    "with open(filePath,'w') as file:\n",
    "    file.write(\"Hey file, I am inserting this new lines\\n\")"
   ]
  },
  {
   "cell_type": "code",
   "execution_count": 6,
   "metadata": {},
   "outputs": [
    {
     "name": "stdout",
     "output_type": "stream",
     "text": [
      "Hey file, I am inserting this new lines\n",
      "\n"
     ]
    }
   ],
   "source": [
    "with open(filePath,'r') as file:\n",
    "    for line in file:\n",
    "        print(line)"
   ]
  },
  {
   "cell_type": "code",
   "execution_count": 7,
   "metadata": {},
   "outputs": [],
   "source": [
    "with open(filePath,'a') as file:\n",
    "    file.write(\"Hey file, I am appending this line\")"
   ]
  },
  {
   "cell_type": "code",
   "execution_count": 8,
   "metadata": {},
   "outputs": [
    {
     "name": "stdout",
     "output_type": "stream",
     "text": [
      "Hey file, I am inserting this new lines\n",
      "\n",
      "Hey file, I am appending this line\n"
     ]
    }
   ],
   "source": [
    "with open(filePath,'r') as file:\n",
    "    for line in file:\n",
    "        print(line)"
   ]
  },
  {
   "cell_type": "code",
   "execution_count": 9,
   "metadata": {},
   "outputs": [],
   "source": [
    "#  For writing multiple lines together.\n",
    "lines = ['\\nTony is joining avengers \\n','Thor supports avengers to defeat thanos \\n','Glad that loki has changed and intends to help earthly creatures \\n']\n",
    "\n",
    "with open(filePath,'a') as file:\n",
    "    file.writelines(lines)"
   ]
  },
  {
   "cell_type": "code",
   "execution_count": 10,
   "metadata": {},
   "outputs": [
    {
     "name": "stdout",
     "output_type": "stream",
     "text": [
      "Hey file, I am inserting this new lines\n",
      "\n",
      "Hey file, I am appending this line\n",
      "\n",
      "Tony is joining avengers \n",
      "\n",
      "Thor supports avengers to defeat thanos \n",
      "\n",
      "Glad that loki has changed and intends to help earthly creatures \n",
      "\n"
     ]
    }
   ],
   "source": [
    "with open(filePath,'r') as file:\n",
    "    for line in file:\n",
    "        print(line)"
   ]
  },
  {
   "cell_type": "markdown",
   "metadata": {},
   "source": [
    "## writing and reading binary files\n",
    "\n",
    "- What are binary files ? how and why are they used ?"
   ]
  },
  {
   "cell_type": "code",
   "execution_count": 11,
   "metadata": {},
   "outputs": [],
   "source": [
    "data = b'\\x00\\x01\\x02\\x03\\x04\\x05'\n",
    "with open('sam2.bin','wb') as file :      # wb : write bytes\n",
    "    file.write(data)"
   ]
  },
  {
   "cell_type": "code",
   "execution_count": 12,
   "metadata": {},
   "outputs": [
    {
     "name": "stdout",
     "output_type": "stream",
     "text": [
      "b'\\x00\\x01\\x02\\x03\\x04\\x05'\n"
     ]
    }
   ],
   "source": [
    "with open('sam2.bin','rb') as file:\n",
    "    content = file.read()\n",
    "    print(content)"
   ]
  },
  {
   "cell_type": "markdown",
   "metadata": {},
   "source": [
    "## Reading and writing files "
   ]
  },
  {
   "cell_type": "code",
   "execution_count": 13,
   "metadata": {},
   "outputs": [],
   "source": [
    "with open('sam1.txt','r') as file:\n",
    "    content = file.read()\n",
    "\n",
    "with open('destination.txt','w') as file:\n",
    "    file.write(content)"
   ]
  },
  {
   "cell_type": "code",
   "execution_count": 14,
   "metadata": {},
   "outputs": [],
   "source": [
    "# To perform the read and write in single line rather than 2 lines\n",
    "\n",
    "with open('sam1.txt','w+') as file:     # w+ : gives the power to read and replace with new line than appending new line.\n",
    "    file.write(\"OMG, my earlier lines are gone\\n\")"
   ]
  },
  {
   "cell_type": "markdown",
   "metadata": {},
   "source": [
    "- Write a function to count the number of lines, words and characters within the file"
   ]
  },
  {
   "cell_type": "code",
   "execution_count": 15,
   "metadata": {},
   "outputs": [
    {
     "name": "stdout",
     "output_type": "stream",
     "text": [
      "line_count : 5, word_count : 36, char_count : 208\n"
     ]
    }
   ],
   "source": [
    "def counter(filePath):\n",
    "    with open(filePath,'r') as file:\n",
    "        lines = file.readlines()\n",
    "        line_count = len(lines)\n",
    "        word_count = sum(len(line.split()) for line in lines)\n",
    "        char_count = sum(len(line) for line in lines)\n",
    "    \n",
    "    return line_count, word_count, char_count\n",
    "\n",
    "\n",
    "file_path = 'C:\\\\Users\\\\gcera\\\\OneDrive\\\\Documents\\\\01. Projects\\\\krishNaik lesson\\\\execution\\\\notebooks\\\\07 file handling python\\\\destination.txt'\n",
    "line_count, word_count, char_count = counter(file_path)\n",
    "print(f\"line_count : {line_count}, word_count : {word_count}, char_count : {char_count}\")\n"
   ]
  },
  {
   "cell_type": "code",
   "execution_count": 16,
   "metadata": {},
   "outputs": [
    {
     "name": "stdout",
     "output_type": "stream",
     "text": [
      "This is my firstLine\n",
      "This is my secondLine\n",
      "\n"
     ]
    }
   ],
   "source": [
    "# Creating new sample file \n",
    "with open(\"sam3.txt\",\"w+\") as file:    # here sam3.txt if present, we can write else it will create new file named sam3\n",
    "    file.write(\"This is my firstLine\\n\")\n",
    "    file.write(\"This is my secondLine\\n\")\n",
    "\n",
    "    # for reading the file from first, we need the cursor on starting point of the file\n",
    "    # currently the file cursor is on second line end, as new modification happened in the same location\n",
    "    # to move the cursor\n",
    "    file.seek(0)               # index : 0, begining\n",
    "    content = file.read()\n",
    "    print(content)"
   ]
  },
  {
   "cell_type": "code",
   "execution_count": null,
   "metadata": {},
   "outputs": [],
   "source": []
  }
 ],
 "metadata": {
  "kernelspec": {
   "display_name": "Python 3",
   "language": "python",
   "name": "python3"
  },
  "language_info": {
   "codemirror_mode": {
    "name": "ipython",
    "version": 3
   },
   "file_extension": ".py",
   "mimetype": "text/x-python",
   "name": "python",
   "nbconvert_exporter": "python",
   "pygments_lexer": "ipython3",
   "version": "3.10.14"
  }
 },
 "nbformat": 4,
 "nbformat_minor": 2
}
