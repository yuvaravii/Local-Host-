{
 "cells": [
  {
   "cell_type": "markdown",
   "metadata": {},
   "source": [
    "- Lets understand variables deeply\n",
    "    - All variables consumes memory after assignment and takes the property of the class that they are stored into\n",
    "    - Imagine this like to be jar , fill water --> water jar , fill pickle --> pickle jar\n",
    "    - So, the don't have any inherent properties, they take the property of the class within the variable\n"
   ]
  },
  {
   "cell_type": "markdown",
   "metadata": {},
   "source": [
    "- How to assign values to a variable ?\n",
    "    -  Always the name of the variable is present on the left and assignment of values are placed on right, refer below code "
   ]
  },
  {
   "cell_type": "code",
   "execution_count": 3,
   "metadata": {},
   "outputs": [
    {
     "name": "stdout",
     "output_type": "stream",
     "text": [
      "32\n",
      "True\n"
     ]
    }
   ],
   "source": [
    "# variable name = assigned value\n",
    "age = 32\n",
    "is_teacher = True\n",
    "\n",
    "print(age)\n",
    "print(is_teacher)"
   ]
  },
  {
   "cell_type": "markdown",
   "metadata": {},
   "source": [
    "- How to give name for variables ? : Nomenclature\n",
    "    - should be descriptive\n",
    "    - Must start with letter or number or underscores\n",
    "\n",
    "- Note \n",
    "    - Variable names are case sensitive"
   ]
  },
  {
   "cell_type": "code",
   "execution_count": null,
   "metadata": {},
   "outputs": [],
   "source": [
    "name = 'stark'\n",
    "Name = 'stark'\n",
    "# name and Name are different"
   ]
  },
  {
   "cell_type": "markdown",
   "metadata": {},
   "source": [
    "# Data type conversion"
   ]
  },
  {
   "cell_type": "markdown",
   "metadata": {},
   "source": [
    "- What is type conversion ? how and why should we do it ?\n",
    "    - We are converting one type of class to another type of class \n",
    "    - however it is not possible to convert all classes to other classes\n",
    "        - for eg. abcd --> to numerical is not logical \n",
    "        - however \"25\" --> to numerical is logical \n",
    "    - Any type of classes to string class is possible but not vice versa\n",
    "\n",
    "    How :\n",
    "     - use int(), float(), str(), casting\n",
    "\n",
    "    why :\n",
    "    - Since string is immutable, most of the time data will be transferred in the form of string, so we can use this conversion method to convert them into respective logical format"
   ]
  },
  {
   "cell_type": "code",
   "execution_count": 6,
   "metadata": {},
   "outputs": [
    {
     "name": "stdout",
     "output_type": "stream",
     "text": [
      "Current data type : <class 'float'> --> 32.0\n",
      "changed data type : <class 'int'> --> 32 \n",
      "changed data type : <class 'str'> --> 32\n"
     ]
    }
   ],
   "source": [
    "# example \n",
    "age = 32.0\n",
    "print(f\"Current data type : {type(age)} --> {age}\")\n",
    "\n",
    "age = int(age)\n",
    "print(f\"changed data type : {type(age)} --> {age} \")\n",
    "\n",
    "age = str(age)\n",
    "print(f\"changed data type : {type(age)} --> {age}\")"
   ]
  },
  {
   "cell_type": "markdown",
   "metadata": {},
   "source": [
    "- What is dynamic coding, how and why to use it ?\n",
    "    - what :\n",
    "        - The variable allows multiple assignment and multiple classes\n",
    "        - the jar can be emptied and refilled with any values  during the runtime (current execution), allowing it to assign multiple values to the variable (jar)\n",
    "\n",
    "    - How :\n",
    "        - can assign any value, classes to a variable within a code \n",
    "\n",
    "    - Why :\n",
    "        - offers flexibility for writing a code "
   ]
  },
  {
   "cell_type": "code",
   "execution_count": 8,
   "metadata": {},
   "outputs": [
    {
     "name": "stdout",
     "output_type": "stream",
     "text": [
      "32 --> <class 'int'>\n",
      "Hello world! --> <class 'str'>\n",
      "6.28 --> <class 'str'>\n"
     ]
    }
   ],
   "source": [
    "# example\n",
    "# variable name remains constant \n",
    "\n",
    "variable = 32\n",
    "print(variable,\"-->\",type(variable))\n",
    "\n",
    "variable = \"Hello world!\"\n",
    "print(variable,\"-->\",type(variable))\n",
    "\n",
    "variable = \"6.28\"\n",
    "print(variable,\"-->\",type(variable))"
   ]
  },
  {
   "cell_type": "markdown",
   "metadata": {},
   "source": [
    "# Input function"
   ]
  },
  {
   "cell_type": "markdown",
   "metadata": {},
   "source": [
    "- What is input function ? how and why to use it ?\n",
    "    - What : \n",
    "        - It is function that allows user to input value, the user can be anyone. This function allows to take input from user on webpage too.\n",
    "        - This function enormously used in the webpage for collecting input from different user.\n",
    "        - In most websites, you can see sign in mail id : meaning it takes input. Here the input function is used.\n",
    "\n",
    "    - How :\n",
    "        - Input() --> by default takes as class of input as it is, else in form string\n",
    "\n",
    "\n",
    "    - Why :\n",
    "        - this allows for information collection and command for end user"
   ]
  },
  {
   "cell_type": "code",
   "execution_count": 3,
   "metadata": {},
   "outputs": [
    {
     "name": "stdout",
     "output_type": "stream",
     "text": [
      "Imputed age is : 23 --> <class 'str'>\n"
     ]
    }
   ],
   "source": [
    "# sample\n",
    "age = input()\n",
    "print(f\"Imputed age is : {age} --> {type(age)}\")"
   ]
  },
  {
   "cell_type": "markdown",
   "metadata": {},
   "source": [
    "# Calculator APP"
   ]
  },
  {
   "cell_type": "code",
   "execution_count": 5,
   "metadata": {},
   "outputs": [
    {
     "name": "stdout",
     "output_type": "stream",
     "text": [
      "first number a : 5,  second number b : 2\n",
      "Sum of a & b : 7\n",
      "Diff of a & b : 3\n",
      "Multiplication of a & b : 10\n",
      "Quotient of a & b : 2.5\n",
      "Remainder of a & b : 1\n"
     ]
    }
   ],
   "source": [
    "a = int(input(\"Enter your first number\"))\n",
    "b = int(input(\"Enter your second number\"))\n",
    "\n",
    "print(f\"first number a : {a},  second number b : {b}\")\n",
    "print(f\"Sum of a & b : {a+b}\")\n",
    "print(f\"Diff of a & b : {a-b}\")\n",
    "print(f\"Multiplication of a & b : {a*b}\")\n",
    "print(f'Quotient of a & b : {a/b}')\n",
    "print(f\"Remainder of a & b : {a%b}\")"
   ]
  },
  {
   "cell_type": "markdown",
   "metadata": {},
   "source": []
  }
 ],
 "metadata": {
  "kernelspec": {
   "display_name": "Python 3",
   "language": "python",
   "name": "python3"
  },
  "language_info": {
   "codemirror_mode": {
    "name": "ipython",
    "version": 3
   },
   "file_extension": ".py",
   "mimetype": "text/x-python",
   "name": "python",
   "nbconvert_exporter": "python",
   "pygments_lexer": "ipython3",
   "version": "3.10.0"
  }
 },
 "nbformat": 4,
 "nbformat_minor": 2
}
