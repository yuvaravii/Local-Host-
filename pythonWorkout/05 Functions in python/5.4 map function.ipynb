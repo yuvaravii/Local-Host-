{
 "cells": [
  {
   "cell_type": "markdown",
   "metadata": {},
   "source": [
    "## Map function \n",
    "\n",
    "- what is map function ? why and how do we use it ?\n",
    "    - Map functions are generally used at places where we need apply a logic or operation or function to a iterable.\n",
    "    - This iterates through all the items within the iterables.\n",
    "    - This function is not just limited to List or tuples, the same can be applied to dataFrames as well\n",
    "    - simple functions, lambda functions\n",
    "    - we can pull multiple iterables and perform operations\n",
    "\n",
    "\n",
    "- Why ?\n",
    "    - More readable , efficient \n",
    "\n",
    "- How ?\n",
    "    - Syntax :\n",
    "        - map(yourFunction,yourIterable)\n"
   ]
  },
  {
   "cell_type": "code",
   "execution_count": 1,
   "metadata": {},
   "outputs": [
    {
     "data": {
      "text/plain": [
       "[1, 4, 9, 16, 25]"
      ]
     },
     "execution_count": 1,
     "metadata": {},
     "output_type": "execute_result"
    }
   ],
   "source": [
    "# squaring using map function\n",
    "nums = [1,2,3,4,5]\n",
    "list(map(lambda x:x**2,nums))"
   ]
  },
  {
   "cell_type": "markdown",
   "metadata": {},
   "source": [
    "### calling multiple iterables (Magic)"
   ]
  },
  {
   "cell_type": "code",
   "execution_count": 2,
   "metadata": {},
   "outputs": [
    {
     "data": {
      "text/plain": [
       "[12, 15, 18]"
      ]
     },
     "execution_count": 2,
     "metadata": {},
     "output_type": "execute_result"
    }
   ],
   "source": [
    "num1 = [1,2,3]\n",
    "num2 = [4,5,6]\n",
    "num3 = [7,8,9]\n",
    "list(map(lambda x,y,z:x+y+z, num1, num2, num3))"
   ]
  },
  {
   "cell_type": "markdown",
   "metadata": {},
   "source": [
    "### Type casting the iterables"
   ]
  },
  {
   "cell_type": "code",
   "execution_count": 11,
   "metadata": {},
   "outputs": [
    {
     "name": "stdout",
     "output_type": "stream",
     "text": [
      "['TONY', 'HULK', 'THOR']\n",
      "['TONY', 'HULK', 'THOR']\n",
      "[1, 2, 3]\n",
      "[<class 'int'>, <class 'int'>, <class 'int'>]\n"
     ]
    }
   ],
   "source": [
    "strList = ['tony', 'hulk', 'thor']\n",
    "\n",
    "# using lambda\n",
    "print(list(map(lambda x:x.upper(),strList)))\n",
    "\n",
    "# using casting\n",
    "print(list(map(str.upper,strList)))\n",
    "\n",
    "numList = ['1','2','3']\n",
    "numList2 = list(map(int,numList))\n",
    "print(list(map(int,numList)))\n",
    "print(list(map(type,numList2)))"
   ]
  },
  {
   "cell_type": "code",
   "execution_count": 9,
   "metadata": {},
   "outputs": [
    {
     "data": {
      "text/plain": [
       "['tony', 'thor']"
      ]
     },
     "execution_count": 9,
     "metadata": {},
     "output_type": "execute_result"
    }
   ],
   "source": [
    "# get names of persons in dicts list\n",
    "\n",
    "dictList = [\n",
    "    {'name' : 'tony', 'country' : 'US'},\n",
    "    {'name' : 'thor', 'country':'asgard'}\n",
    "]\n",
    "\n",
    "# get names using lambda functions \n",
    "list(map(lambda x:x['name'],dictList))"
   ]
  },
  {
   "cell_type": "code",
   "execution_count": null,
   "metadata": {},
   "outputs": [],
   "source": []
  }
 ],
 "metadata": {
  "kernelspec": {
   "display_name": "Python 3",
   "language": "python",
   "name": "python3"
  },
  "language_info": {
   "codemirror_mode": {
    "name": "ipython",
    "version": 3
   },
   "file_extension": ".py",
   "mimetype": "text/x-python",
   "name": "python",
   "nbconvert_exporter": "python",
   "pygments_lexer": "ipython3",
   "version": "3.10.14"
  }
 },
 "nbformat": 4,
 "nbformat_minor": 2
}
